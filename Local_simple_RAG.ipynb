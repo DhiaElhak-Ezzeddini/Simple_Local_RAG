{
 "cells": [
  {
   "cell_type": "markdown",
   "id": "9ebf7775",
   "metadata": {},
   "source": [
    "Document Preprocessing and Embedding"
   ]
  },
  {
   "cell_type": "code",
   "execution_count": 2,
   "id": "d6d569ca",
   "metadata": {},
   "outputs": [
    {
     "name": "stdout",
     "output_type": "stream",
     "text": [
      "[INFO] file already exists\n"
     ]
    }
   ],
   "source": [
    "import os \n",
    "import requests\n",
    "pdf_path = \"human-nutrition-text.pdf\"\n",
    "\n",
    "if not os.path.exists(pdf_path):\n",
    "    print(f\"[Info] File doesn't exist , downloading ...\")\n",
    "    url = \"https://pressbooks.oer.hawaii.edu/humannutrition2/open/download?type=pdf\"\n",
    "    file_name = pdf_path\n",
    "    response = requests.get(url)\n",
    "    if response.status_code == 200 : \n",
    "        with open(file_name , \"wb\") as file  : \n",
    "            file.write(response.content)\n",
    "        print(f\"[INFO] the file has been downloaded and saved as {file_name}\")\n",
    "    else : \n",
    "        print(f\"[INFO Failed to download the file . Status Code : {response.status_code} ]\")\n",
    "else : \n",
    "    print(f\"[INFO] file already exists\")"
   ]
  },
  {
   "cell_type": "code",
   "execution_count": 3,
   "id": "89c619ad",
   "metadata": {},
   "outputs": [
    {
     "name": "stderr",
     "output_type": "stream",
     "text": [
      "1208it [00:01, 688.76it/s]\n"
     ]
    },
    {
     "data": {
      "text/plain": [
       "{'page_number': 50,\n",
       " 'page_char_count': 1320,\n",
       " 'page_word_count': 215,\n",
       " 'page_sentence_count': 4,\n",
       " 'page_token_count': 330.0,\n",
       " 'text': 'Minerals  Major Functions  Macro  Sodium  Fluid balance, nerve transmission, muscle contraction  Chloride  Fluid balance, stomach acid production  Potassium  Fluid balance, nerve transmission, muscle contraction  Calcium  Bone and teeth health maintenance, nerve transmission,  muscle contraction, blood clotting  Phosphorus  Bone and teeth health maintenance, acid-base balance  Magnesium  Protein production, nerve transmission, muscle  contraction  Sulfur  Protein production  Trace  Iron  Carries oxygen, assists in energy production  Zinc  Protein and DNA production, wound healing, growth,  immune system function  Iodine  Thyroid hormone production, growth, metabolism  Selenium  Antioxidant  Copper  Coenzyme, iron metabolism  Manganese  Coenzyme  Fluoride  Bone and teeth health maintenance, tooth decay  prevention  Chromium  Assists insulin in glucose metabolism  Molybdenum Coenzyme  Minerals  Minerals are solid inorganic substances that form crystals and are  classified depending on how much of them we need. Trace minerals,  such as molybdenum, selenium, zinc, iron, and iodine, are only  required in a few milligrams or less. Macrominerals, such as calcium,  magnesium, potassium, sodium, and phosphorus, are required in  hundreds of milligrams. Many minerals are critical for enzyme  Introduction  |  9'}"
      ]
     },
     "execution_count": 3,
     "metadata": {},
     "output_type": "execute_result"
    }
   ],
   "source": [
    "import fitz\n",
    "from tqdm import tqdm\n",
    "\n",
    "def text_formatter(text:str) -> str : \n",
    "    cleaned_text = text.replace(\"\\n\",\" \").strip()\n",
    "    return cleaned_text\n",
    "def open_read_pdf(pdf_path:str)->list[dict] : \n",
    "    doc = fitz.open(pdf_path)\n",
    "    pages_and_texts = []\n",
    "    for page_number , page in tqdm(enumerate(doc)) : \n",
    "        text = page.get_text()\n",
    "        text = text_formatter(text)\n",
    "        pages_and_texts.append({\"page_number\" : page_number, \n",
    "                                \"page_char_count\" : len(text),                ## for exploratory data analysis\n",
    "                                \"page_word_count\" : len(text.split(\" \")),     ## for exploratory data analysis\n",
    "                                \"page_sentence_count\" : len(text.split(\".\")), ## for exploratory data analysis\n",
    "                                \"page_token_count\" : len(text)/4, ## every token consists of 4 chars              \n",
    "                                \"text\":text})\n",
    "        \n",
    "    return pages_and_texts\n",
    "pages_and_texts = open_read_pdf(pdf_path)\n",
    "pages_and_texts[50]"
   ]
  },
  {
   "cell_type": "code",
   "execution_count": 4,
   "id": "4bab7e84",
   "metadata": {},
   "outputs": [
    {
     "data": {
      "text/html": [
       "<div>\n",
       "<style scoped>\n",
       "    .dataframe tbody tr th:only-of-type {\n",
       "        vertical-align: middle;\n",
       "    }\n",
       "\n",
       "    .dataframe tbody tr th {\n",
       "        vertical-align: top;\n",
       "    }\n",
       "\n",
       "    .dataframe thead th {\n",
       "        text-align: right;\n",
       "    }\n",
       "</style>\n",
       "<table border=\"1\" class=\"dataframe\">\n",
       "  <thead>\n",
       "    <tr style=\"text-align: right;\">\n",
       "      <th></th>\n",
       "      <th>page_number</th>\n",
       "      <th>page_char_count</th>\n",
       "      <th>page_word_count</th>\n",
       "      <th>page_sentence_count</th>\n",
       "      <th>page_token_count</th>\n",
       "      <th>text</th>\n",
       "    </tr>\n",
       "  </thead>\n",
       "  <tbody>\n",
       "    <tr>\n",
       "      <th>0</th>\n",
       "      <td>0</td>\n",
       "      <td>29</td>\n",
       "      <td>4</td>\n",
       "      <td>1</td>\n",
       "      <td>7.25</td>\n",
       "      <td>Human Nutrition: 2020 Edition</td>\n",
       "    </tr>\n",
       "    <tr>\n",
       "      <th>1</th>\n",
       "      <td>1</td>\n",
       "      <td>0</td>\n",
       "      <td>1</td>\n",
       "      <td>1</td>\n",
       "      <td>0.00</td>\n",
       "      <td></td>\n",
       "    </tr>\n",
       "    <tr>\n",
       "      <th>2</th>\n",
       "      <td>2</td>\n",
       "      <td>320</td>\n",
       "      <td>54</td>\n",
       "      <td>1</td>\n",
       "      <td>80.00</td>\n",
       "      <td>Human Nutrition: 2020  Edition  UNIVERSITY OF ...</td>\n",
       "    </tr>\n",
       "    <tr>\n",
       "      <th>3</th>\n",
       "      <td>3</td>\n",
       "      <td>212</td>\n",
       "      <td>32</td>\n",
       "      <td>3</td>\n",
       "      <td>53.00</td>\n",
       "      <td>Human Nutrition: 2020 Edition by University of...</td>\n",
       "    </tr>\n",
       "    <tr>\n",
       "      <th>4</th>\n",
       "      <td>4</td>\n",
       "      <td>797</td>\n",
       "      <td>145</td>\n",
       "      <td>3</td>\n",
       "      <td>199.25</td>\n",
       "      <td>Contents  Preface  University of Hawai‘i at Mā...</td>\n",
       "    </tr>\n",
       "  </tbody>\n",
       "</table>\n",
       "</div>"
      ],
      "text/plain": [
       "   page_number  page_char_count  page_word_count  page_sentence_count  \\\n",
       "0            0               29                4                    1   \n",
       "1            1                0                1                    1   \n",
       "2            2              320               54                    1   \n",
       "3            3              212               32                    3   \n",
       "4            4              797              145                    3   \n",
       "\n",
       "   page_token_count                                               text  \n",
       "0              7.25                      Human Nutrition: 2020 Edition  \n",
       "1              0.00                                                     \n",
       "2             80.00  Human Nutrition: 2020  Edition  UNIVERSITY OF ...  \n",
       "3             53.00  Human Nutrition: 2020 Edition by University of...  \n",
       "4            199.25  Contents  Preface  University of Hawai‘i at Mā...  "
      ]
     },
     "execution_count": 4,
     "metadata": {},
     "output_type": "execute_result"
    }
   ],
   "source": [
    "import pandas as pd \n",
    "df = pd.DataFrame(pages_and_texts)\n",
    "df.head()"
   ]
  },
  {
   "cell_type": "code",
   "execution_count": 5,
   "id": "46f3a17f",
   "metadata": {},
   "outputs": [
    {
     "data": {
      "text/html": [
       "<div>\n",
       "<style scoped>\n",
       "    .dataframe tbody tr th:only-of-type {\n",
       "        vertical-align: middle;\n",
       "    }\n",
       "\n",
       "    .dataframe tbody tr th {\n",
       "        vertical-align: top;\n",
       "    }\n",
       "\n",
       "    .dataframe thead th {\n",
       "        text-align: right;\n",
       "    }\n",
       "</style>\n",
       "<table border=\"1\" class=\"dataframe\">\n",
       "  <thead>\n",
       "    <tr style=\"text-align: right;\">\n",
       "      <th></th>\n",
       "      <th>page_number</th>\n",
       "      <th>page_char_count</th>\n",
       "      <th>page_word_count</th>\n",
       "      <th>page_sentence_count</th>\n",
       "      <th>page_token_count</th>\n",
       "    </tr>\n",
       "  </thead>\n",
       "  <tbody>\n",
       "    <tr>\n",
       "      <th>count</th>\n",
       "      <td>1208.0</td>\n",
       "      <td>1208.0</td>\n",
       "      <td>1208.0</td>\n",
       "      <td>1208.0</td>\n",
       "      <td>1208.0</td>\n",
       "    </tr>\n",
       "    <tr>\n",
       "      <th>mean</th>\n",
       "      <td>604.0</td>\n",
       "      <td>1148.0</td>\n",
       "      <td>198.0</td>\n",
       "      <td>14.0</td>\n",
       "      <td>287.0</td>\n",
       "    </tr>\n",
       "    <tr>\n",
       "      <th>std</th>\n",
       "      <td>349.0</td>\n",
       "      <td>560.0</td>\n",
       "      <td>96.0</td>\n",
       "      <td>10.0</td>\n",
       "      <td>140.0</td>\n",
       "    </tr>\n",
       "    <tr>\n",
       "      <th>min</th>\n",
       "      <td>0.0</td>\n",
       "      <td>0.0</td>\n",
       "      <td>1.0</td>\n",
       "      <td>1.0</td>\n",
       "      <td>0.0</td>\n",
       "    </tr>\n",
       "    <tr>\n",
       "      <th>25%</th>\n",
       "      <td>302.0</td>\n",
       "      <td>762.0</td>\n",
       "      <td>134.0</td>\n",
       "      <td>8.0</td>\n",
       "      <td>190.0</td>\n",
       "    </tr>\n",
       "    <tr>\n",
       "      <th>50%</th>\n",
       "      <td>604.0</td>\n",
       "      <td>1232.0</td>\n",
       "      <td>214.0</td>\n",
       "      <td>13.0</td>\n",
       "      <td>308.0</td>\n",
       "    </tr>\n",
       "    <tr>\n",
       "      <th>75%</th>\n",
       "      <td>905.0</td>\n",
       "      <td>1604.0</td>\n",
       "      <td>271.0</td>\n",
       "      <td>19.0</td>\n",
       "      <td>401.0</td>\n",
       "    </tr>\n",
       "    <tr>\n",
       "      <th>max</th>\n",
       "      <td>1207.0</td>\n",
       "      <td>2308.0</td>\n",
       "      <td>429.0</td>\n",
       "      <td>82.0</td>\n",
       "      <td>577.0</td>\n",
       "    </tr>\n",
       "  </tbody>\n",
       "</table>\n",
       "</div>"
      ],
      "text/plain": [
       "       page_number  page_char_count  page_word_count  page_sentence_count  \\\n",
       "count       1208.0           1208.0           1208.0               1208.0   \n",
       "mean         604.0           1148.0            198.0                 14.0   \n",
       "std          349.0            560.0             96.0                 10.0   \n",
       "min            0.0              0.0              1.0                  1.0   \n",
       "25%          302.0            762.0            134.0                  8.0   \n",
       "50%          604.0           1232.0            214.0                 13.0   \n",
       "75%          905.0           1604.0            271.0                 19.0   \n",
       "max         1207.0           2308.0            429.0                 82.0   \n",
       "\n",
       "       page_token_count  \n",
       "count            1208.0  \n",
       "mean              287.0  \n",
       "std               140.0  \n",
       "min                 0.0  \n",
       "25%               190.0  \n",
       "50%               308.0  \n",
       "75%               401.0  \n",
       "max               577.0  "
      ]
     },
     "execution_count": 5,
     "metadata": {},
     "output_type": "execute_result"
    }
   ],
   "source": [
    "df.describe().round()"
   ]
  },
  {
   "cell_type": "markdown",
   "id": "f00cd27c",
   "metadata": {},
   "source": [
    "Splitting pages into sentences"
   ]
  },
  {
   "cell_type": "code",
   "execution_count": 6,
   "id": "1a96b448",
   "metadata": {},
   "outputs": [
    {
     "data": {
      "text/plain": [
       "[this is a senteence ., this is another one ., A third one !]"
      ]
     },
     "execution_count": 6,
     "metadata": {},
     "output_type": "execute_result"
    }
   ],
   "source": [
    "from spacy.lang.en import English\n",
    "nlp = English()\n",
    "## adding spacy sentencizer ==> split text into sentences (link to the doc : https://spacy.io/api/sentencizer)\n",
    "sentencizer = nlp.add_pipe(\"sentencizer\")\n",
    "## doc instance for demonstration \n",
    "doc = nlp(\"this is a senteence . this is another one . A third one !\")\n",
    "assert len(list(doc.sents)) == 3\n",
    "list(doc.sents)"
   ]
  },
  {
   "cell_type": "code",
   "execution_count": 7,
   "id": "76fd7e34",
   "metadata": {},
   "outputs": [
    {
     "data": {
      "text/plain": [
       "{'page_number': 0,\n",
       " 'page_char_count': 29,\n",
       " 'page_word_count': 4,\n",
       " 'page_sentence_count': 1,\n",
       " 'page_token_count': 7.25,\n",
       " 'text': 'Human Nutrition: 2020 Edition'}"
      ]
     },
     "execution_count": 7,
     "metadata": {},
     "output_type": "execute_result"
    }
   ],
   "source": [
    "pages_and_texts[0]"
   ]
  },
  {
   "cell_type": "code",
   "execution_count": 8,
   "id": "20809c3f",
   "metadata": {},
   "outputs": [
    {
     "name": "stderr",
     "output_type": "stream",
     "text": [
      "  0%|          | 0/1208 [00:00<?, ?it/s]"
     ]
    },
    {
     "name": "stderr",
     "output_type": "stream",
     "text": [
      "100%|██████████| 1208/1208 [00:03<00:00, 383.54it/s]\n"
     ]
    }
   ],
   "source": [
    "for item in tqdm(pages_and_texts) : \n",
    "    item[\"sentences\"] = list(nlp(item[\"text\"]).sents) ## passing the text of each page to the sentencizer \n",
    "    item[\"sentences\"] = [str(sentences) for sentences in item[\"sentences\"]]\n",
    "    item[\"page_sentence_count_spacy\"] = len(item[\"sentences\"]) "
   ]
  },
  {
   "cell_type": "code",
   "execution_count": 9,
   "id": "fe6ff4ea",
   "metadata": {},
   "outputs": [
    {
     "data": {
      "text/plain": [
       "{'page_number': 1098,\n",
       " 'page_char_count': 1841,\n",
       " 'page_word_count': 307,\n",
       " 'page_sentence_count': 26,\n",
       " 'page_token_count': 460.25,\n",
       " 'text': 'harmful microorganisms that can cause foodborne illnesses.  Therefore, people who primarily eat raw foods should thoroughly  clean all fruit and vegetables before eating them. Poultry and other  meats should always be cooked before eating.12  Vegetarian and Vegan Diets  Vegetarian and vegan diets have been followed for thousands of  years for different reasons, including as part of a spiritual practice,  to show respect for living things, for health reasons, or because of  environmental concerns. For many people, being a vegetarian is a  logical outgrowth of “thinking green.” A meat-based food system  requires more energy, land, and water resources than a plant-based  food system. This may suggest that the plant-based diet is more  sustainable than the average meat-based diet in the U.S.By avoiding  animal flesh, vegetarians hope to look after their own health and  that of the planet at the same time. Broadly speaking, vegetarians  eat beans, grains, and fruits and vegetables, and do not eat red  meat, poultry, seafood, or any other animal flesh. Some vegetarians,  known as lacto vegetarians, will eat dairy products. Others, known  as lacto-ovo vegetarians, will eat dairy products and eggs. A vegan  diet is the most restrictive vegetarian diet—vegans do not eat dairy,  eggs, or other animal products, and some do not eat honey.  Vegetarian diets have a number of benefits. Well-balanced eating  plans can lower the risk of a number of chronic conditions,  including heart disease, diabetes, and obesity. They also help to  promote sustainable agriculture. However, if a vegetarian does not  vary his or her food choices, the diet may be insufficient in calcium,  12.\\xa0Raw Food Diet. WebMD.com.https://www.webmd.com/ diet/a-z/raw-foods-diet. Published November 21, 2016.  Accessed April 15, 2018.  Comparing Diets  |  1057',\n",
       " 'sentences': ['harmful microorganisms that can cause foodborne illnesses.',\n",
       "  ' Therefore, people who primarily eat raw foods should thoroughly  clean all fruit and vegetables before eating them.',\n",
       "  'Poultry and other  meats should always be cooked before eating.12  Vegetarian and Vegan Diets  Vegetarian and vegan diets have been followed for thousands of  years for different reasons, including as part of a spiritual practice,  to show respect for living things, for health reasons, or because of  environmental concerns.',\n",
       "  'For many people, being a vegetarian is a  logical outgrowth of “thinking green.”',\n",
       "  'A meat-based food system  requires more energy, land, and water resources than a plant-based  food system.',\n",
       "  'This may suggest that the plant-based diet is more  sustainable than the average meat-based diet in the U.S.By avoiding  animal flesh, vegetarians hope to look after their own health and  that of the planet at the same time.',\n",
       "  'Broadly speaking, vegetarians  eat beans, grains, and fruits and vegetables, and do not eat red  meat, poultry, seafood, or any other animal flesh.',\n",
       "  'Some vegetarians,  known as lacto vegetarians, will eat dairy products.',\n",
       "  'Others, known  as lacto-ovo vegetarians, will eat dairy products and eggs.',\n",
       "  'A vegan  diet is the most restrictive vegetarian diet—vegans do not eat dairy,  eggs, or other animal products, and some do not eat honey.',\n",
       "  ' Vegetarian diets have a number of benefits.',\n",
       "  'Well-balanced eating  plans can lower the risk of a number of chronic conditions,  including heart disease, diabetes, and obesity.',\n",
       "  'They also help to  promote sustainable agriculture.',\n",
       "  'However, if a vegetarian does not  vary his or her food choices, the diet may be insufficient in calcium,  12.',\n",
       "  '\\xa0Raw Food Diet.',\n",
       "  'WebMD.com.https://www.webmd.com/ diet/a-z/raw-foods-diet.',\n",
       "  'Published November 21, 2016.',\n",
       "  ' Accessed April 15, 2018.',\n",
       "  ' Comparing Diets  |  1057'],\n",
       " 'page_sentence_count_spacy': 19}"
      ]
     },
     "execution_count": 9,
     "metadata": {},
     "output_type": "execute_result"
    }
   ],
   "source": [
    "pages_and_texts[1098]"
   ]
  },
  {
   "cell_type": "code",
   "execution_count": null,
   "id": "0dc3915a",
   "metadata": {},
   "outputs": [],
   "source": []
  }
 ],
 "metadata": {
  "kernelspec": {
   "display_name": "Python 3",
   "language": "python",
   "name": "python3"
  },
  "language_info": {
   "codemirror_mode": {
    "name": "ipython",
    "version": 3
   },
   "file_extension": ".py",
   "mimetype": "text/x-python",
   "name": "python",
   "nbconvert_exporter": "python",
   "pygments_lexer": "ipython3",
   "version": "3.12.10"
  }
 },
 "nbformat": 4,
 "nbformat_minor": 5
}
