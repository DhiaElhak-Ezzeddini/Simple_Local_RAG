{
 "cells": [
  {
   "cell_type": "markdown",
   "id": "9ebf7775",
   "metadata": {},
   "source": [
    "Document Preprocessing and Embedding"
   ]
  },
  {
   "cell_type": "code",
   "execution_count": 1,
   "id": "d6d569ca",
   "metadata": {
    "execution": {
     "iopub.execute_input": "2025-07-26T19:14:15.335674Z",
     "iopub.status.busy": "2025-07-26T19:14:15.335442Z",
     "iopub.status.idle": "2025-07-26T19:14:17.717254Z",
     "shell.execute_reply": "2025-07-26T19:14:17.716375Z",
     "shell.execute_reply.started": "2025-07-26T19:14:15.335650Z"
    },
    "trusted": true
   },
   "outputs": [
    {
     "name": "stdout",
     "output_type": "stream",
     "text": [
      "[Info] File doesn't exist , downloading ...\n",
      "[INFO] the file has been downloaded and saved as human-nutrition-text.pdf\n"
     ]
    }
   ],
   "source": [
    "import os \n",
    "import requests\n",
    "pdf_path = \"human-nutrition-text.pdf\"\n",
    "\n",
    "if not os.path.exists(pdf_path):\n",
    "    print(f\"[Info] File doesn't exist , downloading ...\")\n",
    "    url = \"https://pressbooks.oer.hawaii.edu/humannutrition2/open/download?type=pdf\"\n",
    "    file_name = pdf_path\n",
    "    response = requests.get(url)\n",
    "    if response.status_code == 200 : \n",
    "        with open(file_name , \"wb\") as file  : \n",
    "            file.write(response.content)\n",
    "        print(f\"[INFO] the file has been downloaded and saved as {file_name}\")\n",
    "    else : \n",
    "        print(f\"[INFO Failed to download the file . Status Code : {response.status_code} ]\")\n",
    "else : \n",
    "    print(f\"[INFO] file already exists\")"
   ]
  },
  {
   "cell_type": "code",
   "execution_count": 3,
   "id": "00991534-04fc-4399-b1f4-dbb52a41b28d",
   "metadata": {
    "execution": {
     "iopub.execute_input": "2025-07-26T19:16:14.337440Z",
     "iopub.status.busy": "2025-07-26T19:16:14.336867Z",
     "iopub.status.idle": "2025-07-26T19:16:20.118199Z",
     "shell.execute_reply": "2025-07-26T19:16:20.117503Z",
     "shell.execute_reply.started": "2025-07-26T19:16:14.337418Z"
    },
    "trusted": true
   },
   "outputs": [
    {
     "name": "stdout",
     "output_type": "stream",
     "text": [
      "Collecting pymupdf\n",
      "  Downloading pymupdf-1.26.3-cp39-abi3-manylinux_2_28_x86_64.whl.metadata (3.4 kB)\n",
      "Downloading pymupdf-1.26.3-cp39-abi3-manylinux_2_28_x86_64.whl (24.1 MB)\n",
      "\u001b[2K   \u001b[90m━━━━━━━━━━━━━━━━━━━━━━━━━━━━━━━━━━━━━━━━\u001b[0m \u001b[32m24.1/24.1 MB\u001b[0m \u001b[31m61.7 MB/s\u001b[0m eta \u001b[36m0:00:00\u001b[0m:00:01\u001b[0m00:01\u001b[0m\n",
      "\u001b[?25hInstalling collected packages: pymupdf\n",
      "Successfully installed pymupdf-1.26.3\n"
     ]
    }
   ],
   "source": [
    "!pip install pymupdf"
   ]
  },
  {
   "cell_type": "code",
   "execution_count": 4,
   "id": "89c619ad",
   "metadata": {
    "execution": {
     "iopub.execute_input": "2025-07-26T19:18:23.462686Z",
     "iopub.status.busy": "2025-07-26T19:18:23.461938Z",
     "iopub.status.idle": "2025-07-26T19:18:25.162787Z",
     "shell.execute_reply": "2025-07-26T19:18:25.162188Z",
     "shell.execute_reply.started": "2025-07-26T19:18:23.462651Z"
    },
    "trusted": true
   },
   "outputs": [
    {
     "name": "stderr",
     "output_type": "stream",
     "text": [
      "1208it [00:01, 774.68it/s]\n"
     ]
    },
    {
     "data": {
      "text/plain": [
       "{'page_number': 50,\n",
       " 'page_char_count': 1320,\n",
       " 'page_word_count': 215,\n",
       " 'page_sentence_count': 4,\n",
       " 'page_token_count': 330.0,\n",
       " 'text': 'Minerals  Major Functions  Macro  Sodium  Fluid balance, nerve transmission, muscle contraction  Chloride  Fluid balance, stomach acid production  Potassium  Fluid balance, nerve transmission, muscle contraction  Calcium  Bone and teeth health maintenance, nerve transmission,  muscle contraction, blood clotting  Phosphorus  Bone and teeth health maintenance, acid-base balance  Magnesium  Protein production, nerve transmission, muscle  contraction  Sulfur  Protein production  Trace  Iron  Carries oxygen, assists in energy production  Zinc  Protein and DNA production, wound healing, growth,  immune system function  Iodine  Thyroid hormone production, growth, metabolism  Selenium  Antioxidant  Copper  Coenzyme, iron metabolism  Manganese  Coenzyme  Fluoride  Bone and teeth health maintenance, tooth decay  prevention  Chromium  Assists insulin in glucose metabolism  Molybdenum Coenzyme  Minerals  Minerals are solid inorganic substances that form crystals and are  classified depending on how much of them we need. Trace minerals,  such as molybdenum, selenium, zinc, iron, and iodine, are only  required in a few milligrams or less. Macrominerals, such as calcium,  magnesium, potassium, sodium, and phosphorus, are required in  hundreds of milligrams. Many minerals are critical for enzyme  Introduction  |  9'}"
      ]
     },
     "execution_count": 4,
     "metadata": {},
     "output_type": "execute_result"
    }
   ],
   "source": [
    "import fitz\n",
    "from tqdm import tqdm\n",
    "\n",
    "def text_formatter(text:str) -> str : \n",
    "    cleaned_text = text.replace(\"\\n\",\" \").strip()\n",
    "    return cleaned_text\n",
    "def open_read_pdf(pdf_path:str)->list[dict] : \n",
    "    doc = fitz.open(pdf_path)\n",
    "    pages_and_texts = []\n",
    "    for page_number , page in tqdm(enumerate(doc)) : \n",
    "        text = page.get_text()\n",
    "        text = text_formatter(text)\n",
    "        pages_and_texts.append({\"page_number\" : page_number, \n",
    "                                \"page_char_count\" : len(text),                ## for exploratory data analysis\n",
    "                                \"page_word_count\" : len(text.split(\" \")),     ## for exploratory data analysis\n",
    "                                \"page_sentence_count\" : len(text.split(\".\")), ## for exploratory data analysis\n",
    "                                \"page_token_count\" : len(text)/4, ## every token consists of 4 chars              \n",
    "                                \"text\":text})\n",
    "        \n",
    "    return pages_and_texts\n",
    "pages_and_texts = open_read_pdf(pdf_path)\n",
    "pages_and_texts[50]"
   ]
  },
  {
   "cell_type": "code",
   "execution_count": 5,
   "id": "4bab7e84",
   "metadata": {
    "execution": {
     "iopub.execute_input": "2025-07-26T19:18:29.492052Z",
     "iopub.status.busy": "2025-07-26T19:18:29.491784Z",
     "iopub.status.idle": "2025-07-26T19:18:29.841418Z",
     "shell.execute_reply": "2025-07-26T19:18:29.840693Z",
     "shell.execute_reply.started": "2025-07-26T19:18:29.492032Z"
    },
    "trusted": true
   },
   "outputs": [
    {
     "data": {
      "text/html": [
       "<div>\n",
       "<style scoped>\n",
       "    .dataframe tbody tr th:only-of-type {\n",
       "        vertical-align: middle;\n",
       "    }\n",
       "\n",
       "    .dataframe tbody tr th {\n",
       "        vertical-align: top;\n",
       "    }\n",
       "\n",
       "    .dataframe thead th {\n",
       "        text-align: right;\n",
       "    }\n",
       "</style>\n",
       "<table border=\"1\" class=\"dataframe\">\n",
       "  <thead>\n",
       "    <tr style=\"text-align: right;\">\n",
       "      <th></th>\n",
       "      <th>page_number</th>\n",
       "      <th>page_char_count</th>\n",
       "      <th>page_word_count</th>\n",
       "      <th>page_sentence_count</th>\n",
       "      <th>page_token_count</th>\n",
       "      <th>text</th>\n",
       "    </tr>\n",
       "  </thead>\n",
       "  <tbody>\n",
       "    <tr>\n",
       "      <th>0</th>\n",
       "      <td>0</td>\n",
       "      <td>29</td>\n",
       "      <td>4</td>\n",
       "      <td>1</td>\n",
       "      <td>7.25</td>\n",
       "      <td>Human Nutrition: 2020 Edition</td>\n",
       "    </tr>\n",
       "    <tr>\n",
       "      <th>1</th>\n",
       "      <td>1</td>\n",
       "      <td>0</td>\n",
       "      <td>1</td>\n",
       "      <td>1</td>\n",
       "      <td>0.00</td>\n",
       "      <td></td>\n",
       "    </tr>\n",
       "    <tr>\n",
       "      <th>2</th>\n",
       "      <td>2</td>\n",
       "      <td>320</td>\n",
       "      <td>54</td>\n",
       "      <td>1</td>\n",
       "      <td>80.00</td>\n",
       "      <td>Human Nutrition: 2020  Edition  UNIVERSITY OF ...</td>\n",
       "    </tr>\n",
       "    <tr>\n",
       "      <th>3</th>\n",
       "      <td>3</td>\n",
       "      <td>212</td>\n",
       "      <td>32</td>\n",
       "      <td>3</td>\n",
       "      <td>53.00</td>\n",
       "      <td>Human Nutrition: 2020 Edition by University of...</td>\n",
       "    </tr>\n",
       "    <tr>\n",
       "      <th>4</th>\n",
       "      <td>4</td>\n",
       "      <td>797</td>\n",
       "      <td>145</td>\n",
       "      <td>3</td>\n",
       "      <td>199.25</td>\n",
       "      <td>Contents  Preface  University of Hawai‘i at Mā...</td>\n",
       "    </tr>\n",
       "  </tbody>\n",
       "</table>\n",
       "</div>"
      ],
      "text/plain": [
       "   page_number  page_char_count  page_word_count  page_sentence_count  \\\n",
       "0            0               29                4                    1   \n",
       "1            1                0                1                    1   \n",
       "2            2              320               54                    1   \n",
       "3            3              212               32                    3   \n",
       "4            4              797              145                    3   \n",
       "\n",
       "   page_token_count                                               text  \n",
       "0              7.25                      Human Nutrition: 2020 Edition  \n",
       "1              0.00                                                     \n",
       "2             80.00  Human Nutrition: 2020  Edition  UNIVERSITY OF ...  \n",
       "3             53.00  Human Nutrition: 2020 Edition by University of...  \n",
       "4            199.25  Contents  Preface  University of Hawai‘i at Mā...  "
      ]
     },
     "execution_count": 5,
     "metadata": {},
     "output_type": "execute_result"
    }
   ],
   "source": [
    "import pandas as pd \n",
    "df = pd.DataFrame(pages_and_texts)\n",
    "df.head()"
   ]
  },
  {
   "cell_type": "code",
   "execution_count": 6,
   "id": "46f3a17f",
   "metadata": {
    "execution": {
     "iopub.execute_input": "2025-07-26T19:18:36.832350Z",
     "iopub.status.busy": "2025-07-26T19:18:36.831919Z",
     "iopub.status.idle": "2025-07-26T19:18:36.895397Z",
     "shell.execute_reply": "2025-07-26T19:18:36.894642Z",
     "shell.execute_reply.started": "2025-07-26T19:18:36.832329Z"
    },
    "trusted": true
   },
   "outputs": [
    {
     "data": {
      "text/html": [
       "<div>\n",
       "<style scoped>\n",
       "    .dataframe tbody tr th:only-of-type {\n",
       "        vertical-align: middle;\n",
       "    }\n",
       "\n",
       "    .dataframe tbody tr th {\n",
       "        vertical-align: top;\n",
       "    }\n",
       "\n",
       "    .dataframe thead th {\n",
       "        text-align: right;\n",
       "    }\n",
       "</style>\n",
       "<table border=\"1\" class=\"dataframe\">\n",
       "  <thead>\n",
       "    <tr style=\"text-align: right;\">\n",
       "      <th></th>\n",
       "      <th>page_number</th>\n",
       "      <th>page_char_count</th>\n",
       "      <th>page_word_count</th>\n",
       "      <th>page_sentence_count</th>\n",
       "      <th>page_token_count</th>\n",
       "    </tr>\n",
       "  </thead>\n",
       "  <tbody>\n",
       "    <tr>\n",
       "      <th>count</th>\n",
       "      <td>1208.0</td>\n",
       "      <td>1208.0</td>\n",
       "      <td>1208.0</td>\n",
       "      <td>1208.0</td>\n",
       "      <td>1208.0</td>\n",
       "    </tr>\n",
       "    <tr>\n",
       "      <th>mean</th>\n",
       "      <td>604.0</td>\n",
       "      <td>1148.0</td>\n",
       "      <td>198.0</td>\n",
       "      <td>14.0</td>\n",
       "      <td>287.0</td>\n",
       "    </tr>\n",
       "    <tr>\n",
       "      <th>std</th>\n",
       "      <td>349.0</td>\n",
       "      <td>560.0</td>\n",
       "      <td>96.0</td>\n",
       "      <td>10.0</td>\n",
       "      <td>140.0</td>\n",
       "    </tr>\n",
       "    <tr>\n",
       "      <th>min</th>\n",
       "      <td>0.0</td>\n",
       "      <td>0.0</td>\n",
       "      <td>1.0</td>\n",
       "      <td>1.0</td>\n",
       "      <td>0.0</td>\n",
       "    </tr>\n",
       "    <tr>\n",
       "      <th>25%</th>\n",
       "      <td>302.0</td>\n",
       "      <td>762.0</td>\n",
       "      <td>134.0</td>\n",
       "      <td>8.0</td>\n",
       "      <td>190.0</td>\n",
       "    </tr>\n",
       "    <tr>\n",
       "      <th>50%</th>\n",
       "      <td>604.0</td>\n",
       "      <td>1232.0</td>\n",
       "      <td>214.0</td>\n",
       "      <td>13.0</td>\n",
       "      <td>308.0</td>\n",
       "    </tr>\n",
       "    <tr>\n",
       "      <th>75%</th>\n",
       "      <td>905.0</td>\n",
       "      <td>1604.0</td>\n",
       "      <td>271.0</td>\n",
       "      <td>19.0</td>\n",
       "      <td>401.0</td>\n",
       "    </tr>\n",
       "    <tr>\n",
       "      <th>max</th>\n",
       "      <td>1207.0</td>\n",
       "      <td>2308.0</td>\n",
       "      <td>429.0</td>\n",
       "      <td>82.0</td>\n",
       "      <td>577.0</td>\n",
       "    </tr>\n",
       "  </tbody>\n",
       "</table>\n",
       "</div>"
      ],
      "text/plain": [
       "       page_number  page_char_count  page_word_count  page_sentence_count  \\\n",
       "count       1208.0           1208.0           1208.0               1208.0   \n",
       "mean         604.0           1148.0            198.0                 14.0   \n",
       "std          349.0            560.0             96.0                 10.0   \n",
       "min            0.0              0.0              1.0                  1.0   \n",
       "25%          302.0            762.0            134.0                  8.0   \n",
       "50%          604.0           1232.0            214.0                 13.0   \n",
       "75%          905.0           1604.0            271.0                 19.0   \n",
       "max         1207.0           2308.0            429.0                 82.0   \n",
       "\n",
       "       page_token_count  \n",
       "count            1208.0  \n",
       "mean              287.0  \n",
       "std               140.0  \n",
       "min                 0.0  \n",
       "25%               190.0  \n",
       "50%               308.0  \n",
       "75%               401.0  \n",
       "max               577.0  "
      ]
     },
     "execution_count": 6,
     "metadata": {},
     "output_type": "execute_result"
    }
   ],
   "source": [
    "df.describe().round()"
   ]
  },
  {
   "cell_type": "markdown",
   "id": "f00cd27c",
   "metadata": {},
   "source": [
    "Splitting pages into sentences"
   ]
  },
  {
   "cell_type": "code",
   "execution_count": 7,
   "id": "1a96b448",
   "metadata": {
    "execution": {
     "iopub.execute_input": "2025-07-26T19:18:39.340411Z",
     "iopub.status.busy": "2025-07-26T19:18:39.340091Z",
     "iopub.status.idle": "2025-07-26T19:18:46.381151Z",
     "shell.execute_reply": "2025-07-26T19:18:46.380524Z",
     "shell.execute_reply.started": "2025-07-26T19:18:39.340391Z"
    },
    "trusted": true
   },
   "outputs": [
    {
     "data": {
      "text/plain": [
       "[this is a senteence ., this is another one ., A third one !]"
      ]
     },
     "execution_count": 7,
     "metadata": {},
     "output_type": "execute_result"
    }
   ],
   "source": [
    "from spacy.lang.en import English\n",
    "nlp = English()\n",
    "## adding spacy sentencizer ==> split text into sentences (link to the doc : https://spacy.io/api/sentencizer)\n",
    "sentencizer = nlp.add_pipe(\"sentencizer\")\n",
    "## doc instance for demonstration \n",
    "doc = nlp(\"this is a senteence . this is another one . A third one !\")\n",
    "assert len(list(doc.sents)) == 3\n",
    "list(doc.sents)"
   ]
  },
  {
   "cell_type": "code",
   "execution_count": 8,
   "id": "76fd7e34",
   "metadata": {
    "execution": {
     "iopub.execute_input": "2025-07-26T19:18:54.612444Z",
     "iopub.status.busy": "2025-07-26T19:18:54.611567Z",
     "iopub.status.idle": "2025-07-26T19:18:54.616975Z",
     "shell.execute_reply": "2025-07-26T19:18:54.616461Z",
     "shell.execute_reply.started": "2025-07-26T19:18:54.612417Z"
    },
    "trusted": true
   },
   "outputs": [
    {
     "data": {
      "text/plain": [
       "{'page_number': 0,\n",
       " 'page_char_count': 29,\n",
       " 'page_word_count': 4,\n",
       " 'page_sentence_count': 1,\n",
       " 'page_token_count': 7.25,\n",
       " 'text': 'Human Nutrition: 2020 Edition'}"
      ]
     },
     "execution_count": 8,
     "metadata": {},
     "output_type": "execute_result"
    }
   ],
   "source": [
    "pages_and_texts[0]"
   ]
  },
  {
   "cell_type": "code",
   "execution_count": 9,
   "id": "20809c3f",
   "metadata": {
    "execution": {
     "iopub.execute_input": "2025-07-26T19:18:56.127166Z",
     "iopub.status.busy": "2025-07-26T19:18:56.126483Z",
     "iopub.status.idle": "2025-07-26T19:18:58.163960Z",
     "shell.execute_reply": "2025-07-26T19:18:58.163056Z",
     "shell.execute_reply.started": "2025-07-26T19:18:56.127125Z"
    },
    "trusted": true
   },
   "outputs": [
    {
     "name": "stderr",
     "output_type": "stream",
     "text": [
      "100%|██████████| 1208/1208 [00:02<00:00, 594.98it/s]\n"
     ]
    }
   ],
   "source": [
    "for item in tqdm(pages_and_texts) : \n",
    "    item[\"sentences\"] = list(nlp(item[\"text\"]).sents) ## passing the text of each page to the sentencizer \n",
    "    item[\"sentences\"] = [str(sentences) for sentences in item[\"sentences\"]]\n",
    "    item[\"page_sentence_count_spacy\"] = len(item[\"sentences\"]) "
   ]
  },
  {
   "cell_type": "code",
   "execution_count": 10,
   "id": "fe6ff4ea",
   "metadata": {
    "execution": {
     "iopub.execute_input": "2025-07-26T19:18:58.165651Z",
     "iopub.status.busy": "2025-07-26T19:18:58.165156Z",
     "iopub.status.idle": "2025-07-26T19:18:58.170622Z",
     "shell.execute_reply": "2025-07-26T19:18:58.169836Z",
     "shell.execute_reply.started": "2025-07-26T19:18:58.165631Z"
    },
    "trusted": true
   },
   "outputs": [
    {
     "data": {
      "text/plain": [
       "{'page_number': 1098,\n",
       " 'page_char_count': 1841,\n",
       " 'page_word_count': 307,\n",
       " 'page_sentence_count': 26,\n",
       " 'page_token_count': 460.25,\n",
       " 'text': 'harmful microorganisms that can cause foodborne illnesses.  Therefore, people who primarily eat raw foods should thoroughly  clean all fruit and vegetables before eating them. Poultry and other  meats should always be cooked before eating.12  Vegetarian and Vegan Diets  Vegetarian and vegan diets have been followed for thousands of  years for different reasons, including as part of a spiritual practice,  to show respect for living things, for health reasons, or because of  environmental concerns. For many people, being a vegetarian is a  logical outgrowth of “thinking green.” A meat-based food system  requires more energy, land, and water resources than a plant-based  food system. This may suggest that the plant-based diet is more  sustainable than the average meat-based diet in the U.S.By avoiding  animal flesh, vegetarians hope to look after their own health and  that of the planet at the same time. Broadly speaking, vegetarians  eat beans, grains, and fruits and vegetables, and do not eat red  meat, poultry, seafood, or any other animal flesh. Some vegetarians,  known as lacto vegetarians, will eat dairy products. Others, known  as lacto-ovo vegetarians, will eat dairy products and eggs. A vegan  diet is the most restrictive vegetarian diet—vegans do not eat dairy,  eggs, or other animal products, and some do not eat honey.  Vegetarian diets have a number of benefits. Well-balanced eating  plans can lower the risk of a number of chronic conditions,  including heart disease, diabetes, and obesity. They also help to  promote sustainable agriculture. However, if a vegetarian does not  vary his or her food choices, the diet may be insufficient in calcium,  12.\\xa0Raw Food Diet. WebMD.com.https://www.webmd.com/ diet/a-z/raw-foods-diet. Published November 21, 2016.  Accessed April 15, 2018.  Comparing Diets  |  1057',\n",
       " 'sentences': ['harmful microorganisms that can cause foodborne illnesses.',\n",
       "  ' Therefore, people who primarily eat raw foods should thoroughly  clean all fruit and vegetables before eating them.',\n",
       "  'Poultry and other  meats should always be cooked before eating.12  Vegetarian and Vegan Diets  Vegetarian and vegan diets have been followed for thousands of  years for different reasons, including as part of a spiritual practice,  to show respect for living things, for health reasons, or because of  environmental concerns.',\n",
       "  'For many people, being a vegetarian is a  logical outgrowth of “thinking green.”',\n",
       "  'A meat-based food system  requires more energy, land, and water resources than a plant-based  food system.',\n",
       "  'This may suggest that the plant-based diet is more  sustainable than the average meat-based diet in the U.S.By avoiding  animal flesh, vegetarians hope to look after their own health and  that of the planet at the same time.',\n",
       "  'Broadly speaking, vegetarians  eat beans, grains, and fruits and vegetables, and do not eat red  meat, poultry, seafood, or any other animal flesh.',\n",
       "  'Some vegetarians,  known as lacto vegetarians, will eat dairy products.',\n",
       "  'Others, known  as lacto-ovo vegetarians, will eat dairy products and eggs.',\n",
       "  'A vegan  diet is the most restrictive vegetarian diet—vegans do not eat dairy,  eggs, or other animal products, and some do not eat honey.',\n",
       "  ' Vegetarian diets have a number of benefits.',\n",
       "  'Well-balanced eating  plans can lower the risk of a number of chronic conditions,  including heart disease, diabetes, and obesity.',\n",
       "  'They also help to  promote sustainable agriculture.',\n",
       "  'However, if a vegetarian does not  vary his or her food choices, the diet may be insufficient in calcium,  12.',\n",
       "  '\\xa0Raw Food Diet.',\n",
       "  'WebMD.com.https://www.webmd.com/ diet/a-z/raw-foods-diet.',\n",
       "  'Published November 21, 2016.',\n",
       "  ' Accessed April 15, 2018.',\n",
       "  ' Comparing Diets  |  1057'],\n",
       " 'page_sentence_count_spacy': 19}"
      ]
     },
     "execution_count": 10,
     "metadata": {},
     "output_type": "execute_result"
    }
   ],
   "source": [
    "pages_and_texts[1098]"
   ]
  },
  {
   "cell_type": "code",
   "execution_count": 11,
   "id": "0dc3915a",
   "metadata": {
    "execution": {
     "iopub.execute_input": "2025-07-26T19:18:58.431690Z",
     "iopub.status.busy": "2025-07-26T19:18:58.431316Z",
     "iopub.status.idle": "2025-07-26T19:18:58.457050Z",
     "shell.execute_reply": "2025-07-26T19:18:58.456487Z",
     "shell.execute_reply.started": "2025-07-26T19:18:58.431671Z"
    },
    "trusted": true
   },
   "outputs": [
    {
     "data": {
      "text/html": [
       "<div>\n",
       "<style scoped>\n",
       "    .dataframe tbody tr th:only-of-type {\n",
       "        vertical-align: middle;\n",
       "    }\n",
       "\n",
       "    .dataframe tbody tr th {\n",
       "        vertical-align: top;\n",
       "    }\n",
       "\n",
       "    .dataframe thead th {\n",
       "        text-align: right;\n",
       "    }\n",
       "</style>\n",
       "<table border=\"1\" class=\"dataframe\">\n",
       "  <thead>\n",
       "    <tr style=\"text-align: right;\">\n",
       "      <th></th>\n",
       "      <th>page_number</th>\n",
       "      <th>page_char_count</th>\n",
       "      <th>page_word_count</th>\n",
       "      <th>page_sentence_count</th>\n",
       "      <th>page_token_count</th>\n",
       "      <th>page_sentence_count_spacy</th>\n",
       "    </tr>\n",
       "  </thead>\n",
       "  <tbody>\n",
       "    <tr>\n",
       "      <th>count</th>\n",
       "      <td>1208.00</td>\n",
       "      <td>1208.00</td>\n",
       "      <td>1208.00</td>\n",
       "      <td>1208.00</td>\n",
       "      <td>1208.00</td>\n",
       "      <td>1208.00</td>\n",
       "    </tr>\n",
       "    <tr>\n",
       "      <th>mean</th>\n",
       "      <td>603.50</td>\n",
       "      <td>1148.00</td>\n",
       "      <td>198.30</td>\n",
       "      <td>14.18</td>\n",
       "      <td>287.00</td>\n",
       "      <td>10.32</td>\n",
       "    </tr>\n",
       "    <tr>\n",
       "      <th>std</th>\n",
       "      <td>348.86</td>\n",
       "      <td>560.38</td>\n",
       "      <td>95.76</td>\n",
       "      <td>9.54</td>\n",
       "      <td>140.10</td>\n",
       "      <td>6.30</td>\n",
       "    </tr>\n",
       "    <tr>\n",
       "      <th>min</th>\n",
       "      <td>0.00</td>\n",
       "      <td>0.00</td>\n",
       "      <td>1.00</td>\n",
       "      <td>1.00</td>\n",
       "      <td>0.00</td>\n",
       "      <td>0.00</td>\n",
       "    </tr>\n",
       "    <tr>\n",
       "      <th>25%</th>\n",
       "      <td>301.75</td>\n",
       "      <td>762.00</td>\n",
       "      <td>134.00</td>\n",
       "      <td>8.00</td>\n",
       "      <td>190.50</td>\n",
       "      <td>5.00</td>\n",
       "    </tr>\n",
       "    <tr>\n",
       "      <th>50%</th>\n",
       "      <td>603.50</td>\n",
       "      <td>1231.50</td>\n",
       "      <td>214.50</td>\n",
       "      <td>13.00</td>\n",
       "      <td>307.88</td>\n",
       "      <td>10.00</td>\n",
       "    </tr>\n",
       "    <tr>\n",
       "      <th>75%</th>\n",
       "      <td>905.25</td>\n",
       "      <td>1603.50</td>\n",
       "      <td>271.00</td>\n",
       "      <td>19.00</td>\n",
       "      <td>400.88</td>\n",
       "      <td>15.00</td>\n",
       "    </tr>\n",
       "    <tr>\n",
       "      <th>max</th>\n",
       "      <td>1207.00</td>\n",
       "      <td>2308.00</td>\n",
       "      <td>429.00</td>\n",
       "      <td>82.00</td>\n",
       "      <td>577.00</td>\n",
       "      <td>28.00</td>\n",
       "    </tr>\n",
       "  </tbody>\n",
       "</table>\n",
       "</div>"
      ],
      "text/plain": [
       "       page_number  page_char_count  page_word_count  page_sentence_count  \\\n",
       "count      1208.00          1208.00          1208.00              1208.00   \n",
       "mean        603.50          1148.00           198.30                14.18   \n",
       "std         348.86           560.38            95.76                 9.54   \n",
       "min           0.00             0.00             1.00                 1.00   \n",
       "25%         301.75           762.00           134.00                 8.00   \n",
       "50%         603.50          1231.50           214.50                13.00   \n",
       "75%         905.25          1603.50           271.00                19.00   \n",
       "max        1207.00          2308.00           429.00                82.00   \n",
       "\n",
       "       page_token_count  page_sentence_count_spacy  \n",
       "count           1208.00                    1208.00  \n",
       "mean             287.00                      10.32  \n",
       "std              140.10                       6.30  \n",
       "min                0.00                       0.00  \n",
       "25%              190.50                       5.00  \n",
       "50%              307.88                      10.00  \n",
       "75%              400.88                      15.00  \n",
       "max              577.00                      28.00  "
      ]
     },
     "execution_count": 11,
     "metadata": {},
     "output_type": "execute_result"
    }
   ],
   "source": [
    "df = pd.DataFrame(pages_and_texts)\n",
    "df.describe().round(2)"
   ]
  },
  {
   "cell_type": "code",
   "execution_count": 12,
   "id": "91742608",
   "metadata": {
    "execution": {
     "iopub.execute_input": "2025-07-26T19:19:00.292026Z",
     "iopub.status.busy": "2025-07-26T19:19:00.291480Z",
     "iopub.status.idle": "2025-07-26T19:19:00.296101Z",
     "shell.execute_reply": "2025-07-26T19:19:00.295188Z",
     "shell.execute_reply.started": "2025-07-26T19:19:00.292006Z"
    },
    "trusted": true
   },
   "outputs": [],
   "source": [
    "## chunking sentences together  \n",
    "## we will into groups of 10 sentences\n",
    "## LangChain , for examples , can help in chunking\n",
    "num_sent_chunk_size = 10\n",
    "## function to split lists of texts recursively into chunk size \n",
    "def split_list(input_list:list[str] , slice_size:int) -> list[list[str]] : \n",
    "    return [input_list[i:slice_size+i] for i in range(0,len(input_list),slice_size)]"
   ]
  },
  {
   "cell_type": "code",
   "execution_count": 13,
   "id": "770a3b0c",
   "metadata": {
    "execution": {
     "iopub.execute_input": "2025-07-26T19:19:01.181402Z",
     "iopub.status.busy": "2025-07-26T19:19:01.180929Z",
     "iopub.status.idle": "2025-07-26T19:19:01.186796Z",
     "shell.execute_reply": "2025-07-26T19:19:01.186175Z",
     "shell.execute_reply.started": "2025-07-26T19:19:01.181379Z"
    },
    "trusted": true
   },
   "outputs": [
    {
     "data": {
      "text/plain": [
       "[[0, 1, 2, 3, 4, 5, 6, 7, 8, 9],\n",
       " [10, 11, 12, 13, 14, 15, 16, 17, 18, 19],\n",
       " [20, 21, 22, 23, 24]]"
      ]
     },
     "execution_count": 13,
     "metadata": {},
     "output_type": "execute_result"
    }
   ],
   "source": [
    "test_list = list(range(25))\n",
    "split_list(test_list , 10)"
   ]
  },
  {
   "cell_type": "code",
   "execution_count": 14,
   "id": "fdc5cc31",
   "metadata": {
    "execution": {
     "iopub.execute_input": "2025-07-26T19:19:02.992239Z",
     "iopub.status.busy": "2025-07-26T19:19:02.991917Z",
     "iopub.status.idle": "2025-07-26T19:19:03.004748Z",
     "shell.execute_reply": "2025-07-26T19:19:03.003841Z",
     "shell.execute_reply.started": "2025-07-26T19:19:02.992214Z"
    },
    "trusted": true
   },
   "outputs": [
    {
     "name": "stderr",
     "output_type": "stream",
     "text": [
      "100%|██████████| 1208/1208 [00:00<00:00, 241675.14it/s]\n"
     ]
    }
   ],
   "source": [
    "for item in tqdm(pages_and_texts) : \n",
    "    item[\"sentence_chunks\"] = split_list(input_list=item[\"sentences\"] , slice_size=num_sent_chunk_size)\n",
    "    item[\"num_chunks\"] = len(item[\"sentence_chunks\"])"
   ]
  },
  {
   "cell_type": "code",
   "execution_count": 15,
   "id": "9a97e1b0",
   "metadata": {
    "execution": {
     "iopub.execute_input": "2025-07-26T19:19:04.192578Z",
     "iopub.status.busy": "2025-07-26T19:19:04.192020Z",
     "iopub.status.idle": "2025-07-26T19:19:04.197846Z",
     "shell.execute_reply": "2025-07-26T19:19:04.196982Z",
     "shell.execute_reply.started": "2025-07-26T19:19:04.192551Z"
    },
    "trusted": true
   },
   "outputs": [
    {
     "data": {
      "text/plain": [
       "{'page_number': 1000,\n",
       " 'page_char_count': 1487,\n",
       " 'page_word_count': 246,\n",
       " 'page_sentence_count': 12,\n",
       " 'page_token_count': 371.75,\n",
       " 'text': 'Sports Nutrition  UNIVERSITY OF HAWAI‘I AT MĀNOA FOOD SCIENCE AND HUMAN  NUTRITION PROGRAM AND HUMAN NUTRITION PROGRAM  Nutrient Needs for Athletes  Nutrition is essential to your performance during all types of  exercise. The foods consumed in your diet are used to provide  the body with enough energy to fuel an activity regardless of the  intensity of activity. Athletes have different nutritional needs to  support the vigorous level they compete and practice at.  Energy Needs  To determine an athletes nutritional needs, it is important to revisit  the concept of energy metabolism. Energy intake is the foundation  of an athlete’s diet because it supports optimal body functions,  determines the amount of intake of macronutrients and  micronutrients, and assists in the maintaining of body composition.  Energy needs for athletes increase depending on their energy  expenditure. The energy expended during physical activity are  contingent on the intensity, duration, and frequency of the exercise.  Competitive athletes may need 3,000 to over 5,000 calories daily  compared to a typical inactive individual who needs about 2,000  calories per day. Energy needs are also affected by an individual’s  gender, age, and weight. \\xa0Weight-bearing exercises, such as  running, burn more calories per hour than non-weight bearing  exercises, such as swimming. Weight-bearing exercises requires  your body to move against gravity which requires more energy. Men  Sports Nutrition  |  959',\n",
       " 'sentences': ['Sports Nutrition  UNIVERSITY OF HAWAI‘I AT MĀNOA FOOD SCIENCE AND HUMAN  NUTRITION PROGRAM AND HUMAN NUTRITION PROGRAM  Nutrient Needs for Athletes  Nutrition is essential to your performance during all types of  exercise.',\n",
       "  'The foods consumed in your diet are used to provide  the body with enough energy to fuel an activity regardless of the  intensity of activity.',\n",
       "  'Athletes have different nutritional needs to  support the vigorous level they compete and practice at.',\n",
       "  ' Energy Needs  To determine an athletes nutritional needs, it is important to revisit  the concept of energy metabolism.',\n",
       "  'Energy intake is the foundation  of an athlete’s diet because it supports optimal body functions,  determines the amount of intake of macronutrients and  micronutrients, and assists in the maintaining of body composition.',\n",
       "  ' Energy needs for athletes increase depending on their energy  expenditure.',\n",
       "  'The energy expended during physical activity are  contingent on the intensity, duration, and frequency of the exercise.',\n",
       "  ' Competitive athletes may need 3,000 to over 5,000 calories daily  compared to a typical inactive individual who needs about 2,000  calories per day.',\n",
       "  'Energy needs are also affected by an individual’s  gender, age, and weight.',\n",
       "  '\\xa0Weight-bearing exercises, such as  running, burn more calories per hour than non-weight bearing  exercises, such as swimming.',\n",
       "  'Weight-bearing exercises requires  your body to move against gravity which requires more energy.',\n",
       "  'Men  Sports Nutrition  |  959'],\n",
       " 'page_sentence_count_spacy': 12,\n",
       " 'sentence_chunks': [['Sports Nutrition  UNIVERSITY OF HAWAI‘I AT MĀNOA FOOD SCIENCE AND HUMAN  NUTRITION PROGRAM AND HUMAN NUTRITION PROGRAM  Nutrient Needs for Athletes  Nutrition is essential to your performance during all types of  exercise.',\n",
       "   'The foods consumed in your diet are used to provide  the body with enough energy to fuel an activity regardless of the  intensity of activity.',\n",
       "   'Athletes have different nutritional needs to  support the vigorous level they compete and practice at.',\n",
       "   ' Energy Needs  To determine an athletes nutritional needs, it is important to revisit  the concept of energy metabolism.',\n",
       "   'Energy intake is the foundation  of an athlete’s diet because it supports optimal body functions,  determines the amount of intake of macronutrients and  micronutrients, and assists in the maintaining of body composition.',\n",
       "   ' Energy needs for athletes increase depending on their energy  expenditure.',\n",
       "   'The energy expended during physical activity are  contingent on the intensity, duration, and frequency of the exercise.',\n",
       "   ' Competitive athletes may need 3,000 to over 5,000 calories daily  compared to a typical inactive individual who needs about 2,000  calories per day.',\n",
       "   'Energy needs are also affected by an individual’s  gender, age, and weight.',\n",
       "   '\\xa0Weight-bearing exercises, such as  running, burn more calories per hour than non-weight bearing  exercises, such as swimming.'],\n",
       "  ['Weight-bearing exercises requires  your body to move against gravity which requires more energy.',\n",
       "   'Men  Sports Nutrition  |  959']],\n",
       " 'num_chunks': 2}"
      ]
     },
     "execution_count": 15,
     "metadata": {},
     "output_type": "execute_result"
    }
   ],
   "source": [
    "pages_and_texts[1000]"
   ]
  },
  {
   "cell_type": "code",
   "execution_count": 16,
   "id": "c46f79d5",
   "metadata": {
    "execution": {
     "iopub.execute_input": "2025-07-26T19:19:06.809955Z",
     "iopub.status.busy": "2025-07-26T19:19:06.809206Z",
     "iopub.status.idle": "2025-07-26T19:19:06.837374Z",
     "shell.execute_reply": "2025-07-26T19:19:06.836679Z",
     "shell.execute_reply.started": "2025-07-26T19:19:06.809930Z"
    },
    "trusted": true
   },
   "outputs": [
    {
     "data": {
      "text/html": [
       "<div>\n",
       "<style scoped>\n",
       "    .dataframe tbody tr th:only-of-type {\n",
       "        vertical-align: middle;\n",
       "    }\n",
       "\n",
       "    .dataframe tbody tr th {\n",
       "        vertical-align: top;\n",
       "    }\n",
       "\n",
       "    .dataframe thead th {\n",
       "        text-align: right;\n",
       "    }\n",
       "</style>\n",
       "<table border=\"1\" class=\"dataframe\">\n",
       "  <thead>\n",
       "    <tr style=\"text-align: right;\">\n",
       "      <th></th>\n",
       "      <th>page_number</th>\n",
       "      <th>page_char_count</th>\n",
       "      <th>page_word_count</th>\n",
       "      <th>page_sentence_count</th>\n",
       "      <th>page_token_count</th>\n",
       "      <th>page_sentence_count_spacy</th>\n",
       "      <th>num_chunks</th>\n",
       "    </tr>\n",
       "  </thead>\n",
       "  <tbody>\n",
       "    <tr>\n",
       "      <th>count</th>\n",
       "      <td>1208.00</td>\n",
       "      <td>1208.00</td>\n",
       "      <td>1208.00</td>\n",
       "      <td>1208.00</td>\n",
       "      <td>1208.00</td>\n",
       "      <td>1208.00</td>\n",
       "      <td>1208.00</td>\n",
       "    </tr>\n",
       "    <tr>\n",
       "      <th>mean</th>\n",
       "      <td>603.50</td>\n",
       "      <td>1148.00</td>\n",
       "      <td>198.30</td>\n",
       "      <td>14.18</td>\n",
       "      <td>287.00</td>\n",
       "      <td>10.32</td>\n",
       "      <td>1.53</td>\n",
       "    </tr>\n",
       "    <tr>\n",
       "      <th>std</th>\n",
       "      <td>348.86</td>\n",
       "      <td>560.38</td>\n",
       "      <td>95.76</td>\n",
       "      <td>9.54</td>\n",
       "      <td>140.10</td>\n",
       "      <td>6.30</td>\n",
       "      <td>0.64</td>\n",
       "    </tr>\n",
       "    <tr>\n",
       "      <th>min</th>\n",
       "      <td>0.00</td>\n",
       "      <td>0.00</td>\n",
       "      <td>1.00</td>\n",
       "      <td>1.00</td>\n",
       "      <td>0.00</td>\n",
       "      <td>0.00</td>\n",
       "      <td>0.00</td>\n",
       "    </tr>\n",
       "    <tr>\n",
       "      <th>25%</th>\n",
       "      <td>301.75</td>\n",
       "      <td>762.00</td>\n",
       "      <td>134.00</td>\n",
       "      <td>8.00</td>\n",
       "      <td>190.50</td>\n",
       "      <td>5.00</td>\n",
       "      <td>1.00</td>\n",
       "    </tr>\n",
       "    <tr>\n",
       "      <th>50%</th>\n",
       "      <td>603.50</td>\n",
       "      <td>1231.50</td>\n",
       "      <td>214.50</td>\n",
       "      <td>13.00</td>\n",
       "      <td>307.88</td>\n",
       "      <td>10.00</td>\n",
       "      <td>1.00</td>\n",
       "    </tr>\n",
       "    <tr>\n",
       "      <th>75%</th>\n",
       "      <td>905.25</td>\n",
       "      <td>1603.50</td>\n",
       "      <td>271.00</td>\n",
       "      <td>19.00</td>\n",
       "      <td>400.88</td>\n",
       "      <td>15.00</td>\n",
       "      <td>2.00</td>\n",
       "    </tr>\n",
       "    <tr>\n",
       "      <th>max</th>\n",
       "      <td>1207.00</td>\n",
       "      <td>2308.00</td>\n",
       "      <td>429.00</td>\n",
       "      <td>82.00</td>\n",
       "      <td>577.00</td>\n",
       "      <td>28.00</td>\n",
       "      <td>3.00</td>\n",
       "    </tr>\n",
       "  </tbody>\n",
       "</table>\n",
       "</div>"
      ],
      "text/plain": [
       "       page_number  page_char_count  page_word_count  page_sentence_count  \\\n",
       "count      1208.00          1208.00          1208.00              1208.00   \n",
       "mean        603.50          1148.00           198.30                14.18   \n",
       "std         348.86           560.38            95.76                 9.54   \n",
       "min           0.00             0.00             1.00                 1.00   \n",
       "25%         301.75           762.00           134.00                 8.00   \n",
       "50%         603.50          1231.50           214.50                13.00   \n",
       "75%         905.25          1603.50           271.00                19.00   \n",
       "max        1207.00          2308.00           429.00                82.00   \n",
       "\n",
       "       page_token_count  page_sentence_count_spacy  num_chunks  \n",
       "count           1208.00                    1208.00     1208.00  \n",
       "mean             287.00                      10.32        1.53  \n",
       "std              140.10                       6.30        0.64  \n",
       "min                0.00                       0.00        0.00  \n",
       "25%              190.50                       5.00        1.00  \n",
       "50%              307.88                      10.00        1.00  \n",
       "75%              400.88                      15.00        2.00  \n",
       "max              577.00                      28.00        3.00  "
      ]
     },
     "execution_count": 16,
     "metadata": {},
     "output_type": "execute_result"
    }
   ],
   "source": [
    "df = pd.DataFrame(pages_and_texts)\n",
    "df.describe().round(2)"
   ]
  },
  {
   "cell_type": "code",
   "execution_count": 17,
   "id": "4614b174",
   "metadata": {
    "execution": {
     "iopub.execute_input": "2025-07-26T19:19:08.457422Z",
     "iopub.status.busy": "2025-07-26T19:19:08.456667Z",
     "iopub.status.idle": "2025-07-26T19:19:08.508158Z",
     "shell.execute_reply": "2025-07-26T19:19:08.507584Z",
     "shell.execute_reply.started": "2025-07-26T19:19:08.457393Z"
    },
    "trusted": true
   },
   "outputs": [
    {
     "name": "stderr",
     "output_type": "stream",
     "text": [
      "100%|██████████| 1208/1208 [00:00<00:00, 27860.85it/s]\n"
     ]
    }
   ],
   "source": [
    "## splitting each chunk into its own item\n",
    "## ==> embed each chunk of sentences into its own numerical representation\n",
    "import re \n",
    "pages_and_chunks = []\n",
    "for item in tqdm(pages_and_texts) : \n",
    "    for sentence_chunk in item[\"sentence_chunks\"] :\n",
    "        chunk_dict = {}\n",
    "        chunk_dict[\"page_number\"] =     item[\"page_number\"]     \n",
    "        joined_sentence_chunks = \"\".join(sentence_chunk).replace(\"  \" , \" \").strip()\n",
    "        joined_sentence_chunks = re.sub(r'\\.([A-Z])', r'. \\1' , joined_sentence_chunks) ## .A ===> . A\n",
    "        chunk_dict[\"sentence_chunk\"] = joined_sentence_chunks\n",
    "        \n",
    "        chunk_dict[\"chunk_char_number\"] = len(joined_sentence_chunks)\n",
    "        chunk_dict[\"chunk_word_number\"] = len([word for word in joined_sentence_chunks.split(\" \")])\n",
    "        chunk_dict[\"chunk_token_number\"] = len(joined_sentence_chunks) / 4 ## 1 token ~ 4 chars\n",
    "        pages_and_chunks.append(chunk_dict)"
   ]
  },
  {
   "cell_type": "code",
   "execution_count": 18,
   "id": "1d526464",
   "metadata": {
    "execution": {
     "iopub.execute_input": "2025-07-26T19:19:09.911230Z",
     "iopub.status.busy": "2025-07-26T19:19:09.910696Z",
     "iopub.status.idle": "2025-07-26T19:19:09.915931Z",
     "shell.execute_reply": "2025-07-26T19:19:09.915197Z",
     "shell.execute_reply.started": "2025-07-26T19:19:09.911207Z"
    },
    "trusted": true
   },
   "outputs": [
    {
     "data": {
      "text/plain": [
       "1843"
      ]
     },
     "execution_count": 18,
     "metadata": {},
     "output_type": "execute_result"
    }
   ],
   "source": [
    "len(pages_and_chunks)"
   ]
  },
  {
   "cell_type": "code",
   "execution_count": 19,
   "id": "971de06e",
   "metadata": {
    "execution": {
     "iopub.execute_input": "2025-07-26T19:19:11.232609Z",
     "iopub.status.busy": "2025-07-26T19:19:11.231626Z",
     "iopub.status.idle": "2025-07-26T19:19:11.237434Z",
     "shell.execute_reply": "2025-07-26T19:19:11.236826Z",
     "shell.execute_reply.started": "2025-07-26T19:19:11.232574Z"
    },
    "trusted": true
   },
   "outputs": [
    {
     "data": {
      "text/plain": [
       "{'page_number': 348,\n",
       " 'sentence_chunk': 'Image by Allison Calabrese / CC BY 4.0 \\xa0 Fatty Acid Types in the Body The fatty-acid profile of the diet directly correlates to the tissue lipid profile of the body. It may not solely be the quantity of dietary fat that matters. More directly, the type of dietary fat ingested has been shown to affect body weight, composition, and metabolism. The fatty acids consumed are often incorporated into the triglycerides within the body. Evidence confirms that saturated fatty acids are linked to higher rates of weight retention when compared to other types of fatty acids. Alternatively, the How Lipids Work | 307',\n",
       " 'chunk_char_number': 609,\n",
       " 'chunk_word_number': 103,\n",
       " 'chunk_token_number': 152.25}"
      ]
     },
     "execution_count": 19,
     "metadata": {},
     "output_type": "execute_result"
    }
   ],
   "source": [
    "pages_and_chunks[500]"
   ]
  },
  {
   "cell_type": "code",
   "execution_count": 20,
   "id": "2ebf3156",
   "metadata": {
    "execution": {
     "iopub.execute_input": "2025-07-26T19:19:14.182659Z",
     "iopub.status.busy": "2025-07-26T19:19:14.182388Z",
     "iopub.status.idle": "2025-07-26T19:19:14.204584Z",
     "shell.execute_reply": "2025-07-26T19:19:14.203943Z",
     "shell.execute_reply.started": "2025-07-26T19:19:14.182640Z"
    },
    "trusted": true
   },
   "outputs": [
    {
     "data": {
      "text/html": [
       "<div>\n",
       "<style scoped>\n",
       "    .dataframe tbody tr th:only-of-type {\n",
       "        vertical-align: middle;\n",
       "    }\n",
       "\n",
       "    .dataframe tbody tr th {\n",
       "        vertical-align: top;\n",
       "    }\n",
       "\n",
       "    .dataframe thead th {\n",
       "        text-align: right;\n",
       "    }\n",
       "</style>\n",
       "<table border=\"1\" class=\"dataframe\">\n",
       "  <thead>\n",
       "    <tr style=\"text-align: right;\">\n",
       "      <th></th>\n",
       "      <th>page_number</th>\n",
       "      <th>chunk_char_number</th>\n",
       "      <th>chunk_word_number</th>\n",
       "      <th>chunk_token_number</th>\n",
       "    </tr>\n",
       "  </thead>\n",
       "  <tbody>\n",
       "    <tr>\n",
       "      <th>count</th>\n",
       "      <td>1843.00</td>\n",
       "      <td>1843.00</td>\n",
       "      <td>1843.00</td>\n",
       "      <td>1843.00</td>\n",
       "    </tr>\n",
       "    <tr>\n",
       "      <th>mean</th>\n",
       "      <td>624.38</td>\n",
       "      <td>734.44</td>\n",
       "      <td>112.33</td>\n",
       "      <td>183.61</td>\n",
       "    </tr>\n",
       "    <tr>\n",
       "      <th>std</th>\n",
       "      <td>347.79</td>\n",
       "      <td>447.54</td>\n",
       "      <td>71.22</td>\n",
       "      <td>111.89</td>\n",
       "    </tr>\n",
       "    <tr>\n",
       "      <th>min</th>\n",
       "      <td>0.00</td>\n",
       "      <td>12.00</td>\n",
       "      <td>3.00</td>\n",
       "      <td>3.00</td>\n",
       "    </tr>\n",
       "    <tr>\n",
       "      <th>25%</th>\n",
       "      <td>321.50</td>\n",
       "      <td>315.00</td>\n",
       "      <td>44.00</td>\n",
       "      <td>78.75</td>\n",
       "    </tr>\n",
       "    <tr>\n",
       "      <th>50%</th>\n",
       "      <td>627.00</td>\n",
       "      <td>746.00</td>\n",
       "      <td>114.00</td>\n",
       "      <td>186.50</td>\n",
       "    </tr>\n",
       "    <tr>\n",
       "      <th>75%</th>\n",
       "      <td>931.00</td>\n",
       "      <td>1118.50</td>\n",
       "      <td>173.00</td>\n",
       "      <td>279.62</td>\n",
       "    </tr>\n",
       "    <tr>\n",
       "      <th>max</th>\n",
       "      <td>1207.00</td>\n",
       "      <td>1831.00</td>\n",
       "      <td>297.00</td>\n",
       "      <td>457.75</td>\n",
       "    </tr>\n",
       "  </tbody>\n",
       "</table>\n",
       "</div>"
      ],
      "text/plain": [
       "       page_number  chunk_char_number  chunk_word_number  chunk_token_number\n",
       "count      1843.00            1843.00            1843.00             1843.00\n",
       "mean        624.38             734.44             112.33              183.61\n",
       "std         347.79             447.54              71.22              111.89\n",
       "min           0.00              12.00               3.00                3.00\n",
       "25%         321.50             315.00              44.00               78.75\n",
       "50%         627.00             746.00             114.00              186.50\n",
       "75%         931.00            1118.50             173.00              279.62\n",
       "max        1207.00            1831.00             297.00              457.75"
      ]
     },
     "execution_count": 20,
     "metadata": {},
     "output_type": "execute_result"
    }
   ],
   "source": [
    "df = pd.DataFrame(pages_and_chunks)\n",
    "df.describe().round(2) ## chunk_token_number max is 457 which above 384 (what our embedding model accept , so further work is needed with this detail)"
   ]
  },
  {
   "cell_type": "code",
   "execution_count": 21,
   "id": "ba41ff51",
   "metadata": {
    "execution": {
     "iopub.execute_input": "2025-07-26T19:19:15.462005Z",
     "iopub.status.busy": "2025-07-26T19:19:15.461534Z",
     "iopub.status.idle": "2025-07-26T19:19:15.471344Z",
     "shell.execute_reply": "2025-07-26T19:19:15.470394Z",
     "shell.execute_reply.started": "2025-07-26T19:19:15.461981Z"
    },
    "trusted": true
   },
   "outputs": [
    {
     "name": "stdout",
     "output_type": "stream",
     "text": [
      "chunk token count : 24.75 | Text : Table 9.33 Some Phytochemical’s Obtained from Diet and Their Related Functions 600 | Phytochemicals\n",
      "chunk token count : 13.25 | Text : PART IX CHAPTER 9. VITAMINS Chapter 9. Vitamins | 513\n",
      "chunk token count : 27.5 | Text : Iron Status and Exercise. The American Journal of Clinical Nutrition, 72(2), 594S–597S. Sports Nutrition | 967\n",
      "chunk token count : 3.0 | Text : Iodine | 681\n",
      "chunk token count : 16.5 | Text : http://www.aafp.org/afp/ 2002/1001/p1217.html. 862 | Toddler Years\n"
     ]
    }
   ],
   "source": [
    "## filter for very short chunks (have no meaning for our work : may not contain useful information)\n",
    "min_token_length = 30\n",
    "for row in df[df[\"chunk_token_number\"]<= min_token_length].sample(5).iterrows() :\n",
    "    print(f\"chunk token count : {row[1]['chunk_token_number']} | Text : {row[1]['sentence_chunk']}\")"
   ]
  },
  {
   "cell_type": "code",
   "execution_count": 22,
   "id": "434af57b",
   "metadata": {
    "execution": {
     "iopub.execute_input": "2025-07-26T19:19:18.187285Z",
     "iopub.status.busy": "2025-07-26T19:19:18.186717Z",
     "iopub.status.idle": "2025-07-26T19:19:18.201679Z",
     "shell.execute_reply": "2025-07-26T19:19:18.201019Z",
     "shell.execute_reply.started": "2025-07-26T19:19:18.187263Z"
    },
    "trusted": true
   },
   "outputs": [
    {
     "data": {
      "text/plain": [
       "[{'page_number': 2,\n",
       "  'sentence_chunk': 'Human Nutrition: 2020 Edition UNIVERSITY OF HAWAI‘I AT MĀNOA FOOD SCIENCE AND HUMAN NUTRITION PROGRAM ALAN TITCHENAL, SKYLAR HARA, NOEMI ARCEO CAACBAY, WILLIAM MEINKE-LAU, YA-YUN YANG, MARIE KAINOA FIALKOWSKI REVILLA, JENNIFER DRAPER, GEMADY LANGFELDER, CHERYL GIBBY, CHYNA NICOLE CHUN, AND ALLISON CALABRESE',\n",
       "  'chunk_char_number': 308,\n",
       "  'chunk_word_number': 42,\n",
       "  'chunk_token_number': 77.0},\n",
       " {'page_number': 3,\n",
       "  'sentence_chunk': 'Human Nutrition: 2020 Edition by University of Hawai‘i at Mānoa Food Science and Human Nutrition Program is licensed under a Creative Commons Attribution 4.0 International License, except where otherwise noted.',\n",
       "  'chunk_char_number': 210,\n",
       "  'chunk_word_number': 30,\n",
       "  'chunk_token_number': 52.5}]"
      ]
     },
     "execution_count": 22,
     "metadata": {},
     "output_type": "execute_result"
    }
   ],
   "source": [
    "## filter dataframe for rows with under 30 tokens \n",
    "pages_and_chunks_filtered = df[df[\"chunk_token_number\"]>min_token_length].to_dict(orient=\"records\")\n",
    "pages_and_chunks_filtered[:2]"
   ]
  },
  {
   "cell_type": "markdown",
   "id": "4f488cbc",
   "metadata": {},
   "source": [
    "##### From text chunks into numerical representation : Embedding\n",
    "#####  embedding framework we are going to use : https://sbert.net/docs/installation.html"
   ]
  },
  {
   "cell_type": "code",
   "execution_count": 23,
   "id": "29a59741",
   "metadata": {
    "execution": {
     "iopub.execute_input": "2025-07-26T19:19:19.472962Z",
     "iopub.status.busy": "2025-07-26T19:19:19.472670Z",
     "iopub.status.idle": "2025-07-26T19:19:51.063570Z",
     "shell.execute_reply": "2025-07-26T19:19:51.062569Z",
     "shell.execute_reply.started": "2025-07-26T19:19:19.472939Z"
    },
    "trusted": true
   },
   "outputs": [
    {
     "name": "stderr",
     "output_type": "stream",
     "text": [
      "2025-07-26 19:19:28.428050: E external/local_xla/xla/stream_executor/cuda/cuda_fft.cc:477] Unable to register cuFFT factory: Attempting to register factory for plugin cuFFT when one has already been registered\n",
      "WARNING: All log messages before absl::InitializeLog() is called are written to STDERR\n",
      "E0000 00:00:1753557568.605889      36 cuda_dnn.cc:8310] Unable to register cuDNN factory: Attempting to register factory for plugin cuDNN when one has already been registered\n",
      "E0000 00:00:1753557568.653759      36 cuda_blas.cc:1418] Unable to register cuBLAS factory: Attempting to register factory for plugin cuBLAS when one has already been registered\n"
     ]
    },
    {
     "data": {
      "application/vnd.jupyter.widget-view+json": {
       "model_id": "67b9372c8b6d496e8aea7c4dcc99f321",
       "version_major": 2,
       "version_minor": 0
      },
      "text/plain": [
       "modules.json:   0%|          | 0.00/349 [00:00<?, ?B/s]"
      ]
     },
     "metadata": {},
     "output_type": "display_data"
    },
    {
     "data": {
      "application/vnd.jupyter.widget-view+json": {
       "model_id": "bdfab989aa0b47919d9fd57f66c32736",
       "version_major": 2,
       "version_minor": 0
      },
      "text/plain": [
       "config_sentence_transformers.json:   0%|          | 0.00/116 [00:00<?, ?B/s]"
      ]
     },
     "metadata": {},
     "output_type": "display_data"
    },
    {
     "data": {
      "application/vnd.jupyter.widget-view+json": {
       "model_id": "e62a656ed12b47dd94986347cb8e4f3b",
       "version_major": 2,
       "version_minor": 0
      },
      "text/plain": [
       "README.md: 0.00B [00:00, ?B/s]"
      ]
     },
     "metadata": {},
     "output_type": "display_data"
    },
    {
     "data": {
      "application/vnd.jupyter.widget-view+json": {
       "model_id": "8a0d0c97081647fc9d9854531af4078e",
       "version_major": 2,
       "version_minor": 0
      },
      "text/plain": [
       "sentence_bert_config.json:   0%|          | 0.00/53.0 [00:00<?, ?B/s]"
      ]
     },
     "metadata": {},
     "output_type": "display_data"
    },
    {
     "data": {
      "application/vnd.jupyter.widget-view+json": {
       "model_id": "b64b3f5bd1354825bd767143ccb3fb50",
       "version_major": 2,
       "version_minor": 0
      },
      "text/plain": [
       "config.json:   0%|          | 0.00/571 [00:00<?, ?B/s]"
      ]
     },
     "metadata": {},
     "output_type": "display_data"
    },
    {
     "data": {
      "application/vnd.jupyter.widget-view+json": {
       "model_id": "b49fa29c84ab41aa8c2157ded8e460c5",
       "version_major": 2,
       "version_minor": 0
      },
      "text/plain": [
       "model.safetensors:   0%|          | 0.00/438M [00:00<?, ?B/s]"
      ]
     },
     "metadata": {},
     "output_type": "display_data"
    },
    {
     "data": {
      "application/vnd.jupyter.widget-view+json": {
       "model_id": "a8ffa9b3cd24448cb436d981f43ffa3a",
       "version_major": 2,
       "version_minor": 0
      },
      "text/plain": [
       "tokenizer_config.json:   0%|          | 0.00/363 [00:00<?, ?B/s]"
      ]
     },
     "metadata": {},
     "output_type": "display_data"
    },
    {
     "data": {
      "application/vnd.jupyter.widget-view+json": {
       "model_id": "a1f03bff9d174ff2a990ed9cb105a71f",
       "version_major": 2,
       "version_minor": 0
      },
      "text/plain": [
       "vocab.txt: 0.00B [00:00, ?B/s]"
      ]
     },
     "metadata": {},
     "output_type": "display_data"
    },
    {
     "data": {
      "application/vnd.jupyter.widget-view+json": {
       "model_id": "c4711ec20d754882886c8d5de028ffbf",
       "version_major": 2,
       "version_minor": 0
      },
      "text/plain": [
       "tokenizer.json: 0.00B [00:00, ?B/s]"
      ]
     },
     "metadata": {},
     "output_type": "display_data"
    },
    {
     "data": {
      "application/vnd.jupyter.widget-view+json": {
       "model_id": "c97d308347ca45f09b9e4c05e40db0c0",
       "version_major": 2,
       "version_minor": 0
      },
      "text/plain": [
       "special_tokens_map.json:   0%|          | 0.00/239 [00:00<?, ?B/s]"
      ]
     },
     "metadata": {},
     "output_type": "display_data"
    },
    {
     "data": {
      "application/vnd.jupyter.widget-view+json": {
       "model_id": "d4643afc4d7b45c5aad8bd1525e074c5",
       "version_major": 2,
       "version_minor": 0
      },
      "text/plain": [
       "config.json:   0%|          | 0.00/190 [00:00<?, ?B/s]"
      ]
     },
     "metadata": {},
     "output_type": "display_data"
    },
    {
     "data": {
      "application/vnd.jupyter.widget-view+json": {
       "model_id": "0fd90f25ea3e4034bcf052e7f4d1372f",
       "version_major": 2,
       "version_minor": 0
      },
      "text/plain": [
       "Batches:   0%|          | 0/1 [00:00<?, ?it/s]"
      ]
     },
     "metadata": {},
     "output_type": "display_data"
    },
    {
     "name": "stdout",
     "output_type": "stream",
     "text": [
      "[[-0.05405929 -0.01718496 -0.03553736 ...  0.02126813  0.04306808\n",
      "  -0.01077988]\n",
      " [-0.06346937 -0.0316185  -0.01481562 ...  0.03250139 -0.02075413\n",
      "   0.00200077]\n",
      " [-0.03902547  0.03801647  0.00174592 ... -0.01257585 -0.05982948\n",
      "  -0.04102637]]\n"
     ]
    }
   ],
   "source": [
    "## the numerical representation of the text chunks is actually e *Learned* representation\n",
    "from sentence_transformers import SentenceTransformer\n",
    "emb_model = SentenceTransformer(\"all-mpnet-base-v2\" , device=\"cpu\")\n",
    "\n",
    "test_data = [\n",
    "    \"The weather is lovely today.\",\n",
    "    \"It's so sunny outside!\",\n",
    "    \"He drove to the stadium.\"\n",
    "    ]\n",
    "\n",
    "embeddings = emb_model.encode(test_data)\n",
    "print(embeddings)"
   ]
  },
  {
   "cell_type": "code",
   "execution_count": 24,
   "id": "eee0b5dc",
   "metadata": {
    "execution": {
     "iopub.execute_input": "2025-07-26T19:19:51.065047Z",
     "iopub.status.busy": "2025-07-26T19:19:51.064809Z",
     "iopub.status.idle": "2025-07-26T19:19:51.083087Z",
     "shell.execute_reply": "2025-07-26T19:19:51.082316Z",
     "shell.execute_reply.started": "2025-07-26T19:19:51.065029Z"
    },
    "trusted": true
   },
   "outputs": [
    {
     "name": "stdout",
     "output_type": "stream",
     "text": [
      "Sentence : The weather is lovely today.\n",
      "Embedding : [-5.40592857e-02 -1.71849616e-02 -3.55373584e-02  5.00999242e-02\n",
      "  2.86725396e-03 -3.25625464e-02 -5.80761731e-02  6.15104940e-03\n",
      "  4.56210673e-02  1.85950398e-02 -4.00721617e-02  8.92390013e-02\n",
      " -2.16217227e-02 -3.36240344e-02  1.08703179e-02 -1.05172321e-01\n",
      "  2.24103425e-02 -3.19909677e-02 -2.49627624e-02  1.63076948e-02\n",
      " -2.65984889e-03 -3.24465707e-02  3.21150534e-02 -3.25165242e-02\n",
      "  5.64085431e-02 -1.06153917e-02 -1.73121169e-02  2.34713871e-02\n",
      "  2.92384923e-02  2.48269327e-02 -5.33476584e-02 -4.08825316e-02\n",
      "  6.37525320e-02 -4.49079648e-02  1.85175122e-06  1.37187000e-02\n",
      "  2.81289201e-02 -2.68432102e-03  6.23045005e-02 -7.46229813e-02\n",
      " -1.49292573e-02 -2.04746556e-02 -1.56179648e-02  2.33425330e-02\n",
      " -6.32117561e-04  4.30108793e-02 -4.29194868e-02 -1.75441559e-02\n",
      " -2.68616658e-02  3.05798817e-02 -8.29362404e-03 -2.93245967e-02\n",
      " -3.83486338e-02  1.85985956e-02 -1.81627665e-02  2.91873850e-02\n",
      "  2.34621968e-02 -6.75668195e-02  1.49492798e-02  1.31754344e-02\n",
      "  7.33165396e-03 -5.25319725e-02 -4.24605748e-03 -3.55448164e-02\n",
      "  3.44198719e-02  5.19080013e-02  4.96257953e-02  3.72637995e-02\n",
      " -1.99374016e-02  3.89480963e-03  4.53928709e-02 -2.02134885e-02\n",
      " -3.49294692e-02  9.42630041e-03  1.62576549e-02  2.80730203e-02\n",
      " -7.10142870e-03  2.98659764e-02  7.69264847e-02 -1.17886756e-02\n",
      "  7.02497959e-02  8.85543134e-03 -5.26175387e-02  4.67004552e-02\n",
      "  2.48155035e-02  4.89366762e-02  1.04045402e-02 -3.69395763e-02\n",
      " -2.20359229e-02 -2.29911264e-02  1.08075328e-02 -4.11921851e-02\n",
      "  6.51020184e-03  5.05664721e-02 -1.88596838e-03  3.69631266e-03\n",
      " -4.49494692e-03 -1.64592229e-02  1.66386161e-02  2.05807798e-02\n",
      "  1.29599515e-02 -1.53039806e-02 -7.65916752e-03 -8.89196526e-03\n",
      " -4.75061126e-02 -8.21207371e-03  1.23346206e-02 -8.03049505e-02\n",
      "  1.10429088e-02 -4.31683548e-02  3.21564414e-02 -1.00369407e-02\n",
      "  3.20701078e-02  2.76394114e-02 -4.13974784e-02 -4.51372974e-02\n",
      " -1.06199563e-03  1.82716399e-02  6.31526262e-02  3.65022523e-03\n",
      "  5.76326549e-02 -2.54500546e-02  1.32806459e-02  3.17209959e-02\n",
      "  2.81036887e-02 -4.04399149e-02 -5.07431217e-02  5.30096795e-03\n",
      " -1.37184840e-02 -1.04384087e-01 -5.97955510e-02  5.23883291e-02\n",
      " -4.37111268e-03 -3.55004258e-02 -5.22717424e-02  1.21619657e-03\n",
      " -1.10106925e-02 -2.73856055e-02 -4.21879999e-03 -3.99632230e-02\n",
      " -1.40520716e-02  1.20188454e-02  2.27427464e-02 -7.33597390e-03\n",
      " -4.31130268e-02  1.02704274e-03  7.28161726e-03  4.09924574e-02\n",
      "  2.43694987e-03  2.22496055e-02  1.67652536e-02 -4.55136038e-02\n",
      " -3.03224698e-02  4.26473282e-03 -2.95167658e-02 -3.85522321e-02\n",
      "  7.17214942e-02  2.08974034e-02  1.39036598e-02  3.79565172e-02\n",
      " -1.25746941e-02  3.13546807e-02  2.89480910e-02 -1.63046699e-02\n",
      " -1.62455551e-02 -2.83634178e-02 -8.35305545e-03 -2.10439637e-02\n",
      " -1.17746452e-02  5.10217994e-03  2.13272981e-02 -3.12293097e-02\n",
      "  1.57061089e-02  1.84894744e-02  4.02187333e-02 -4.04134244e-02\n",
      " -7.16760233e-02  1.85186639e-02  9.50891583e-04  2.16525346e-02\n",
      "  7.68669229e-03  3.06794830e-02  2.57570017e-02 -6.55440940e-03\n",
      " -5.66301569e-02  8.90766084e-03 -3.02953273e-03  2.54444219e-03\n",
      " -7.23706186e-03  2.24359110e-02 -2.16697026e-02 -2.67386027e-02\n",
      " -2.23399978e-02 -5.75901642e-02  4.24062880e-03 -4.08470146e-02\n",
      "  3.74679379e-02 -3.72561142e-02  5.31814469e-04  4.01542373e-02\n",
      " -3.70044261e-03  2.24784948e-02  2.13132310e-03 -1.54684030e-03\n",
      " -7.69197345e-02  2.54947469e-02  7.98689201e-03  1.13495048e-02\n",
      "  2.62176953e-02 -3.04254312e-02  2.63956399e-03 -1.46477418e-02\n",
      "  2.21312270e-02  4.36477549e-02  2.77307630e-02 -6.13194034e-02\n",
      "  1.59900524e-02  5.04478626e-02 -6.85214158e-03  3.64893153e-02\n",
      " -2.11896393e-02  3.95270139e-02  1.47717977e-02 -8.73068639e-04\n",
      "  5.09005412e-02  6.48901751e-03  3.50495875e-02 -1.77809782e-02\n",
      " -5.72339259e-02  6.28023222e-03 -3.50888744e-02  6.05547521e-03\n",
      "  3.50931771e-02  1.61755551e-02  8.72586388e-04  1.17845550e-01\n",
      " -8.66912398e-03 -5.98811172e-02 -5.11710942e-02  7.13040633e-03\n",
      " -2.10110750e-03 -1.65790226e-02 -4.45411168e-02 -3.67385410e-02\n",
      "  1.68649259e-03  1.08082211e-02 -2.26648375e-02  3.80613767e-02\n",
      " -2.11539697e-02  1.60132647e-02 -2.79749800e-02  3.45469192e-02\n",
      " -6.06903732e-02 -2.68877242e-02  1.53339850e-02 -5.98698854e-02\n",
      "  4.40858528e-02 -2.41228696e-02 -3.74642685e-02 -6.15667610e-04\n",
      "  5.24770282e-03 -6.06164616e-03 -3.54377478e-02 -1.43401278e-02\n",
      "  3.25385220e-02 -2.95934826e-03 -5.11316350e-03 -6.65968210e-02\n",
      " -3.31889763e-02 -1.38592478e-02  5.97439483e-02 -5.44080837e-03\n",
      "  5.18352613e-02  2.53108349e-02  1.96347642e-03  1.15689561e-02\n",
      "  2.51151528e-02 -5.45349270e-02  2.56655458e-03  4.16056104e-02\n",
      " -1.68565940e-02  3.85120288e-02 -2.44056936e-02  2.34732404e-02\n",
      " -9.23364982e-03  4.91016954e-02  7.25361630e-02 -2.15286594e-02\n",
      "  2.38476936e-02 -3.82356979e-02  2.68952902e-02  2.58793849e-02\n",
      " -5.19791842e-02  4.15733680e-02  3.61936516e-03 -4.73185122e-04\n",
      " -2.60389620e-03  6.46502301e-02  3.96923609e-02 -9.96043086e-02\n",
      " -1.68119594e-02  3.78174894e-02 -1.56622529e-02 -1.41278515e-03\n",
      "  7.13542029e-02 -2.11255215e-02 -7.90375099e-03  2.74074394e-02\n",
      " -4.71132668e-03  1.07150478e-02  3.64229716e-02 -1.28124899e-03\n",
      "  2.57420838e-02  1.07026435e-01 -4.85636108e-02  2.26383395e-02\n",
      " -5.75380996e-02  1.22720171e-02  7.40923779e-03 -2.84173880e-02\n",
      " -1.02485446e-02 -9.21051279e-02  5.75958453e-02  2.89638247e-02\n",
      "  3.71329393e-03 -5.85604273e-03  2.04416309e-02  1.20852813e-02\n",
      " -3.57523299e-04 -3.43203023e-02 -1.55525538e-03 -4.09838706e-02\n",
      " -1.87037867e-02  3.02769989e-02 -9.23792794e-02 -5.60268983e-02\n",
      " -1.44846868e-02  4.13364433e-02 -8.59431401e-02  2.47460958e-02\n",
      "  1.17323939e-02 -5.89886755e-02  1.91798788e-02  8.89684306e-04\n",
      " -7.08558559e-02  1.11783231e-02  2.48969533e-03 -1.18049495e-02\n",
      "  6.13203272e-02 -4.67996448e-02 -3.52066755e-02 -2.68929824e-03\n",
      " -3.19839898e-03 -2.13966914e-03  3.37630656e-04 -1.55002868e-03\n",
      " -2.10725218e-02  1.70739144e-02  2.28823069e-02  1.84610039e-02\n",
      " -6.34542778e-02 -3.93594876e-02 -6.02535456e-02  9.89307016e-02\n",
      "  3.43166888e-02  9.78460629e-03 -8.18472169e-03  1.09240403e-02\n",
      "  2.93999817e-02  2.38034409e-02  2.72231195e-02  8.94366094e-05\n",
      "  3.83505342e-03  4.14495133e-02 -1.33677654e-03 -5.22324257e-02\n",
      " -3.77176739e-02 -3.67720537e-02  2.75773518e-02 -6.31393958e-03\n",
      "  1.32117365e-02  4.31509688e-02 -1.35576827e-02  4.06109430e-02\n",
      " -1.58124007e-02  1.09876529e-03  2.62797363e-02 -1.92474667e-02\n",
      "  2.51573604e-03  2.89019779e-03  2.76542045e-02  6.82485923e-02\n",
      "  4.00758125e-02 -1.08305819e-01  6.08172454e-03  1.64892897e-02\n",
      "  1.19574424e-02 -1.98696516e-02  9.36157163e-03 -1.10328943e-02\n",
      " -1.32934412e-03  4.36198935e-02  1.12524247e-02  3.48305926e-02\n",
      " -6.53117197e-03 -1.43384235e-02  5.43413460e-02  4.07571532e-02\n",
      " -3.10399085e-02  4.35896742e-04 -4.14105915e-02  3.38739678e-02\n",
      "  5.28867058e-02 -1.54291196e-02  1.63479410e-02 -2.55730487e-02\n",
      "  1.26701752e-02 -3.73864211e-02 -7.85270054e-03  1.44655872e-02\n",
      "  2.64265426e-02  3.85020562e-02 -2.14238204e-02  5.04175276e-02\n",
      "  6.31390559e-03  3.51283439e-02 -5.71589917e-03  8.26870725e-02\n",
      " -2.97542196e-02 -7.41594750e-03  6.89540133e-02 -5.00263274e-02\n",
      " -1.67893548e-03  2.41308752e-02 -5.32882437e-02 -3.03379335e-02\n",
      "  5.64995641e-03 -1.94761883e-02 -7.30539262e-02 -8.85414612e-03\n",
      "  9.47725400e-03  2.84389835e-02 -2.96355747e-02 -2.86541395e-02\n",
      "  1.22063477e-02  3.78721133e-02 -2.41106972e-02 -7.91256956e-04\n",
      " -1.39284907e-02  2.46771313e-02  5.80556020e-02  2.78283358e-02\n",
      " -2.79631019e-02  7.31261894e-02  2.02697795e-02  9.49413143e-03\n",
      " -4.82648723e-02 -3.69034261e-02  3.78001332e-02 -1.98516175e-02\n",
      "  3.14145312e-02 -9.45689343e-03  2.01056898e-02  2.08223462e-02\n",
      "  8.92856903e-03  2.47754302e-04 -1.42070586e-02 -8.79255496e-03\n",
      "  5.74029945e-02 -2.30663875e-03 -5.50813489e-02  2.42713373e-02\n",
      "  7.56468624e-03 -1.15582859e-02 -1.01174936e-02 -1.52377952e-02\n",
      " -3.06245126e-02  9.90641341e-02  2.60247048e-02  1.04862815e-02\n",
      " -1.02077434e-02 -1.63982287e-02  4.57369350e-02  4.15556841e-02\n",
      " -2.29276847e-02 -3.10825109e-02  2.28488278e-02 -6.93885759e-02\n",
      "  3.45960669e-02  6.72880560e-03 -3.24349403e-02  2.13471465e-02\n",
      " -1.54295899e-02  3.73626202e-02 -4.11650799e-02  1.91277396e-02\n",
      "  2.58679576e-02 -1.92238279e-02  1.39864068e-02 -7.26035833e-02\n",
      " -4.84678261e-02 -3.73421260e-03 -1.92446783e-02 -2.92134378e-02\n",
      " -2.84274132e-03 -1.66500658e-02 -1.30948331e-03  4.89040092e-02\n",
      "  2.01899651e-02 -1.60998851e-02 -2.26131901e-02 -3.50249000e-02\n",
      " -3.66165005e-02 -3.32175940e-02 -4.09428254e-02  7.91135058e-02\n",
      "  2.04025861e-02  2.72953548e-02  2.00289451e-02 -2.05693748e-02\n",
      "  2.02565417e-02 -1.18854027e-02  2.84871049e-02 -4.58861887e-03\n",
      " -5.18404366e-03  5.53194620e-02 -5.82069531e-02 -9.14410688e-03\n",
      " -3.07655148e-02 -5.56123443e-02 -8.67010131e-02  8.37933272e-03\n",
      "  8.78995582e-02 -1.09357312e-02  2.52318159e-02  3.57568450e-02\n",
      " -1.15416013e-03 -6.80542924e-03  1.85409971e-02  8.78488878e-04\n",
      " -6.01678202e-03  6.74314937e-03 -1.36270942e-02  3.76817919e-02\n",
      "  5.50651662e-02 -1.45178298e-02 -1.87116507e-02  4.05188054e-02\n",
      " -2.46027415e-03 -7.34687373e-02 -4.74344706e-03  2.88086776e-02\n",
      " -5.71888760e-02 -6.41483953e-03 -1.08554503e-02 -7.28757935e-33\n",
      " -7.40625411e-02  1.11760646e-01 -2.48318771e-03  2.18851287e-02\n",
      " -4.26241495e-02  4.74286303e-02 -1.21926423e-02 -1.02072563e-02\n",
      " -2.92453058e-02  1.49406148e-02 -2.43324582e-02  7.82829337e-03\n",
      "  1.81538071e-02  1.06306253e-02  7.40289465e-02 -3.16752382e-02\n",
      " -9.28519421e-06 -2.77594337e-03 -4.23296690e-02  2.11284496e-03\n",
      " -4.69317101e-02 -1.40720522e-02 -1.77622458e-03 -2.90156789e-02\n",
      "  2.13937964e-02  6.52910173e-02 -3.18450481e-02  3.81264612e-02\n",
      " -3.12251877e-02 -2.32815556e-02  1.48137063e-02  5.65577205e-03\n",
      "  2.55643707e-02  3.25187743e-02 -3.86317074e-02  3.27930860e-02\n",
      "  2.48781834e-02 -1.96687635e-02 -2.17356272e-02 -5.64849563e-02\n",
      " -6.46225959e-02  2.42360830e-02 -4.00193483e-02 -1.97564568e-02\n",
      "  3.19637009e-03 -9.30040516e-03  2.87513481e-03 -3.36656533e-03\n",
      " -2.89020687e-02 -3.18500847e-02 -7.73672899e-03  3.34592187e-03\n",
      "  2.66274046e-02 -3.38466316e-02  7.62450276e-03 -1.12331323e-01\n",
      "  3.17089111e-02  8.67690071e-02  1.77102052e-02  2.38355547e-02\n",
      "  1.08833522e-01  1.77596826e-02 -1.98451839e-02  4.65538427e-02\n",
      "  6.57891706e-02 -4.01800573e-02 -9.20068379e-03  3.89162190e-02\n",
      " -3.05255298e-02 -2.95230653e-02  2.53998656e-02 -3.89696993e-02\n",
      " -1.91388205e-02  1.86520051e-02  2.10974868e-02  1.99691416e-03\n",
      "  2.68133134e-02 -7.75859132e-02  5.07181622e-02  2.68255803e-03\n",
      " -2.07326729e-02 -1.15884244e-02  1.33816162e-02 -2.46861689e-02\n",
      " -5.70533611e-02  6.79185987e-02 -1.45508079e-02  5.15530333e-02\n",
      " -2.95796851e-03  2.99055371e-02  3.14571820e-02 -4.17166278e-02\n",
      " -3.11620478e-02  1.84995215e-02 -4.02971245e-02  6.23127297e-02\n",
      "  1.75800786e-04 -1.62309408e-02 -1.75948180e-02  1.04667740e-02\n",
      " -3.31000946e-02 -6.44311383e-02 -7.74147436e-02  2.97554769e-02\n",
      " -7.12163933e-03  1.64609775e-02 -1.42661305e-02  9.13797319e-03\n",
      " -1.71805061e-02  2.51018126e-02 -8.59757792e-03  2.45209131e-02\n",
      " -3.65242474e-02 -2.00639013e-03  8.56823381e-03 -2.09338143e-02\n",
      " -1.38553651e-02  9.93687138e-02 -1.22078620e-02  3.24760824e-02\n",
      "  1.89879369e-02 -4.10158522e-02  2.98481993e-02  1.89866044e-03\n",
      " -6.26171706e-04  2.49461010e-02  5.24097197e-02 -6.66275918e-02\n",
      " -2.87961625e-02  7.21899420e-03  1.59028023e-02  5.24596423e-02\n",
      "  2.42228595e-07  5.30139096e-02  4.58411612e-02  4.66318568e-04\n",
      "  1.02818646e-01 -1.03795612e-02  5.97011810e-03  1.42057957e-02\n",
      "  1.76389758e-02  3.69338989e-02  8.81759897e-02 -4.32693176e-02\n",
      " -1.55241638e-02  1.01244215e-04 -6.25833869e-02 -1.76843780e-03\n",
      " -2.83139106e-02  1.02457835e-03 -8.44828114e-02 -1.71855520e-02\n",
      "  6.90155011e-03  4.60160077e-02  8.74131639e-03 -6.19779481e-03\n",
      "  2.94944346e-02  5.87530434e-03  3.81564982e-02 -1.36714038e-02\n",
      " -5.26420884e-02  1.89798698e-03  1.15887239e-03 -6.43814430e-02\n",
      " -2.97456514e-02  1.58871096e-02 -5.90499416e-02  1.12326508e-02\n",
      "  3.35625075e-02 -1.86839402e-02  7.52629414e-02  1.67350154e-02\n",
      "  8.45852867e-02 -4.39051166e-02 -7.24984784e-06 -1.71481986e-02\n",
      " -4.14573550e-02 -2.59554815e-02 -6.38154000e-02  5.07117063e-02\n",
      " -5.20141385e-02  3.55360173e-02  3.73154273e-03 -4.54634055e-02\n",
      " -1.81619134e-02 -1.32547710e-02  2.32806318e-02  1.52151203e-02\n",
      "  1.99556723e-02  5.83032966e-02 -6.25196695e-02 -1.33882919e-02\n",
      " -7.29318112e-02 -8.26874375e-03  1.78788397e-02  5.06104901e-02\n",
      "  2.19992213e-02 -2.16330290e-02 -6.99296175e-03  4.55542840e-02\n",
      "  1.20184781e-34  8.70961044e-03  2.59109121e-03 -5.47357388e-02\n",
      "  2.69786026e-02 -4.08232398e-03 -1.18725710e-02  7.11696297e-02\n",
      " -6.66418998e-03  2.12681293e-02  4.30680811e-02 -1.07798828e-02]\n",
      " \n",
      "Sentence : It's so sunny outside!\n",
      "Embedding : [-6.34693652e-02 -3.16185020e-02 -1.48156174e-02  1.05882334e-02\n",
      "  3.07343509e-02 -1.87192988e-02 -6.14450611e-02  9.51818097e-03\n",
      "  2.19462253e-02 -1.07771568e-02 -4.70358916e-02  1.13193415e-01\n",
      " -9.67924297e-03 -2.14510970e-02  4.06962745e-02 -6.76551834e-02\n",
      "  3.68472971e-02 -3.82939242e-02 -1.31399725e-02  2.98148822e-02\n",
      "  4.05206680e-02  1.62226278e-02  2.27219686e-02 -1.38741583e-02\n",
      " -2.62407325e-02 -4.91206609e-02 -2.74567306e-02  9.56912432e-03\n",
      "  1.27109680e-02 -2.04996858e-02 -5.63175827e-02 -2.46641506e-03\n",
      "  1.74304247e-02 -8.51239730e-03  1.98277303e-06 -4.57664877e-02\n",
      "  6.34332467e-03  3.88151258e-02  2.33271178e-02  2.84146667e-02\n",
      "  2.37739701e-02 -3.84233408e-02 -1.38389394e-02 -2.22526509e-02\n",
      "  1.91672072e-02  1.28679154e-02 -8.54661036e-03 -3.66444662e-02\n",
      "  3.77525087e-03  3.00995540e-03 -1.58193670e-02  9.12098098e-04\n",
      " -2.36955266e-02  1.88917052e-02 -1.02454051e-03  1.38326893e-02\n",
      "  2.69688684e-02 -4.64702174e-02  5.02557866e-02 -4.15834785e-02\n",
      "  2.61329841e-02 -9.13206413e-02 -2.29597394e-03 -1.25459600e-02\n",
      "  4.15163767e-03  4.34234664e-02  9.00204686e-05  7.83435404e-02\n",
      "  1.40281674e-02  3.85703631e-02  8.20226315e-03 -3.64915282e-02\n",
      " -1.04151601e-02  5.10663316e-02 -9.98210069e-03  4.97754700e-02\n",
      " -1.21944817e-02  6.66269138e-02  7.88107216e-02  1.08866524e-02\n",
      " -2.48846840e-02 -2.24415753e-02  7.10298028e-03  4.10101451e-02\n",
      "  2.83020958e-02  9.80833173e-02  1.39056807e-02 -2.82734521e-02\n",
      "  1.36432955e-02  1.00627933e-02  4.44079675e-02  4.27475013e-03\n",
      "  6.46714820e-03  3.90639938e-02 -3.30857038e-02 -8.48463923e-03\n",
      "  2.80131456e-02  7.90710654e-03  4.94144410e-02 -2.49986351e-02\n",
      "  4.67193909e-02  2.48249453e-02  5.98600786e-03  4.08594555e-04\n",
      " -3.46819498e-02 -1.79522913e-02  8.34841188e-03 -4.71953154e-02\n",
      "  2.11767573e-03 -4.97393794e-02  4.26829793e-02 -2.05116030e-02\n",
      "  5.18620685e-02 -1.41984653e-02 -2.54146662e-02 -5.00614755e-02\n",
      "  8.22030660e-03  3.00488677e-02  5.68528622e-02 -2.91005485e-02\n",
      "  4.86185253e-02  1.96699258e-02 -1.13606025e-02  1.71955919e-03\n",
      "  3.75961959e-02 -4.50331084e-02 -4.57717180e-02 -2.41366550e-02\n",
      " -1.68096814e-02 -6.81644306e-02 -2.31683254e-02  7.44269267e-02\n",
      " -9.75753181e-03 -5.84333278e-02 -4.85020950e-02  3.32197286e-02\n",
      " -3.37880440e-02  1.33545250e-02  7.01677725e-02 -3.69883254e-02\n",
      " -2.65289508e-02  2.19186116e-02 -2.79637482e-02 -1.33651905e-02\n",
      " -3.40794250e-02 -1.17599103e-03 -5.02145290e-03  4.28169183e-02\n",
      " -1.74441412e-02 -1.89258866e-02  4.82117124e-02 -1.84409935e-02\n",
      " -6.27816468e-02  1.37119200e-02 -3.37227397e-02 -2.24898588e-02\n",
      "  2.16064099e-02 -2.05038823e-02  2.11961009e-03  5.06567247e-02\n",
      " -1.67890359e-02 -3.00338003e-03  5.54758720e-02  3.08844983e-03\n",
      " -6.51515042e-03 -2.54289415e-02 -4.97757532e-02 -2.63428874e-02\n",
      "  2.74194144e-02 -2.25298423e-02  2.26643439e-02 -2.42611691e-02\n",
      "  1.63665395e-02  8.10484489e-05  1.50932232e-02 -8.55257064e-02\n",
      " -1.06538951e-01  2.97719762e-02  7.60802580e-03  5.44452257e-02\n",
      "  1.01569248e-02 -1.59674101e-02  5.30023351e-02 -2.28376128e-02\n",
      " -6.67940006e-02  2.09870166e-03  1.19192768e-02  3.14347968e-02\n",
      " -2.99304277e-02  5.45039549e-02 -5.78859225e-02 -1.56157874e-02\n",
      " -1.68636348e-02 -1.71278268e-02 -2.09802147e-02 -5.69564365e-02\n",
      "  5.23182675e-02 -9.97350737e-03 -3.87187232e-03  2.40086205e-02\n",
      " -2.13234518e-02  1.95607562e-02 -3.99939679e-02  8.97791609e-03\n",
      " -5.94817102e-02  3.95852402e-02  2.10681502e-02  3.47078890e-02\n",
      "  2.17501987e-02  1.49393367e-04 -1.34240312e-03 -2.39462014e-02\n",
      " -4.29326110e-03  3.75433862e-02  5.80476075e-02 -6.00522757e-02\n",
      "  3.13303210e-02  4.96826433e-02 -1.16151562e-02  5.22554666e-02\n",
      " -7.32443621e-03  8.59351605e-02 -9.63398255e-03 -5.09043317e-03\n",
      " -1.79968607e-02  7.64972018e-03  1.80412526e-03  2.63037421e-02\n",
      " -4.33355644e-02 -1.35752384e-03 -2.93527562e-02  3.27535346e-02\n",
      "  7.51366243e-02  4.22106544e-03 -2.72726603e-02  9.20238942e-02\n",
      "  6.12580702e-02 -3.11530791e-02 -4.35627028e-02 -5.38951568e-02\n",
      "  4.01550047e-02 -4.92743365e-02 -2.59476136e-02 -6.69231126e-03\n",
      "  3.89301553e-02  1.38542559e-02 -9.20723379e-02  5.63018136e-02\n",
      " -1.35191558e-02  4.03501801e-02 -2.35498678e-02  1.23484237e-02\n",
      " -4.19362746e-02 -2.97041330e-02  1.83604248e-02 -2.15258934e-02\n",
      "  9.74440668e-03 -8.29966273e-03 -1.72605626e-02  4.14013714e-02\n",
      "  9.02046508e-04 -2.39834823e-02 -2.53159087e-02 -1.92234814e-02\n",
      "  4.17836681e-02  1.79859158e-02  1.34861553e-02 -2.99534220e-02\n",
      " -1.89920645e-02  1.20879570e-02  3.82092558e-02 -1.67191075e-03\n",
      " -1.67472698e-02 -4.06867545e-03 -8.29476025e-03 -9.93158203e-03\n",
      " -8.35483242e-03 -6.50612265e-02 -1.38971386e-02  4.85363416e-03\n",
      " -2.17135195e-02  6.43662587e-02 -2.23206449e-02 -4.98383446e-03\n",
      " -3.05975191e-02  6.41691387e-02  4.38460819e-02 -1.18067032e-02\n",
      " -5.74644096e-02 -2.60567032e-02  1.64331924e-02  5.55904768e-03\n",
      " -2.20425762e-02  3.33358273e-02  4.75253016e-02 -2.81230062e-02\n",
      " -3.06865014e-02 -2.64948583e-03  2.11061332e-02 -1.12957999e-01\n",
      " -1.58971567e-02  2.06173826e-02 -1.24476654e-02  6.43846020e-03\n",
      "  3.97729874e-02 -2.18266174e-02 -9.67620127e-03  3.30420956e-02\n",
      " -1.75583758e-03 -1.18509969e-02  3.52721661e-02 -5.23178000e-03\n",
      "  6.00988790e-03  6.38301224e-02 -1.17966011e-02  1.14628579e-03\n",
      " -7.40976334e-02 -4.42265496e-02 -7.91032217e-04 -1.54519407e-02\n",
      " -4.26077703e-03 -4.70211357e-02  1.58565752e-02  3.45320590e-02\n",
      " -4.14048648e-03 -1.96016505e-02  3.53686064e-02  2.81541310e-02\n",
      "  4.32839803e-02 -7.59418905e-02  1.77835673e-02 -3.93462032e-02\n",
      "  8.69481545e-03  2.74256002e-02 -5.62980771e-02 -6.57242164e-02\n",
      " -2.79614348e-02  2.23430451e-02 -5.70105873e-02  3.93263474e-02\n",
      "  9.80747677e-03 -5.37571535e-02 -2.16160039e-03 -3.61291170e-02\n",
      " -9.54129770e-02 -3.14989388e-02 -4.61420007e-02 -3.18816602e-02\n",
      "  4.86732796e-02 -1.99188758e-02 -4.32780236e-02 -1.36797726e-02\n",
      "  9.97430459e-03  9.92207043e-03 -3.51114161e-02  4.75384556e-02\n",
      " -3.25324535e-02  1.91471651e-02  4.45795851e-03 -1.93887465e-02\n",
      " -5.51556759e-02  1.37501955e-02 -6.71013370e-02  9.89599302e-02\n",
      "  1.83213856e-02  2.63086450e-03  1.11123621e-02  9.81756859e-03\n",
      " -2.34873104e-03 -7.23500457e-03  6.92005754e-02 -1.77979525e-02\n",
      "  1.93871576e-02  3.48404497e-02  3.71026783e-03 -2.31597349e-02\n",
      " -1.61876082e-02 -2.03830004e-05  5.85170202e-02 -2.17130966e-02\n",
      "  7.08106323e-04  1.70280356e-02 -1.74645092e-02  2.55077407e-02\n",
      " -4.48321439e-02  1.76497007e-04  4.45652492e-02 -1.06605422e-02\n",
      " -1.94917414e-02  2.16734223e-02  2.91578230e-02  2.82461829e-02\n",
      "  8.02835636e-03 -3.33544388e-02  2.64511332e-02  4.91928868e-02\n",
      " -2.28605252e-02 -2.66940333e-03  2.44471226e-02  9.03586112e-03\n",
      " -4.40446846e-03  1.07890353e-01  3.10806204e-02  4.75585759e-02\n",
      "  6.14818484e-02 -3.04197781e-02  3.34600396e-02  1.73407216e-02\n",
      "  1.07003832e-02 -3.69133689e-02 -7.23322257e-02 -1.75293311e-02\n",
      "  4.09118384e-02 -1.30647747e-03  1.39374491e-02 -4.06443290e-02\n",
      "  1.59798394e-04 -6.00386150e-02 -3.49892629e-03 -3.03886719e-02\n",
      "  5.48027419e-02  1.81082953e-02  3.36956419e-03  3.26709747e-02\n",
      "  1.16221262e-02  4.20450047e-02 -2.19075158e-02  4.18632617e-03\n",
      " -3.58688384e-02 -9.83009115e-03  2.42739730e-02 -3.74407554e-03\n",
      " -1.79392938e-02  4.00830097e-02 -7.99946338e-02 -8.50595981e-02\n",
      " -7.32956314e-03 -3.12391575e-02 -3.25586321e-03 -1.50910374e-02\n",
      " -1.86841730e-02  9.81841609e-03 -4.46821302e-02  4.55592992e-03\n",
      " -2.12663114e-02  3.43727842e-02 -2.26955153e-02  2.58604996e-02\n",
      "  3.21530811e-02 -3.07541247e-02  4.32299227e-02  4.10698541e-02\n",
      " -4.60012145e-02 -2.46916013e-03  4.30822149e-02 -2.70864717e-03\n",
      " -8.48800503e-03 -3.65918316e-02  1.54807391e-02 -2.51311120e-02\n",
      "  4.27635461e-02  7.45073520e-03 -3.55605930e-02 -1.52966464e-02\n",
      "  1.77282579e-02 -1.75765213e-02  8.12639892e-02 -3.95511314e-02\n",
      "  3.47549953e-02  6.88463310e-03 -5.58174960e-02  1.99201033e-02\n",
      "  1.35423969e-02  8.95309169e-03 -6.62176358e-03 -2.34438926e-02\n",
      " -6.69754809e-03  2.01212596e-02  8.01292434e-03  3.00401486e-02\n",
      "  8.47569481e-03  5.12154959e-02  1.74523294e-02 -5.95506688e-04\n",
      " -2.43376642e-02 -6.44223168e-02  2.71546170e-02 -4.05705757e-02\n",
      " -1.26360299e-03  4.20243070e-02 -4.04547937e-02  4.15109582e-02\n",
      " -1.10733705e-02  4.55938168e-02  3.11128087e-02  1.88883282e-02\n",
      " -1.53448405e-02 -8.51995721e-02  6.92769811e-02 -2.01020017e-02\n",
      " -2.33714804e-02 -3.55001516e-03 -2.59952117e-02  4.82607000e-02\n",
      " -2.37935744e-02 -4.98674996e-02  1.40056955e-02 -1.07306591e-03\n",
      "  2.07010359e-02 -2.23310646e-02  1.46550708e-03 -2.78103445e-02\n",
      " -2.87089758e-02 -7.85250142e-02  3.97938583e-03  1.19439915e-01\n",
      "  2.12728921e-02  1.60174556e-02  4.15871516e-02 -1.54083027e-02\n",
      "  1.16889607e-02 -9.16953851e-03 -2.04809615e-03  3.82749154e-03\n",
      " -3.24225239e-03  3.92079540e-02 -7.14863464e-03 -3.33414711e-02\n",
      " -4.17479910e-02  1.62080545e-02 -5.16499132e-02  1.64928334e-03\n",
      "  5.20118438e-02 -2.71852575e-02  3.87529209e-02  4.99467961e-02\n",
      "  2.42855623e-02 -1.60078611e-02 -1.57327354e-02 -1.20378509e-02\n",
      " -3.68689001e-02  2.60173120e-02 -8.85410830e-02  5.11592068e-02\n",
      "  7.83950277e-03  8.50684009e-03  1.69207864e-02  2.23699622e-02\n",
      " -9.91611276e-03 -7.94940591e-02  3.41210491e-03  4.59525622e-02\n",
      " -3.01400311e-02 -2.55760737e-02 -1.04962140e-02 -6.87066016e-33\n",
      " -6.07906841e-02  2.73946542e-02 -1.74376070e-02  1.81191657e-02\n",
      " -8.26670825e-02 -7.07711370e-05 -4.48370774e-05  2.50031259e-02\n",
      "  1.16893521e-03  2.87938640e-02 -1.35112517e-02  1.62174413e-03\n",
      "  2.50899792e-02  2.57626995e-02  5.58054037e-02 -2.05418374e-02\n",
      " -3.21395206e-03 -5.92064718e-03 -2.08201073e-02 -2.09075003e-03\n",
      " -3.32058184e-02 -6.12796051e-03 -9.25205590e-04  4.67699999e-03\n",
      "  2.41127368e-02  5.45451418e-02 -5.32393605e-02  6.36360655e-03\n",
      "  1.72521751e-02 -1.01570506e-02 -2.39211470e-02  3.63342538e-02\n",
      "  1.62646901e-02  1.71339661e-02 -1.65013392e-02  6.22959342e-03\n",
      "  3.61084240e-03 -3.69112305e-02 -1.32194143e-02 -4.26750891e-02\n",
      " -7.25378841e-02  1.00670604e-03 -6.02453724e-02 -3.88444997e-02\n",
      "  5.27819758e-03  1.03852320e-02 -5.43972151e-03  1.80629808e-02\n",
      "  6.88044541e-03  1.57608073e-02 -4.55516838e-02 -3.05956304e-02\n",
      "  2.38344185e-02 -1.00102581e-01 -9.46638640e-03  5.67391701e-03\n",
      "  3.86937335e-02  8.43406618e-02 -2.14447267e-02  3.52030620e-02\n",
      "  7.11330846e-02  2.67326999e-02 -2.16647610e-02  1.05611339e-01\n",
      "  4.46702130e-02 -1.94992404e-02  5.94975834e-04 -4.99257445e-03\n",
      " -3.62191685e-02  1.25085786e-02  1.67411305e-02  4.06437330e-02\n",
      " -2.65737642e-02  1.86733697e-02  7.03939274e-02  2.06643473e-02\n",
      " -1.55710904e-02 -5.33156171e-02  5.14285602e-02 -1.85798686e-02\n",
      " -2.04882249e-02 -1.22056231e-02 -3.02616581e-02 -4.26461501e-03\n",
      " -1.70143768e-02  9.29239690e-02 -1.67803373e-03  3.49178948e-02\n",
      " -2.94561796e-02  3.37317139e-02 -4.51745018e-02 -6.69324165e-03\n",
      " -3.96246016e-02  3.76257324e-03 -3.44403796e-02  6.08233064e-02\n",
      " -7.43834628e-03 -1.21540269e-02 -3.39538865e-02  9.02101491e-03\n",
      " -2.53566708e-02 -4.12296653e-02 -1.10384807e-01  4.15785573e-02\n",
      " -8.82953499e-03  3.51647735e-02  3.85915907e-03  2.10074019e-02\n",
      "  1.37340110e-02  2.55918819e-02 -1.12818729e-03 -2.74837054e-02\n",
      " -3.05032358e-02  2.12665927e-02  5.18554240e-04 -1.98632833e-02\n",
      "  2.63251364e-03  7.43812323e-02 -2.14629360e-02  7.30163604e-02\n",
      "  1.62877347e-02 -9.21031460e-02  9.56113916e-03 -2.73400303e-02\n",
      "  1.88599527e-02  5.15256897e-02 -2.64601652e-02 -9.52504054e-02\n",
      " -6.96649402e-02  1.09009678e-03  7.97046442e-03  5.75926267e-02\n",
      "  2.61184965e-07  5.86978532e-02  6.53920099e-02  1.43181847e-03\n",
      "  6.18627556e-02  2.93418337e-02  2.76539698e-02 -2.10930146e-02\n",
      " -4.97342146e-04  3.39558162e-02  5.59036955e-02 -2.92270128e-02\n",
      "  2.24550553e-02  2.59377938e-02 -2.79976800e-02 -1.08683417e-02\n",
      " -2.05623489e-02 -3.86525765e-02 -8.10623616e-02 -1.39216827e-02\n",
      " -8.20370018e-03  3.37541290e-02  3.14058852e-03 -1.95114482e-02\n",
      "  2.40849387e-02  1.14556197e-02  4.24424335e-02  3.71157750e-03\n",
      " -3.00733224e-02  2.04316583e-02  8.08796100e-03 -4.31544743e-02\n",
      " -1.76484119e-02  4.86102654e-03 -3.70303392e-02  3.09017990e-02\n",
      "  7.52979657e-03 -1.27772568e-02  3.12207714e-02  4.11926024e-02\n",
      "  4.47854064e-02 -1.28733432e-02  2.49842945e-02 -3.46974395e-02\n",
      " -8.00092444e-02  6.98890630e-03 -2.90008001e-02  1.98472794e-02\n",
      " -3.12231667e-02  3.99951711e-02 -4.15788777e-02 -3.79200168e-02\n",
      " -4.30009142e-02 -3.90583947e-02  1.57532934e-02  2.20097210e-02\n",
      "  1.73488632e-02  6.23052791e-02 -4.91609238e-02 -1.57675631e-02\n",
      " -1.00855269e-01  2.69011296e-02  4.44150046e-02 -6.36964524e-03\n",
      "  5.41186295e-02  3.22995987e-03 -3.56089212e-02  3.90065797e-02\n",
      "  1.56713968e-34  2.31309738e-02  3.39686014e-02 -2.11601723e-02\n",
      "  3.41744609e-02 -3.58872674e-02  1.20994784e-02  2.55563240e-02\n",
      " -1.04082478e-02  3.25013883e-02 -2.07541324e-02  2.00076704e-03]\n",
      " \n",
      "Sentence : He drove to the stadium.\n",
      "Embedding : [-3.90254669e-02  3.80164683e-02  1.74591760e-03  4.08625975e-02\n",
      "  5.77291707e-03 -4.40112390e-02 -3.26323498e-04  3.57784145e-02\n",
      " -2.31940839e-02  1.95554495e-02  2.80450154e-02 -1.22797042e-02\n",
      "  3.08215972e-02 -1.43006584e-03  7.18028098e-02 -6.63086772e-03\n",
      " -5.17000146e-02 -5.46526201e-02 -1.04613863e-02 -1.59079824e-02\n",
      " -6.78807199e-02  2.09702570e-02  2.60974169e-02 -1.28285363e-02\n",
      " -5.81414290e-02 -3.80963623e-03 -4.76042321e-03  2.01149490e-02\n",
      "  6.01487868e-02 -6.13573240e-04 -5.99244833e-02  1.18675306e-02\n",
      "  7.12505057e-02 -5.15173674e-02  1.51922438e-06  4.27528583e-02\n",
      "  4.77113295e-04 -3.14206928e-02  1.90004390e-02 -1.33745205e-02\n",
      "  4.58719283e-02  1.14876330e-01 -2.07427889e-02 -1.25723658e-02\n",
      "  2.86659822e-02  2.21145935e-02 -4.50407788e-02 -4.85188663e-02\n",
      " -6.51254132e-02  4.65500131e-02 -8.11077654e-03 -4.36066128e-02\n",
      "  1.66782958e-03  3.98700200e-02 -4.57099006e-02  9.69107263e-03\n",
      "  1.18338410e-02  5.47915883e-02 -5.09146079e-02  2.01882124e-02\n",
      "  3.89284524e-03  1.66676892e-03  3.11592221e-02  2.80072670e-02\n",
      "  6.61057606e-02  3.98047902e-02  1.09434128e-02  1.22279441e-02\n",
      "  1.17245261e-02 -2.67159776e-03 -2.71632262e-02 -4.89550941e-02\n",
      "  4.49116565e-02  3.84482928e-02 -5.58465905e-02 -8.34831521e-02\n",
      "  3.37444469e-02 -4.65251915e-02  4.15096916e-02  2.85202218e-03\n",
      " -1.81810353e-02  1.26017658e-02  3.76749784e-03  2.02248357e-02\n",
      " -2.38432996e-02  1.58607066e-02  2.56636385e-02 -2.99885217e-03\n",
      " -4.02313191e-03  2.57747956e-02  2.13616844e-02 -5.87739572e-02\n",
      "  1.96590368e-02  7.17089772e-02  3.50322127e-02 -1.81574691e-02\n",
      "  1.55723533e-02 -1.49792302e-02 -3.91626991e-02 -9.25886109e-02\n",
      "  4.32135500e-02 -2.33780071e-02  2.79828869e-02 -3.31180803e-02\n",
      "  4.82740812e-03  3.09956074e-02  2.72932332e-02 -5.17687500e-02\n",
      "  4.59747901e-03 -1.41318282e-02  2.06842571e-02 -2.08374509e-03\n",
      " -3.07361241e-02  1.55133177e-02  3.89088169e-02  4.11988469e-03\n",
      "  2.52083060e-03  7.43145496e-02  8.63912553e-02  2.58365571e-02\n",
      " -2.18116082e-02 -2.05375068e-02 -3.85046192e-02  1.43670430e-02\n",
      "  2.12847851e-02 -8.42896104e-02 -6.03477508e-02  2.10511405e-02\n",
      "  1.07323593e-02  3.15893665e-02 -1.21326149e-02 -8.46101250e-03\n",
      " -5.42190904e-03  2.88929045e-02  1.29151652e-02  1.77671071e-02\n",
      " -2.23261267e-02  1.63415037e-02 -4.60101068e-02 -5.25948443e-02\n",
      "  1.63267818e-04 -5.25849201e-02 -1.97807513e-02 -2.61380076e-02\n",
      "  2.69105490e-02  4.39852029e-02 -4.07461263e-02 -4.83910888e-02\n",
      " -9.73206200e-03  3.21403854e-02  2.35951543e-02 -1.73511095e-02\n",
      " -4.34508808e-02  4.51083817e-02 -4.68198247e-02 -3.78502496e-02\n",
      " -6.55368790e-02 -1.26702469e-02  8.23132321e-03  3.30597237e-02\n",
      "  2.27598287e-02  3.17188650e-02 -1.52993510e-02 -7.00819772e-03\n",
      "  7.67495204e-03  2.99735926e-02 -3.46853770e-02 -2.49360800e-02\n",
      " -4.73909900e-02  2.29981914e-02 -6.98479638e-02  6.60889409e-03\n",
      " -3.72014530e-02  6.39833063e-02 -1.78155880e-02  6.55705109e-02\n",
      "  3.77270840e-02 -8.03408548e-02  1.88893974e-02 -1.24838774e-03\n",
      " -3.45438458e-02  9.21204407e-03 -9.06042475e-03 -3.00911423e-02\n",
      "  1.69661187e-03  4.13697809e-02  6.73295483e-02  4.02651951e-02\n",
      " -1.50561845e-02  4.92672436e-03  4.19787019e-02  7.21947383e-03\n",
      " -1.03746317e-02 -7.04481918e-03  3.05185579e-02 -2.16464549e-02\n",
      "  8.62370187e-04  3.40973139e-02 -6.70870068e-03  1.68457199e-02\n",
      "  2.34695729e-02 -3.55264805e-02  1.55641157e-02  1.53007498e-03\n",
      " -1.39319971e-02 -1.09278131e-02 -2.58593298e-02  2.44185627e-02\n",
      " -1.94054458e-03 -2.40705833e-02 -5.19491639e-03 -1.28466552e-02\n",
      " -2.82984786e-02 -2.59610601e-02  6.10335404e-03  2.49290038e-02\n",
      "  6.77585928e-03 -5.79265058e-02 -4.61563282e-03  5.54689094e-02\n",
      " -1.61186501e-03 -9.73590985e-02 -2.65903939e-02  1.54243829e-02\n",
      " -1.17835868e-02 -5.15258759e-02 -6.08273782e-04 -1.32432245e-02\n",
      " -9.71359760e-02 -2.59138308e-02  1.32230343e-02 -2.73115505e-02\n",
      "  3.16795073e-02  3.45322303e-02  8.21615234e-02  1.49761057e-02\n",
      " -1.63879171e-02  1.98997408e-02  2.83651836e-02  1.43551528e-02\n",
      " -1.92951839e-02  1.86547134e-02  1.84520092e-02 -2.38010492e-02\n",
      " -3.19869816e-02  5.68752661e-02 -3.42997946e-02  2.34207269e-02\n",
      "  4.59497645e-02  9.57355276e-03  1.29164513e-02 -5.25859371e-03\n",
      "  2.40887869e-02  2.85199750e-02  7.74443382e-03  5.98586444e-03\n",
      " -3.28177065e-02  1.00066625e-01  8.12881812e-03  3.41489874e-02\n",
      "  5.34990728e-02 -2.40349420e-03 -6.72350114e-04 -8.38171400e-04\n",
      " -6.76433742e-02 -3.70122343e-02 -9.27078165e-03  1.08813159e-01\n",
      "  6.47307420e-03 -3.40726338e-02  3.74426204e-03  1.19429007e-02\n",
      " -2.12810072e-03  2.81153712e-03  2.86769532e-02  6.08554995e-03\n",
      "  4.37408201e-02  3.35374251e-02 -3.67040187e-02  2.78332364e-02\n",
      " -2.04150155e-02 -3.15181985e-02  7.08336337e-03 -2.65664607e-02\n",
      " -5.97659731e-03 -2.07100809e-03  1.67646706e-02  5.01735928e-03\n",
      " -7.03208223e-02 -1.65561549e-02 -3.24378759e-02  1.69190038e-02\n",
      "  3.25865261e-02  2.86820196e-02  7.83746690e-03  1.24708591e-02\n",
      "  3.49072106e-02  5.91601916e-02  2.00612210e-02 -5.59018329e-02\n",
      "  1.48234023e-02 -2.21826788e-02  1.21654486e-02 -1.33673269e-02\n",
      " -1.58791803e-02  6.01782836e-03 -1.07903071e-01  5.30386576e-03\n",
      "  2.19824351e-02 -3.07513215e-02  3.82469296e-02  2.12354809e-02\n",
      " -3.42387035e-02 -4.75308299e-02 -4.26738635e-02 -9.46648791e-03\n",
      " -6.50917133e-03 -2.48820875e-02  3.07413526e-02  6.07285462e-02\n",
      "  2.42837649e-02  8.30187351e-02 -1.53954523e-02 -1.44218914e-02\n",
      "  5.44476211e-02 -3.85927148e-02 -9.11526661e-03  6.69366941e-02\n",
      "  6.21236907e-03  5.52208759e-02  7.11370073e-03 -4.76918742e-02\n",
      "  1.91409905e-02  2.97859864e-04  6.39645010e-02 -5.12238173e-03\n",
      "  2.26601399e-02  1.90811940e-02  2.27939244e-02 -1.39350467e-03\n",
      "  1.44940149e-02 -1.03354594e-02 -2.77401842e-02  2.58484501e-02\n",
      " -2.68544853e-02  2.15947106e-02  2.90396549e-02 -3.63878831e-02\n",
      " -4.53215130e-02 -3.06430366e-02 -5.98154357e-03  4.21979523e-04\n",
      "  5.28070610e-03 -1.22300070e-02 -9.51500423e-03 -1.72774065e-02\n",
      "  4.57173772e-02  1.06987357e-01  3.56565230e-02 -1.38496682e-02\n",
      " -1.47490194e-02  7.06404028e-03  1.03298098e-01  3.81155759e-02\n",
      " -4.39704880e-02 -3.72257526e-03  2.43006479e-02 -3.44047360e-02\n",
      "  2.13122321e-03  5.65187633e-02  2.31365841e-02 -7.44606950e-05\n",
      " -7.25596622e-02  2.64644227e-03  2.71624178e-02  7.69832581e-02\n",
      "  4.64693941e-02 -6.60399441e-03  3.69836874e-02 -3.69645134e-02\n",
      "  5.08081354e-02 -7.07269311e-02 -2.29193177e-03  6.14919979e-03\n",
      "  1.44358920e-02 -2.61656544e-03  2.97039244e-02  2.05014311e-02\n",
      "  3.26647237e-02  2.41370760e-02 -2.98361108e-03  2.38401592e-02\n",
      " -2.74984278e-02  4.52264678e-03 -1.50723252e-02  1.70833655e-02\n",
      " -3.93056199e-02  4.39688750e-02  2.93515492e-02 -1.56839564e-02\n",
      "  5.29383682e-03  6.73336312e-02  9.76108655e-04  4.42605950e-02\n",
      "  4.67479676e-02  1.37533424e-02 -4.04475890e-02 -3.42496783e-02\n",
      " -1.79132458e-03 -1.35103548e-02  1.59982778e-02  4.25452814e-02\n",
      " -9.19833779e-03 -7.92938005e-03  2.44044550e-02 -7.84642845e-02\n",
      "  6.56281423e-04  7.55024748e-03  1.88213475e-02 -8.33069235e-02\n",
      " -1.83033533e-02  3.29265930e-02  2.92602889e-02  3.51566263e-02\n",
      "  6.75381115e-03 -1.23534566e-02  6.32631034e-02 -8.28512851e-03\n",
      " -7.86470342e-03 -6.57291859e-02  2.87251025e-02 -1.20523190e-02\n",
      " -2.28585079e-02  6.59898017e-03 -5.60084172e-03 -4.72930931e-02\n",
      " -7.51146004e-02  2.70733535e-02 -1.96832847e-02  5.29212467e-02\n",
      "  3.92986462e-03  4.03457060e-02 -1.58476457e-02 -4.48246906e-03\n",
      "  4.33478784e-03  7.66068101e-02 -8.13023970e-02 -5.23082204e-02\n",
      "  3.91466310e-03  3.72209214e-03 -6.86592283e-03  4.43492383e-02\n",
      " -2.46256851e-02  7.21489778e-03 -2.19542775e-02 -3.64786759e-02\n",
      "  2.64367852e-02  7.94216469e-02 -1.40670938e-02  6.51181489e-02\n",
      " -1.94966085e-02  6.84295595e-03  2.04008352e-02 -1.49956355e-02\n",
      " -2.94363424e-02 -4.68822010e-02 -6.07010312e-02  1.17688701e-02\n",
      "  3.54544423e-03  3.81265581e-02  2.67600808e-02  1.84791405e-02\n",
      "  2.29981188e-02 -4.68688011e-02  1.83282401e-02  2.19104867e-02\n",
      "  1.05105564e-02  2.21695788e-02  4.19555679e-02  4.22804952e-02\n",
      "  2.86007253e-03  1.23928795e-02  2.18118317e-02  1.10331306e-03\n",
      " -1.36837726e-02  1.84334889e-02  2.25307494e-02  2.68618972e-03\n",
      "  4.39018235e-02  3.79388705e-02 -4.97349389e-02  4.36509885e-02\n",
      " -4.10192274e-02 -9.07937586e-02 -1.52081382e-02 -3.13815400e-02\n",
      "  1.99402478e-02 -2.91813491e-03  1.76155761e-01 -6.67893440e-02\n",
      "  4.98774170e-04 -9.05583054e-03 -7.50677660e-03  2.20036954e-02\n",
      " -1.29220057e-02  1.70990266e-02  2.06616707e-03 -5.60010271e-03\n",
      "  3.22653726e-02 -2.05321833e-02  8.96486919e-03 -1.18787270e-02\n",
      " -1.76615175e-02  7.35894889e-02 -8.57591256e-03  1.87266674e-02\n",
      " -4.63789962e-02  2.63075940e-02 -7.32511580e-02 -6.81927726e-02\n",
      " -3.74226496e-02 -6.73334440e-03 -3.12535465e-02  2.30812244e-02\n",
      "  1.87758040e-02  7.30986055e-03 -4.79257405e-02 -1.73330419e-02\n",
      "  2.02604420e-02  3.76483123e-03 -5.53577766e-02 -3.42845172e-02\n",
      "  4.87591624e-02  2.02996992e-02 -9.25527886e-03 -1.91545375e-02\n",
      "  1.69125237e-02 -1.21633671e-02  3.99401784e-02 -7.83654768e-03\n",
      "  5.58526963e-02 -1.31045589e-02  5.19992271e-03 -5.24438685e-03\n",
      "  6.11311616e-03 -5.15464097e-02  2.63901483e-02  1.26345921e-02\n",
      "  4.95213233e-02 -4.56524491e-02  2.10405588e-02  3.81961912e-02\n",
      " -3.31857800e-02 -5.17306924e-02  2.26135943e-02 -6.44154668e-33\n",
      " -6.88833650e-03 -3.66446399e-03  1.60140377e-02  1.40946051e-02\n",
      " -2.82453466e-02  2.95643019e-03  6.14623306e-03  2.05794442e-02\n",
      " -2.08039191e-02 -8.44504684e-03  3.79425399e-02 -3.40324678e-02\n",
      "  7.69112585e-03  4.67375927e-02  5.70149980e-02 -2.84614563e-02\n",
      "  1.59872025e-02  1.12198088e-02 -1.30433105e-02  1.51873343e-02\n",
      " -5.38607873e-02 -1.17865615e-02  8.59747082e-03 -8.42849817e-03\n",
      " -5.06655090e-02 -9.03584957e-02 -6.49460498e-03  3.69119868e-02\n",
      "  2.17927415e-02  1.09557398e-02  9.29711503e-04  2.45439168e-02\n",
      " -1.01554422e-02 -5.21758273e-02 -5.36851538e-03  4.12558243e-02\n",
      "  6.03635190e-03 -2.09251437e-02  3.63770127e-02 -1.71748847e-02\n",
      " -6.84161782e-02  2.56759766e-02 -1.06911967e-02 -2.44245566e-02\n",
      "  2.52612382e-02 -3.11929658e-02 -8.85967980e-04 -5.98899694e-03\n",
      "  1.31432917e-02 -1.67709738e-02 -2.10790504e-02 -5.45776042e-04\n",
      "  1.55134033e-02 -2.19054222e-02 -5.94279589e-03  3.68155017e-02\n",
      " -1.21737989e-02  8.09372962e-02 -1.77532379e-02  2.09684949e-02\n",
      "  2.75714546e-02  3.33263278e-02  1.33024119e-02  2.54311170e-02\n",
      "  8.75260122e-03 -3.85915376e-02  8.01740289e-02  8.23192019e-03\n",
      " -8.42377171e-02 -1.96665078e-02 -4.18892168e-02 -3.66810709e-02\n",
      " -1.52152758e-02 -5.36256805e-02 -6.98470399e-02 -8.92210111e-04\n",
      "  9.52882227e-03 -2.41249204e-02 -3.20787579e-02 -3.40426788e-02\n",
      "  2.33635176e-02  6.58912538e-03 -8.31872299e-02  3.03084776e-02\n",
      " -4.44883779e-02 -6.48972904e-03 -8.78756866e-03 -1.07474849e-02\n",
      "  2.31630169e-02  5.57781616e-03 -1.29052727e-02 -9.07051656e-03\n",
      " -6.64496701e-03 -3.64389317e-03 -6.42188191e-02  2.58581620e-02\n",
      " -1.17216177e-01 -1.83161497e-02 -5.66337332e-02  6.85800537e-02\n",
      " -5.36618233e-02  1.59582999e-02 -3.33943963e-03  2.09814124e-02\n",
      "  2.28852704e-02  7.58145191e-03 -3.51985991e-02  4.48985100e-02\n",
      " -1.37963006e-02 -1.61214303e-02 -1.26767915e-03 -7.13957660e-03\n",
      "  1.20615251e-02  2.16205493e-02 -6.60879631e-03  1.07832797e-01\n",
      " -1.49424495e-02 -1.77346151e-02  1.74886698e-03  4.37926443e-04\n",
      "  5.02561666e-02  4.43271035e-03  7.50437798e-03 -4.24261717e-03\n",
      " -2.44288743e-02  1.49286827e-02  1.35672996e-02 -8.40085186e-03\n",
      " -3.92320678e-02 -2.94775935e-03  2.46717166e-02 -5.06282561e-02\n",
      "  2.14989711e-07 -1.27616450e-02  2.00678334e-02 -3.25293615e-02\n",
      " -2.70564947e-02 -6.61533996e-02 -3.15290876e-02 -1.46759469e-02\n",
      " -3.29620950e-02  3.53495479e-02  6.29116446e-02 -1.34916473e-02\n",
      "  5.86696491e-02 -2.75904331e-02 -1.59675423e-02  5.70391566e-02\n",
      " -1.09051410e-02 -8.44835397e-03  1.05014406e-02 -1.98573768e-02\n",
      " -1.32332705e-02  2.94688698e-02  5.49346395e-02 -4.61869948e-02\n",
      "  1.39508378e-02  5.05089536e-02  7.19974563e-02 -5.86898029e-02\n",
      " -4.70532179e-02 -2.49566771e-02  2.62523871e-02  2.06527133e-02\n",
      "  4.24331203e-02 -1.75301768e-02  3.55232731e-02 -2.64993664e-02\n",
      "  8.31753761e-03 -4.12648842e-02  9.18424875e-03 -3.63533683e-02\n",
      " -4.76628095e-02 -1.40832802e-02 -8.36643502e-02  7.93304387e-03\n",
      "  2.09774636e-02 -1.34639787e-02 -1.83771569e-02 -6.71030115e-03\n",
      " -3.99551801e-02 -4.17101793e-02 -3.26943882e-02 -7.58918002e-02\n",
      "  9.41010751e-03  5.91081902e-02 -3.48271313e-03 -8.29059165e-03\n",
      "  9.00451001e-03 -1.85651239e-02 -2.30693873e-02  1.91252884e-02\n",
      "  1.25556573e-01  1.83191206e-02 -9.65753850e-03 -3.73947695e-02\n",
      "  3.49992104e-02  3.10667399e-02 -9.17281490e-03  1.41453939e-02\n",
      "  6.36144138e-35  9.28803068e-03 -2.09687408e-02  4.75141173e-03\n",
      " -1.68616846e-02 -5.70608526e-02 -3.25331464e-02 -7.01038018e-02\n",
      " -2.16103345e-02 -1.25758518e-02 -5.98294772e-02 -4.10263687e-02]\n",
      " \n"
     ]
    }
   ],
   "source": [
    "embeddings_dict = dict(zip(test_data , embeddings))\n",
    "for sentence , emb in embeddings_dict.items():\n",
    "    print(f\"Sentence : {sentence}\")\n",
    "    print(f\"Embedding : {emb}\")\n",
    "    print(f\" \")"
   ]
  },
  {
   "cell_type": "code",
   "execution_count": 25,
   "id": "5615b58b",
   "metadata": {
    "execution": {
     "iopub.execute_input": "2025-07-26T19:19:51.084084Z",
     "iopub.status.busy": "2025-07-26T19:19:51.083888Z",
     "iopub.status.idle": "2025-07-26T19:19:51.097174Z",
     "shell.execute_reply": "2025-07-26T19:19:51.096493Z",
     "shell.execute_reply.started": "2025-07-26T19:19:51.084069Z"
    },
    "trusted": true
   },
   "outputs": [
    {
     "data": {
      "text/plain": [
       "(768,)"
      ]
     },
     "execution_count": 25,
     "metadata": {},
     "output_type": "execute_result"
    }
   ],
   "source": [
    "embeddings[0].shape"
   ]
  },
  {
   "cell_type": "code",
   "execution_count": null,
   "id": "d2d453c9",
   "metadata": {
    "trusted": true
   },
   "outputs": [],
   "source": [
    "%%time\n",
    "emb_model.to(\"cuda\")\n",
    "\n",
    "for item in tqdm(pages_and_chunks_filtered) : \n",
    "    item[\"embedding\"] = emb_model.encode(item[\"sentence_chunk\"])"
   ]
  },
  {
   "cell_type": "code",
   "execution_count": 27,
   "id": "38b337ec",
   "metadata": {
    "execution": {
     "iopub.execute_input": "2025-07-26T19:20:41.496892Z",
     "iopub.status.busy": "2025-07-26T19:20:41.496643Z",
     "iopub.status.idle": "2025-07-26T19:21:05.097957Z",
     "shell.execute_reply": "2025-07-26T19:21:05.097367Z",
     "shell.execute_reply.started": "2025-07-26T19:20:41.496875Z"
    },
    "trusted": true
   },
   "outputs": [
    {
     "data": {
      "application/vnd.jupyter.widget-view+json": {
       "model_id": "409e96e41b8e4e4ea0747be50f5566d7",
       "version_major": 2,
       "version_minor": 0
      },
      "text/plain": [
       "Batches:   0%|          | 0/53 [00:00<?, ?it/s]"
      ]
     },
     "metadata": {},
     "output_type": "display_data"
    },
    {
     "name": "stdout",
     "output_type": "stream",
     "text": [
      "CPU times: user 25.4 s, sys: 71.9 ms, total: 25.5 s\n",
      "Wall time: 23.6 s\n"
     ]
    }
   ],
   "source": [
    "%%time\n",
    "text_chunks = [item[\"sentence_chunk\"] for item in pages_and_chunks_filtered]\n",
    "text_chunks_embeddings = emb_model.encode(text_chunks , batch_size=32, convert_to_tensor=True)"
   ]
  },
  {
   "cell_type": "code",
   "execution_count": 28,
   "id": "50bcc9f4",
   "metadata": {
    "execution": {
     "iopub.execute_input": "2025-07-26T19:21:05.098983Z",
     "iopub.status.busy": "2025-07-26T19:21:05.098718Z",
     "iopub.status.idle": "2025-07-26T19:21:05.271379Z",
     "shell.execute_reply": "2025-07-26T19:21:05.270672Z",
     "shell.execute_reply.started": "2025-07-26T19:21:05.098960Z"
    },
    "trusted": true
   },
   "outputs": [
    {
     "data": {
      "text/plain": [
       "tensor([ 3.2923e-02, -3.6203e-02,  9.6025e-03, -5.9295e-03,  4.9907e-02,\n",
       "         4.8232e-02,  2.4192e-03,  4.4203e-02,  6.6855e-02, -5.9236e-02,\n",
       "        -4.0920e-02,  1.1022e-02,  1.4030e-02, -2.6235e-02, -5.9962e-03,\n",
       "         4.6343e-03, -6.6848e-03, -2.2288e-02, -1.6214e-02, -1.6422e-02,\n",
       "        -2.1494e-02, -8.9056e-03,  3.2809e-03, -2.7728e-03, -4.3377e-02,\n",
       "         1.3853e-03,  5.2277e-02, -1.7030e-02,  1.1127e-02, -2.5265e-02,\n",
       "         5.3925e-03, -1.1638e-03,  2.3161e-02, -5.7264e-02,  2.2469e-06,\n",
       "        -2.8888e-03, -2.1207e-02, -7.2799e-03, -6.0239e-02,  2.2344e-02,\n",
       "         2.2962e-02, -6.6690e-02, -1.6562e-03, -5.6678e-03,  4.2398e-02,\n",
       "         5.7974e-02,  2.6893e-03,  8.5898e-03, -4.9369e-03,  3.9629e-02,\n",
       "         3.5413e-02,  6.1027e-02,  4.1460e-02,  6.5374e-02,  1.9681e-02,\n",
       "         1.1993e-02,  1.4332e-02,  1.0003e-01,  6.1612e-04,  4.9408e-02,\n",
       "         3.7746e-02,  5.7961e-03, -2.2947e-02,  2.6136e-02,  6.2787e-03,\n",
       "         6.3203e-02, -4.6549e-02, -5.9518e-02, -1.0462e-03,  1.2435e-02,\n",
       "        -1.5397e-02, -2.9871e-02,  7.8141e-02, -5.5738e-04, -2.1695e-02,\n",
       "         8.7172e-03, -2.2756e-02, -2.1456e-02,  3.0085e-02, -1.9579e-02,\n",
       "         2.1283e-02, -7.9754e-03,  3.2294e-02, -2.6174e-02,  9.3141e-02,\n",
       "        -4.5324e-02, -7.8435e-03, -3.7946e-03, -2.5853e-02, -1.4330e-02,\n",
       "        -8.5732e-02, -4.6407e-02,  4.0724e-02,  1.6988e-02,  3.0769e-02,\n",
       "        -1.1948e-02, -3.3728e-02,  5.2120e-03,  9.2693e-02, -1.7685e-02,\n",
       "         3.0775e-03, -1.0890e-02, -7.6465e-02,  1.4348e-03, -7.1171e-02,\n",
       "        -1.8736e-02, -1.0077e-02,  6.8450e-02, -2.2207e-02, -1.0154e-02,\n",
       "        -2.9641e-02, -3.9442e-02, -2.6307e-02,  1.3828e-01, -1.8925e-02,\n",
       "        -2.9752e-03, -2.4742e-02,  3.8995e-03, -1.7833e-03, -2.5232e-02,\n",
       "         4.6478e-02,  2.4493e-02,  4.6619e-02, -1.6129e-02, -2.3511e-02,\n",
       "         1.6578e-02,  1.6060e-02, -5.7901e-02, -1.7511e-02, -2.2007e-02,\n",
       "         4.4243e-02, -4.5145e-02,  2.4763e-02,  2.8408e-02,  2.9328e-02,\n",
       "        -1.7155e-02,  8.2895e-02, -3.6332e-02, -2.6648e-02, -6.9532e-03,\n",
       "        -3.2972e-02, -3.1202e-02, -5.9217e-02,  2.9438e-02, -1.2459e-02,\n",
       "        -3.2251e-02,  8.4692e-03,  5.9230e-02,  3.8401e-02,  3.1250e-03,\n",
       "         1.1199e-02, -2.1746e-02,  9.2118e-03, -7.8807e-03,  8.4068e-02,\n",
       "        -4.1366e-02,  6.2253e-02, -2.4663e-02,  1.1520e-02, -5.1224e-02,\n",
       "         5.5551e-02, -7.8729e-03, -9.3467e-03, -7.4549e-02, -4.8375e-04,\n",
       "         3.9229e-05,  6.6287e-02,  2.7575e-02, -5.3027e-02, -9.8951e-03,\n",
       "        -2.4894e-02, -4.3062e-02, -3.9576e-03, -2.0073e-02, -1.7050e-02,\n",
       "         5.0362e-02,  5.0041e-02,  3.2505e-02,  1.7332e-03, -2.5793e-02,\n",
       "         3.7005e-02,  9.7221e-04, -3.2253e-02,  5.2771e-02,  3.7306e-03,\n",
       "         2.4132e-03, -6.4368e-02, -5.1829e-03,  1.5981e-02, -2.1343e-02,\n",
       "         5.2008e-02,  1.0484e-02,  2.3813e-02, -3.4457e-02,  5.9758e-03,\n",
       "         2.0201e-02, -5.7776e-02, -4.0988e-02, -3.4657e-03, -4.0766e-02,\n",
       "         6.0821e-02,  6.3310e-02, -4.3388e-02,  3.3788e-02, -3.1474e-02,\n",
       "         6.4730e-03, -1.3541e-02,  2.7917e-02,  7.6624e-02, -3.1540e-02,\n",
       "         1.5105e-02, -2.7835e-03,  2.7736e-02, -4.7008e-02,  2.4930e-02,\n",
       "        -3.9946e-02,  7.4900e-03, -1.7004e-02, -5.7262e-02,  6.1916e-02,\n",
       "         1.5099e-02, -4.4265e-02, -5.5207e-02, -5.7614e-02,  6.1136e-02,\n",
       "         9.0055e-03,  3.7788e-03,  4.1289e-02, -6.7343e-02, -3.1448e-02,\n",
       "         1.8975e-02,  4.6102e-02,  1.5901e-02, -2.6842e-02, -3.4477e-02,\n",
       "        -6.4910e-02, -1.0099e-02,  1.9117e-02, -2.5296e-02,  1.0758e-01,\n",
       "         1.9995e-02, -4.0438e-03, -2.0552e-02, -6.4345e-03, -2.1651e-02,\n",
       "         3.6305e-02, -4.7084e-02, -3.4950e-03, -5.1362e-02,  7.9911e-03,\n",
       "        -2.3227e-02,  2.0053e-02,  1.4023e-02,  1.9595e-02, -3.9320e-02,\n",
       "         2.7296e-02,  1.3681e-02, -2.1862e-02, -4.8800e-02,  2.2674e-03,\n",
       "         4.6103e-02, -1.4446e-02,  2.1652e-02,  4.6538e-02, -2.9599e-02,\n",
       "         1.1803e-02,  4.3833e-02, -3.0205e-02, -3.9250e-02,  3.1432e-02,\n",
       "        -8.4893e-03,  3.2184e-02,  4.1159e-02,  4.8041e-02, -2.0901e-02,\n",
       "        -1.5763e-03, -3.1069e-02,  1.7075e-03, -1.2946e-02,  3.2527e-02,\n",
       "        -3.1757e-02, -3.6828e-03,  3.2495e-04, -2.7598e-03,  3.6931e-03,\n",
       "        -3.7320e-02, -6.0480e-03,  4.8392e-02,  1.1123e-01, -4.0745e-02,\n",
       "         6.2658e-02,  4.2342e-02,  1.1283e-02, -1.3567e-02,  3.7184e-02,\n",
       "         8.5696e-02, -7.4975e-03,  2.6726e-02,  4.0910e-03, -2.3716e-02,\n",
       "        -5.5765e-02,  1.3547e-02, -1.7759e-02,  4.6691e-02, -3.0460e-02,\n",
       "         5.3129e-02, -2.9440e-03, -1.5336e-02,  8.0117e-02, -1.4075e-02,\n",
       "        -2.8781e-03, -1.4752e-02, -2.7831e-02, -1.6429e-02, -3.5260e-02,\n",
       "         3.6622e-03, -2.3032e-02, -7.7979e-04, -1.6783e-02, -4.0787e-02,\n",
       "         4.4387e-04,  2.2312e-02, -4.5533e-03, -2.1259e-02, -2.1673e-02,\n",
       "        -2.2268e-02,  2.4392e-02,  8.6798e-03, -5.2766e-02,  1.1644e-02,\n",
       "        -2.0529e-02, -7.4135e-02,  3.1714e-03,  2.7626e-02,  6.0288e-04,\n",
       "         6.8503e-02, -6.8160e-03, -2.3986e-03, -1.6694e-02, -3.6288e-02,\n",
       "        -2.8565e-03,  1.8631e-02,  4.3307e-04,  5.9386e-02,  2.8973e-02,\n",
       "        -4.5096e-03, -2.5824e-02,  3.0126e-04,  1.9727e-02, -6.3224e-03,\n",
       "         4.2259e-02, -1.1373e-02, -1.4523e-02,  6.3147e-02, -2.9729e-03,\n",
       "         7.7233e-03, -1.1860e-02, -1.9213e-02, -4.1990e-02,  2.0968e-02,\n",
       "         9.2306e-02,  1.4063e-02, -6.2836e-02, -5.7956e-02,  6.8046e-02,\n",
       "         1.0504e-02, -3.5687e-02,  1.8420e-02, -4.8845e-02, -3.4002e-02,\n",
       "         4.8783e-02, -1.7690e-02, -1.8756e-03, -9.9565e-03, -6.4654e-03,\n",
       "         4.2242e-02,  2.5597e-02,  5.4305e-03, -8.4111e-02, -2.1949e-02,\n",
       "        -1.4548e-02, -1.4201e-03,  3.6421e-02,  1.2032e-02,  1.3878e-02,\n",
       "        -6.1767e-03, -2.5240e-02,  2.2959e-04,  9.6256e-02, -2.5536e-02,\n",
       "         2.0385e-02,  3.1819e-02, -7.8551e-02,  7.8901e-02, -5.2955e-04,\n",
       "         7.5997e-03, -1.0221e-02,  2.9791e-03,  6.8405e-03,  4.8926e-03,\n",
       "         4.8983e-02, -9.6863e-02,  2.6529e-02, -4.7402e-02,  4.6927e-02,\n",
       "        -6.1353e-02, -1.4927e-02,  2.8907e-02,  8.5677e-02, -3.7162e-03,\n",
       "         2.4449e-02, -9.1281e-02,  1.9322e-03,  8.0787e-04,  7.7239e-02,\n",
       "         2.7187e-02,  2.0700e-02, -1.0730e-02,  4.6487e-02, -2.5243e-02,\n",
       "        -4.0383e-02, -3.3784e-02, -4.1004e-02, -1.2580e-02, -5.8290e-02,\n",
       "        -2.9901e-03, -4.5895e-02,  7.9438e-03, -3.6613e-02, -1.9648e-02,\n",
       "        -6.8124e-03, -3.7635e-02,  3.7266e-02,  3.2461e-02, -6.9736e-02,\n",
       "        -1.2654e-02,  1.8462e-02, -7.0688e-02,  2.0193e-03, -3.0216e-02,\n",
       "         1.0008e-02,  4.7935e-02, -1.8309e-02, -6.5807e-03, -8.0746e-03,\n",
       "        -1.6182e-02, -2.1086e-02,  4.8288e-02, -3.1033e-03,  4.3200e-02,\n",
       "        -8.3760e-03,  4.5412e-02, -2.1027e-02,  1.9559e-02, -1.0711e-02,\n",
       "        -1.1304e-03, -6.0299e-02, -1.0696e-02,  4.5827e-02, -5.0167e-02,\n",
       "        -1.4023e-02, -3.2422e-02, -1.0500e-02, -3.8582e-02, -2.0299e-02,\n",
       "         3.9964e-02,  1.4635e-03, -5.6280e-02, -4.9931e-02, -2.1257e-02,\n",
       "         5.1627e-02,  3.0855e-02,  3.3282e-02, -4.6251e-02, -2.1965e-02,\n",
       "        -7.3030e-02, -1.9524e-02,  5.6390e-02,  1.8191e-02,  9.0435e-02,\n",
       "        -4.9298e-03,  2.8274e-03,  3.2752e-02,  3.7520e-02, -8.1960e-03,\n",
       "         9.9932e-03, -3.8329e-02, -1.1091e-02,  2.3930e-02,  6.2881e-02,\n",
       "         6.6851e-02,  6.6746e-02, -3.2445e-02, -3.1936e-02,  3.2803e-02,\n",
       "         4.9323e-02,  3.1246e-02,  3.6416e-02,  2.5264e-02,  1.0164e-02,\n",
       "         4.9917e-02,  1.3981e-02, -2.1746e-02,  2.6229e-02, -1.6964e-02,\n",
       "         5.6936e-03, -3.1653e-02, -3.3807e-02, -5.2691e-02, -1.9938e-02,\n",
       "        -3.3306e-02,  3.6129e-03,  1.5060e-02,  3.2654e-02, -3.2003e-02,\n",
       "         9.7974e-03,  9.7945e-03,  3.0073e-03, -1.7747e-02, -1.6100e-02,\n",
       "        -2.1664e-02, -2.7411e-02, -1.4465e-02,  5.0247e-02,  3.1085e-02,\n",
       "        -8.9528e-04,  4.3797e-02, -1.0187e-02, -1.0680e-01, -4.2946e-03,\n",
       "         3.0350e-02, -4.2166e-02, -2.3769e-02, -3.0256e-02,  4.6502e-03,\n",
       "         6.4993e-02, -6.0583e-02,  9.7253e-02, -2.3513e-02,  2.1278e-02,\n",
       "         3.2416e-03, -5.3302e-03,  2.5249e-02,  3.3318e-03,  2.2531e-03,\n",
       "         1.1535e-02, -6.1674e-02, -5.3274e-02,  6.5929e-03, -8.4899e-02,\n",
       "        -2.7883e-02, -3.8907e-02, -6.0068e-03,  9.2895e-03,  7.2959e-02,\n",
       "        -5.9004e-33,  1.0745e-01, -3.6449e-02,  1.6251e-02,  4.5468e-02,\n",
       "         2.3884e-02,  7.1132e-02,  3.6843e-02, -6.7386e-02, -1.2690e-02,\n",
       "         2.4656e-02,  2.9860e-02,  2.5965e-02, -7.9529e-03, -1.1072e-02,\n",
       "         2.0390e-02, -2.9290e-02,  2.9465e-02, -4.8111e-02,  2.2252e-02,\n",
       "        -3.5297e-03, -3.0377e-02, -2.9747e-02,  4.1773e-02,  9.3459e-03,\n",
       "         1.3503e-02, -9.6523e-03,  1.2169e-02, -3.6696e-02, -4.6761e-02,\n",
       "         5.7081e-02, -4.8828e-04, -2.1102e-03, -3.2968e-02,  1.4585e-02,\n",
       "        -3.9353e-02,  2.4084e-02, -3.8698e-02,  1.8814e-02,  3.2362e-02,\n",
       "         3.8135e-02, -7.1437e-02, -3.3292e-02,  6.5228e-03, -2.8353e-03,\n",
       "         1.3845e-02,  1.3515e-02, -6.6724e-02,  1.0398e-02,  1.8636e-02,\n",
       "         8.3131e-03, -1.6918e-03,  7.1991e-03, -1.1043e-02, -1.3711e-02,\n",
       "         5.6138e-03,  6.8177e-02, -2.2163e-02, -4.5628e-02,  1.8971e-02,\n",
       "        -1.3670e-02, -7.3671e-02,  5.0699e-02, -4.3579e-02,  3.1922e-02,\n",
       "         1.4799e-02, -7.3967e-03, -2.4511e-02, -3.3506e-02, -3.7112e-02,\n",
       "        -2.5718e-02,  1.3262e-02,  3.4537e-02, -1.0964e-02,  1.6620e-02,\n",
       "        -3.0232e-02, -2.5848e-02, -9.1705e-03, -1.0583e-02, -1.4892e-02,\n",
       "        -5.9602e-03, -3.9003e-02,  1.2607e-03,  3.0300e-02, -7.7329e-03,\n",
       "         2.1632e-02,  1.3997e-02, -1.4220e-02,  3.5164e-03, -8.1674e-03,\n",
       "        -1.9763e-02, -6.8973e-03,  3.6354e-02,  4.9302e-03, -3.2362e-02,\n",
       "         1.2120e-02,  6.8739e-02,  3.4013e-03, -2.2571e-02,  3.1787e-02,\n",
       "        -3.5069e-02, -5.3000e-02,  2.6148e-02,  3.3402e-02, -4.6676e-02,\n",
       "        -5.4968e-02, -4.1541e-02, -3.0809e-02,  2.2775e-03,  2.0041e-02,\n",
       "        -1.3744e-02, -3.8942e-03,  3.1908e-02,  6.9241e-02, -1.1473e-02,\n",
       "        -7.8794e-03,  2.8958e-02,  7.1473e-03,  1.3806e-02, -2.2030e-02,\n",
       "        -2.2818e-02, -5.7720e-02,  5.8815e-02,  1.9501e-02, -9.7849e-03,\n",
       "        -4.8433e-03, -4.5971e-02,  3.6388e-02,  4.9596e-02, -1.8799e-02,\n",
       "         1.9613e-02,  1.9170e-03,  2.7509e-02,  3.0631e-07, -1.0838e-02,\n",
       "         9.7610e-03, -1.4612e-02, -8.8912e-02,  2.4693e-02, -1.3711e-02,\n",
       "         2.3599e-02, -2.0752e-02,  8.6264e-03, -1.9927e-02,  8.5500e-02,\n",
       "        -4.1536e-02,  1.0081e-02, -2.3923e-02, -3.0248e-02,  3.5029e-02,\n",
       "        -1.4221e-02, -1.2738e-01,  5.2974e-02, -2.7682e-02, -8.5041e-02,\n",
       "        -2.1049e-02, -3.5838e-02, -1.1911e-02, -2.4424e-02, -4.0077e-02,\n",
       "         7.0864e-03,  1.5418e-02,  2.3284e-02,  1.7754e-02,  5.6952e-02,\n",
       "         1.1235e-02,  1.9876e-02,  3.6408e-02, -1.6478e-02, -1.0636e-02,\n",
       "        -9.1770e-03,  1.0825e-02,  1.1411e-02, -3.4860e-02, -2.8820e-02,\n",
       "         1.8520e-02, -1.3110e-02,  3.0133e-02, -6.1371e-02, -5.1555e-04,\n",
       "         4.6985e-04, -1.0523e-02,  6.3981e-02,  6.1967e-03,  1.2432e-02,\n",
       "         7.4924e-03, -3.6193e-02,  2.9754e-02, -2.2400e-02,  7.5949e-03,\n",
       "         2.0952e-02,  3.7378e-03,  4.7323e-02,  2.5725e-02, -3.8235e-02,\n",
       "        -1.9322e-02, -1.0057e-02, -1.1649e-02,  1.5304e-02,  3.2077e-02,\n",
       "        -4.6629e-03,  2.4954e-34, -2.1796e-02, -2.6652e-02, -8.3560e-03,\n",
       "        -1.5742e-02,  1.4379e-03, -2.4008e-02, -3.0160e-02, -1.5921e-02,\n",
       "        -5.4208e-03, -3.8800e-02, -2.9707e-02], device='cuda:0')"
      ]
     },
     "execution_count": 28,
     "metadata": {},
     "output_type": "execute_result"
    }
   ],
   "source": [
    "text_chunks_embeddings[50]"
   ]
  },
  {
   "cell_type": "code",
   "execution_count": 29,
   "id": "0f99b5fa",
   "metadata": {
    "execution": {
     "iopub.execute_input": "2025-07-26T19:21:05.272343Z",
     "iopub.status.busy": "2025-07-26T19:21:05.272088Z",
     "iopub.status.idle": "2025-07-26T19:21:05.283030Z",
     "shell.execute_reply": "2025-07-26T19:21:05.282378Z",
     "shell.execute_reply.started": "2025-07-26T19:21:05.272320Z"
    },
    "trusted": true
   },
   "outputs": [
    {
     "data": {
      "text/plain": [
       "{'page_number': 22,\n",
       " 'sentence_chunk': 'Part\\xa0XVIII.\\xa0Chapter 18. Nutritional Issues Introduction University of Hawai‘i at Mānoa Food Science and Human Nutrition Program and Human Nutrition Program 1043 Comparing Diets University of Hawai‘i at Mānoa Food Science and Human Nutrition Program and Human Nutrition Program 1046 1.\\xa0\\xa0\\xa0Calories In Versus Calories Out University of Hawai‘i at Mānoa Food Science and Human Nutrition Program and Human Nutrition Program 1063 Nutrition, Health and Disease University of Hawai‘i at Mānoa Food Science and Human Nutrition Program and Human Nutrition Program 1076 Threats to Health University of Hawai‘i at Mānoa Food Science and Human Nutrition Program and Human Nutrition Program 1098 Undernutrition, Overnutrition, and Malnutrition University of Hawai‘i at Mānoa Food Science and Human Nutrition Program and Human Nutrition Program 1121 Food Insecurity University of Hawai‘i at Mānoa Food Science and Human Nutrition Program and Human Nutrition Program 1132',\n",
       " 'chunk_char_number': 955,\n",
       " 'chunk_word_number': 137,\n",
       " 'chunk_token_number': 238.75,\n",
       " 'embedding': array([ 3.91654260e-02,  7.29184970e-02,  2.66678981e-03,  5.25584305e-03,\n",
       "         4.73359786e-02,  3.48278396e-02, -2.39003240e-03,  4.08033170e-02,\n",
       "         3.18122916e-02, -2.62923003e-03,  5.68398610e-02, -1.94859039e-02,\n",
       "         5.45068085e-02, -1.40702520e-02,  3.92833678e-03, -2.65933871e-02,\n",
       "         9.27356444e-03, -4.70916694e-03,  9.35664959e-03,  3.41331884e-02,\n",
       "        -8.26367885e-02, -7.95943011e-03,  2.58091446e-02,  2.63550356e-02,\n",
       "        -1.30770123e-02, -1.06171006e-03,  1.35340970e-02, -1.41138956e-02,\n",
       "        -1.96186323e-02, -7.79289305e-02,  2.60353815e-02,  1.40716508e-02,\n",
       "        -1.98886916e-02, -1.02006465e-01,  2.16366880e-06,  1.15993218e-02,\n",
       "         3.69197205e-02,  1.68319251e-02, -5.33465780e-02,  1.09895602e-01,\n",
       "         2.48843618e-03, -6.25678673e-02, -1.01931775e-02,  1.02181584e-02,\n",
       "         6.05418906e-02, -4.16943291e-03,  6.03623688e-02, -6.89935451e-03,\n",
       "         4.09996789e-03,  2.01404153e-04,  1.39981275e-03, -1.78793948e-02,\n",
       "        -6.03206083e-02, -1.81288309e-02,  1.83283053e-02,  7.11034015e-02,\n",
       "        -3.40921693e-02,  3.06937527e-02, -2.54789237e-02, -2.04940587e-02,\n",
       "        -4.13059676e-03,  2.09542848e-02, -4.61163727e-04,  2.91804802e-02,\n",
       "        -2.53191311e-02,  2.69426946e-02,  1.21441698e-02, -8.38401169e-02,\n",
       "         5.46635725e-02,  5.83268106e-02,  6.67515174e-02,  3.85705531e-02,\n",
       "        -3.75420833e-03,  6.32562414e-02, -2.46430263e-02, -1.12359282e-02,\n",
       "         4.41312902e-02, -3.97102199e-02, -3.43411649e-03, -4.90547195e-02,\n",
       "         2.60589877e-03,  9.92633682e-03,  5.20752557e-03,  1.71910040e-02,\n",
       "        -1.29691809e-02,  2.55857483e-02, -8.68263748e-03,  9.27237421e-03,\n",
       "        -2.29334924e-02, -4.61319983e-02, -2.69876514e-02,  1.08979279e-02,\n",
       "        -2.11680252e-02,  4.62195911e-02,  3.18979621e-02, -2.39231461e-03,\n",
       "         7.76956081e-02, -5.70009351e-02,  6.28640428e-02, -2.99280975e-02,\n",
       "         3.04515306e-02,  6.30101413e-02, -6.20937683e-02, -2.13856604e-02,\n",
       "         1.39862942e-02,  5.62291145e-02,  1.74074732e-02, -3.01373582e-02,\n",
       "        -2.00271886e-02,  7.40398243e-02, -5.73381549e-03,  1.12102646e-03,\n",
       "        -1.15430709e-02, -5.10470383e-02,  1.70027092e-02, -1.11859222e-03,\n",
       "        -1.86032659e-04, -4.47503291e-02, -2.51326319e-02, -8.42824578e-02,\n",
       "        -6.01503719e-03,  2.69127712e-02, -4.80151251e-02,  5.12065403e-02,\n",
       "        -3.18547338e-02,  1.16603404e-01,  1.10225205e-03,  1.06768385e-02,\n",
       "         1.97262522e-02, -2.30491180e-02, -5.47789363e-03, -7.47080054e-03,\n",
       "        -1.27207236e-02,  9.83879436e-04,  1.69668961e-02, -1.00233071e-02,\n",
       "        -4.21474827e-03,  2.32974719e-02, -2.57478822e-02, -4.59320806e-02,\n",
       "        -6.37912825e-02, -4.47424175e-03, -6.42881766e-02, -3.55581269e-02,\n",
       "         5.58958277e-02, -4.69987700e-03,  6.36666417e-02,  9.58796963e-03,\n",
       "         4.85785119e-02,  5.14769256e-02, -1.11775175e-02, -1.26495603e-02,\n",
       "         5.81372380e-02,  5.79813756e-02,  1.14289977e-01,  1.79638118e-02,\n",
       "         3.59176211e-02, -4.67217192e-02,  5.30893505e-02,  3.34308147e-02,\n",
       "        -2.25165207e-02, -2.35599726e-02, -6.36935830e-02, -1.78038180e-02,\n",
       "         3.66217876e-03,  4.95169684e-02,  1.82325915e-02, -9.13600624e-03,\n",
       "         1.13614798e-02,  3.62139679e-02, -1.22501710e-02,  9.22184810e-03,\n",
       "        -5.12916036e-02,  5.62465079e-02,  3.74201573e-02, -4.21144441e-03,\n",
       "        -2.99937259e-02,  2.45336108e-02,  2.34840252e-02, -2.08777543e-02,\n",
       "        -1.40080834e-02, -2.84318402e-02,  3.91046926e-02,  2.37351302e-02,\n",
       "        -7.10369200e-02, -4.13567061e-03,  9.02354997e-03, -2.78349258e-02,\n",
       "         2.67717130e-02, -5.01387939e-02,  2.71433275e-02,  2.42158137e-02,\n",
       "        -5.67001700e-02, -4.84337173e-02, -4.79428709e-04,  4.05374914e-02,\n",
       "         1.48026412e-02, -3.97377321e-03,  2.95826737e-02, -5.35397828e-02,\n",
       "         4.58856300e-02,  4.65988256e-02,  6.16458282e-02, -1.90046206e-02,\n",
       "        -2.12153438e-02,  4.81682457e-02,  4.69213128e-02, -3.51595972e-03,\n",
       "         3.76365222e-02, -2.78382972e-02, -3.92545685e-02, -4.04548133e-03,\n",
       "         3.25052962e-02,  5.89173241e-03, -1.57660004e-02,  1.79012343e-02,\n",
       "        -4.67669824e-03, -8.42832215e-03,  1.99901611e-02,  9.36914980e-02,\n",
       "         5.96263260e-02,  5.71440756e-02, -6.00133985e-02, -7.81086739e-03,\n",
       "         6.02968922e-03, -2.51343586e-02,  1.68756936e-02,  8.59691645e-04,\n",
       "         3.84353064e-02,  3.02560423e-02,  2.41987426e-02,  4.51181456e-02,\n",
       "        -7.07935095e-02, -1.37107596e-02, -9.65656526e-03,  3.09097189e-02,\n",
       "         6.50422424e-02,  6.40936345e-02,  8.48512209e-05, -1.12045305e-02,\n",
       "        -4.15878035e-02,  8.34262092e-03,  8.12160969e-03,  1.81069057e-02,\n",
       "        -6.25510737e-02,  4.83352244e-02, -1.85590032e-02, -1.86157506e-02,\n",
       "        -4.70786244e-02,  9.17286575e-02,  3.25535275e-02, -9.88685805e-03,\n",
       "         3.58660258e-02, -3.63694178e-03, -6.28814623e-02, -1.48113966e-02,\n",
       "        -4.16445695e-02, -2.19767466e-02, -2.84840055e-02,  6.92587942e-02,\n",
       "        -2.78808773e-02,  1.95962656e-02, -1.68368034e-02, -3.44434269e-02,\n",
       "         4.06556390e-02, -2.73569766e-02,  2.51133759e-02,  5.01763821e-03,\n",
       "         1.35933151e-02, -5.67796528e-02, -1.74615365e-02, -2.62717274e-03,\n",
       "        -1.29254134e-02,  2.52358522e-03,  1.31511129e-02,  3.58900763e-02,\n",
       "         3.56234163e-02, -2.92700902e-02,  5.10825515e-02, -2.36714296e-02,\n",
       "         7.28435814e-03,  8.66674557e-02, -2.00667214e-02,  1.74747761e-02,\n",
       "         1.14289448e-02, -2.07857564e-02,  1.91805512e-02, -4.20941152e-02,\n",
       "         3.53444815e-02, -1.49997398e-02,  5.07616177e-02, -6.75551966e-02,\n",
       "         2.07807440e-02, -3.10885627e-02, -3.44189629e-02,  1.37907388e-02,\n",
       "        -3.52520309e-02,  4.63350303e-03,  3.74414138e-02,  1.81512926e-02,\n",
       "         4.75286767e-02, -9.94918868e-03, -1.74454991e-02,  3.42813656e-02,\n",
       "        -1.09243114e-02,  3.56109403e-02, -1.25010626e-03, -5.05346693e-02,\n",
       "         2.01085024e-03, -3.33438478e-02,  2.03337539e-02,  5.92959896e-02,\n",
       "         5.25366887e-02,  1.72462426e-02, -3.04054935e-02, -3.47393267e-02,\n",
       "        -4.98765074e-02,  3.48240845e-02,  3.29774842e-02,  1.93714723e-02,\n",
       "         2.65813991e-03, -9.91948973e-03, -5.23594557e-04,  1.63901802e-02,\n",
       "        -6.10300153e-03, -1.75256673e-02,  4.32482325e-02,  4.57839034e-02,\n",
       "        -5.26456237e-02, -4.35503982e-02, -4.14629141e-03,  1.99373309e-02,\n",
       "         4.36715297e-02,  1.22314328e-02,  3.76486592e-02, -2.08252743e-02,\n",
       "         3.38355056e-03,  4.41397959e-03, -3.60607766e-02, -2.34221872e-02,\n",
       "        -3.27406824e-02, -2.01876857e-03, -6.99024473e-04,  4.41715084e-02,\n",
       "        -1.11584822e-02, -3.59519683e-02, -1.21881720e-03,  2.23632604e-02,\n",
       "        -1.18170946e-03,  1.88353769e-02, -4.01163939e-03, -4.88298200e-02,\n",
       "         3.17547098e-02, -2.94820908e-02,  1.68748107e-03, -1.87391303e-02,\n",
       "         4.80111204e-02, -1.59281697e-02,  2.20816745e-03,  2.06488892e-02,\n",
       "         1.73977260e-02,  1.40670110e-02, -2.11625248e-02, -5.25344200e-02,\n",
       "         7.62377605e-02,  3.85125689e-02, -6.95042359e-03,  5.11011258e-02,\n",
       "         4.84154522e-02,  1.32930391e-02,  6.43473724e-03,  4.66570817e-02,\n",
       "        -2.01063547e-02,  9.20978282e-03, -1.52565464e-02, -4.25361842e-02,\n",
       "         7.96988315e-04,  4.91380915e-02, -9.40305588e-04, -3.49539965e-02,\n",
       "         4.99447361e-02,  1.72684994e-02,  5.53234369e-02,  1.08305421e-02,\n",
       "        -1.16721634e-02, -5.02814911e-02, -2.87233964e-02, -2.91334707e-02,\n",
       "         2.97028897e-03, -4.49481271e-02,  2.08950378e-02,  2.10756268e-02,\n",
       "        -1.72102582e-02,  1.23954033e-02, -1.65664349e-02, -2.33938694e-02,\n",
       "         2.34176125e-02, -2.57287640e-03,  2.49885954e-02,  1.68975797e-02,\n",
       "        -3.64686064e-02, -3.04366201e-02,  3.64042893e-02,  6.38272054e-03,\n",
       "        -3.16318274e-02,  1.90719459e-02,  4.13952656e-02,  1.95231102e-02,\n",
       "        -7.24417623e-03,  4.49084714e-02,  5.99069707e-02,  1.40798721e-03,\n",
       "         9.59691219e-03, -4.04738709e-02, -9.09695029e-03, -3.81540577e-03,\n",
       "        -4.36812490e-02, -1.14537338e-02,  1.42614823e-02, -2.56589148e-02,\n",
       "         6.04687491e-03,  6.08634092e-02, -2.10148040e-02,  2.31853686e-02,\n",
       "        -3.34405266e-02,  8.46952293e-03,  5.15401014e-04,  1.36265988e-02,\n",
       "        -7.17565119e-02,  2.71869879e-02,  4.73801270e-02,  6.05929503e-03,\n",
       "        -4.76471260e-02, -6.68599233e-02, -2.21371073e-02,  2.67581064e-02,\n",
       "         5.89360408e-02, -4.26982194e-02, -3.76112312e-02, -4.50999364e-02,\n",
       "        -1.93667617e-02,  2.09402555e-04,  5.09676561e-02, -8.90830904e-03,\n",
       "        -1.89792775e-02,  2.74637584e-02, -1.04919287e-04,  6.59573749e-02,\n",
       "         5.68339936e-02, -2.94719674e-02,  1.67434514e-02,  3.43959853e-02,\n",
       "        -1.82843767e-02,  1.35162342e-02,  4.30698022e-02,  2.66267303e-02,\n",
       "         3.74156586e-03, -3.61347273e-02, -2.01517995e-02, -1.27393259e-02,\n",
       "         5.87165467e-02, -4.26106708e-04, -2.27353442e-02,  2.25868393e-02,\n",
       "        -3.16246077e-02, -4.14747298e-02,  1.34990113e-02,  4.10326011e-02,\n",
       "        -1.79481078e-02, -3.62508781e-02, -4.46319580e-02,  5.08433916e-02,\n",
       "         2.57398887e-03,  2.74925493e-02,  4.11952380e-03, -3.78598459e-02,\n",
       "        -3.04260962e-02, -4.39905003e-02, -3.28915901e-02,  9.17723216e-03,\n",
       "         6.86317170e-03,  9.42749716e-03, -7.53504131e-03, -3.10831815e-02,\n",
       "        -2.73180883e-02, -1.38240699e-02, -3.33537869e-02, -4.05038260e-02,\n",
       "        -1.79297477e-02, -4.86282073e-02,  2.57256739e-02,  5.25260754e-02,\n",
       "        -6.67212997e-03, -3.85498069e-02, -4.46396740e-03,  3.39369886e-02,\n",
       "        -4.55378601e-03,  3.07053961e-02,  1.78861693e-02, -1.82472430e-02,\n",
       "         1.96175911e-02, -6.00298494e-03,  7.23503670e-03, -2.61151232e-02,\n",
       "        -1.56295523e-02,  3.38446237e-02,  1.94856941e-04,  1.23921856e-02,\n",
       "         8.62445775e-03, -1.95992813e-02,  3.49281309e-03, -2.22115647e-02,\n",
       "         8.16452727e-02, -1.56733207e-02, -7.68065872e-03, -6.57459199e-02,\n",
       "        -1.76300611e-02, -3.69600840e-02, -9.68249049e-03, -2.91249622e-02,\n",
       "        -1.08153429e-02, -1.49722202e-02,  1.96143370e-02, -4.00195196e-02,\n",
       "        -3.00267320e-02,  4.51506376e-02,  1.98198166e-02,  1.85677987e-02,\n",
       "        -2.39638779e-02,  5.31447269e-02,  3.38185430e-02,  4.15130379e-03,\n",
       "         1.49799492e-02,  5.80105558e-02,  3.21871191e-02,  8.06750439e-04,\n",
       "        -2.36219075e-02, -1.53246615e-02, -5.44563010e-02,  5.67904860e-03,\n",
       "        -6.59356301e-04, -5.60407117e-02, -1.36473095e-02,  1.27890846e-03,\n",
       "         3.60172726e-02,  8.06773305e-02, -8.64349678e-02, -1.06467061e-01,\n",
       "         5.77008305e-03, -4.67202887e-02,  1.16589358e-02, -9.20738559e-03,\n",
       "        -4.61470261e-02,  7.18884775e-03,  8.03672671e-02, -5.74915589e-33,\n",
       "        -1.86162628e-02, -1.02604277e-01,  3.89263146e-02, -8.80143722e-04,\n",
       "         4.08814885e-02, -1.47209093e-02,  5.42390766e-03, -5.35904150e-03,\n",
       "        -6.39040768e-02, -3.36318389e-02, -3.84866563e-03, -4.07999789e-04,\n",
       "         2.21970323e-02, -3.54768299e-02,  1.21699907e-02, -2.28041001e-02,\n",
       "        -2.19596531e-02, -1.75012345e-03, -3.27953175e-02, -6.73309639e-02,\n",
       "        -7.57564306e-02, -1.17780967e-02, -9.52109136e-03,  3.82722616e-02,\n",
       "         4.74685170e-02, -2.62472499e-03,  1.35266539e-02, -5.31157553e-02,\n",
       "        -6.33167103e-02, -4.35209945e-02, -1.17498068e-02,  3.88135575e-02,\n",
       "         4.29547913e-02,  6.49651513e-02, -6.00863528e-03, -5.18716276e-02,\n",
       "         1.79984383e-02, -4.01204377e-02, -5.76948095e-03, -5.73248044e-02,\n",
       "        -1.95439672e-03, -7.30595440e-02,  1.72009077e-02,  4.93096113e-02,\n",
       "         1.98398475e-02, -2.95093469e-02, -1.49908923e-02, -3.78920063e-02,\n",
       "         5.87701378e-03,  8.33343342e-02, -4.24751313e-03, -4.16777842e-03,\n",
       "         5.80330798e-03,  3.37536335e-02, -2.75521390e-02,  9.60793942e-02,\n",
       "         1.18451742e-02,  2.92923674e-03,  2.18670703e-02,  1.65907817e-03,\n",
       "        -7.53480475e-04,  1.43522546e-02,  3.38150449e-02,  3.46064046e-02,\n",
       "        -2.58084256e-02, -4.64011207e-02,  4.44415165e-03,  2.71819555e-03,\n",
       "        -3.45387124e-02, -2.21181307e-02, -3.34340185e-02, -2.92393081e-02,\n",
       "         8.10518581e-03,  3.38461660e-02, -2.22255220e-03, -8.96292254e-02,\n",
       "         8.12281668e-03,  1.95178464e-02, -1.56798922e-02, -4.28940170e-02,\n",
       "        -4.87917848e-02, -1.73805524e-02,  1.17917359e-02, -2.08043084e-02,\n",
       "        -4.95322719e-02,  5.11751417e-03, -1.78904925e-02,  1.54894842e-02,\n",
       "         3.19288746e-02,  1.52883520e-02,  3.40236234e-03,  2.67031393e-03,\n",
       "         1.20864250e-02,  3.85759696e-02,  4.83356752e-02, -1.40257739e-02,\n",
       "         4.02518548e-02, -3.39305662e-02,  3.39011960e-02, -6.38943166e-02,\n",
       "        -5.46504334e-02,  1.01652835e-02,  8.74128286e-03,  9.08405334e-03,\n",
       "         1.47950342e-02, -6.46992102e-02, -1.73133779e-02, -2.17539798e-02,\n",
       "         5.55987097e-02, -4.00188528e-02,  1.31572885e-02, -5.02408333e-02,\n",
       "         2.56824177e-02, -3.35855521e-02, -6.42452016e-02, -1.33565618e-02,\n",
       "         4.30436358e-02,  1.67849436e-02,  3.49519663e-02, -3.17775123e-02,\n",
       "        -5.26777729e-02, -2.35645156e-02, -3.92862177e-03, -9.79699343e-02,\n",
       "        -3.27532366e-03, -4.97954488e-02,  4.69756499e-02,  4.63376418e-02,\n",
       "        -2.19021607e-02,  2.69637397e-03,  3.56636122e-02, -2.13222504e-02,\n",
       "         2.62456268e-07,  1.54382661e-02,  3.97488242e-03,  2.11616084e-02,\n",
       "        -1.24358751e-01, -2.13582497e-02, -3.78893018e-02,  9.40957107e-03,\n",
       "        -8.43026955e-03, -3.07923392e-03,  1.76648628e-02,  9.25682858e-02,\n",
       "        -5.79667948e-02, -1.57865565e-02, -1.69547088e-02,  2.14321818e-03,\n",
       "         1.07641984e-02, -8.93652719e-03, -5.92983291e-02, -4.89754565e-02,\n",
       "        -5.20804524e-02,  3.99297215e-02, -8.46315362e-03, -5.37872426e-02,\n",
       "        -5.06025255e-02,  1.26724560e-02,  3.54127102e-02,  8.49742722e-03,\n",
       "        -5.34170195e-02, -1.70418229e-02, -5.13330027e-02,  2.02382077e-02,\n",
       "         3.64151187e-02,  3.79861742e-02, -9.26384106e-02, -4.83131334e-02,\n",
       "        -4.59064655e-02, -9.20964312e-03,  2.05650665e-02, -3.74908559e-02,\n",
       "         1.94264371e-02, -7.56247193e-02,  4.14922759e-02, -4.93157171e-02,\n",
       "        -5.21634743e-02, -1.16867358e-02, -1.20634167e-02,  1.60855427e-02,\n",
       "         6.80150390e-02,  2.29884386e-02, -5.81907714e-03, -1.30204791e-02,\n",
       "         1.09240040e-02,  2.77521573e-02,  1.81332156e-02,  3.63544025e-03,\n",
       "         9.31471027e-03,  2.97124032e-02,  5.66326678e-02,  1.66914929e-02,\n",
       "        -3.85197699e-02, -2.42848638e-02,  2.88187489e-02, -4.74092327e-02,\n",
       "        -2.83518322e-02, -2.05031652e-02,  1.64794587e-02,  1.75236426e-02,\n",
       "         2.34166717e-34, -2.71982793e-02, -3.06651853e-02,  4.56151925e-03,\n",
       "        -3.65250707e-02, -2.56688837e-02, -7.70304399e-03, -5.43022119e-02,\n",
       "         1.54939778e-02, -2.88004857e-02,  1.58840828e-02,  2.53336634e-02],\n",
       "       dtype=float32)}"
      ]
     },
     "execution_count": 29,
     "metadata": {},
     "output_type": "execute_result"
    }
   ],
   "source": [
    "pages_and_chunks_filtered[20]"
   ]
  },
  {
   "cell_type": "code",
   "execution_count": 30,
   "id": "bc9a92ba",
   "metadata": {
    "execution": {
     "iopub.execute_input": "2025-07-26T19:21:05.284004Z",
     "iopub.status.busy": "2025-07-26T19:21:05.283773Z",
     "iopub.status.idle": "2025-07-26T19:21:12.405318Z",
     "shell.execute_reply": "2025-07-26T19:21:12.404701Z",
     "shell.execute_reply.started": "2025-07-26T19:21:05.283988Z"
    },
    "trusted": true
   },
   "outputs": [],
   "source": [
    "## save embeddings to file\n",
    "text_chunks_embeddings_df = pd.DataFrame(pages_and_chunks_filtered)\n",
    "save_file = \"text_chunks_embeddings_df.csv\"\n",
    "text_chunks_embeddings_df.to_csv(save_file , index=False)"
   ]
  },
  {
   "cell_type": "markdown",
   "id": "731cf8c8",
   "metadata": {},
   "source": [
    "## RAG - Search and Answer  \n",
    "\n",
    "RAG Goal : retrieve relevant passages based on the prompt given by the user (the prompt should be embedded with the same model used for embedding passages)\n",
    "==> use these passages to augment an input into an LLM in order to generate an output based on on those relevant passages"
   ]
  },
  {
   "cell_type": "code",
   "execution_count": 31,
   "id": "e581f758",
   "metadata": {
    "execution": {
     "iopub.execute_input": "2025-07-26T19:21:12.406257Z",
     "iopub.status.busy": "2025-07-26T19:21:12.406009Z",
     "iopub.status.idle": "2025-07-26T19:21:12.910514Z",
     "shell.execute_reply": "2025-07-26T19:21:12.909663Z",
     "shell.execute_reply.started": "2025-07-26T19:21:12.406240Z"
    },
    "trusted": true
   },
   "outputs": [
    {
     "data": {
      "text/plain": [
       "{'page_number': 7,\n",
       " 'sentence_chunk': 'Indicators of Health: Body Mass Index, Body Fat Content, and Fat Distribution University of Hawai‘i at Mānoa Food Science and Human Nutrition Program and Human Nutrition Program 133 Part\\xa0III.\\xa0Chapter 3. Water and Electrolytes Introduction University of Hawai‘i at Mānoa Food Science and Human Nutrition Program and Human Nutrition Program 145 Overview of Fluid and Electrolyte Balance University of Hawai‘i at Mānoa Food Science and Human Nutrition Program and Human Nutrition Program 150 Water’s Importance to Vitality University of Hawai‘i at Mānoa Food Science and Human Nutrition Program and Human Nutrition Program 156 Regulation of Water Balance University of Hawai‘i at Mānoa Food Science and Human Nutrition Program and Human Nutrition Program 162 Electrolytes Important for Fluid Balance University of Hawai‘i at Mānoa Food Science and Human Nutrition Program and Human Nutrition Program 172 Sodium University of Hawai‘i at Mānoa Food Science and Human Nutrition Program and Human Nutrition Program 176',\n",
       " 'chunk_char_number': 1011,\n",
       " 'chunk_word_number': 150,\n",
       " 'chunk_token_number': 252.75,\n",
       " 'embedding': array([ 5.68351150e-02,  2.48710644e-02, -1.17134601e-02, -1.21505605e-02,\n",
       "         7.19387531e-02,  3.14666256e-02,  3.84555757e-03,  4.88082692e-02,\n",
       "         5.40885925e-02, -3.91140627e-03,  1.48118036e-02, -1.52450223e-02,\n",
       "         7.24838376e-02, -1.76248215e-02, -3.84083088e-03, -3.34305614e-02,\n",
       "        -1.62440576e-02, -1.55473668e-02,  4.79134321e-02,  3.99595574e-02,\n",
       "        -5.66034205e-02, -2.82907132e-02,  2.54984293e-02,  1.26832556e-02,\n",
       "         1.40842013e-02,  2.19359193e-02,  2.93739755e-02, -5.04447799e-03,\n",
       "        -3.26847546e-02, -8.97979438e-02,  1.49935782e-02,  3.07503045e-02,\n",
       "        -7.61745824e-03, -6.76167235e-02,  2.10136841e-06, -2.49501951e-02,\n",
       "         1.66465361e-02,  2.34061163e-02, -5.93149289e-02,  4.67742793e-02,\n",
       "         1.77797675e-02, -5.98690137e-02,  7.85106793e-03,  1.71965286e-02,\n",
       "         3.59769166e-02, -5.14609227e-03,  7.01176971e-02, -1.66285485e-02,\n",
       "         3.06105278e-02,  1.21311061e-02, -8.66990816e-03, -1.81494039e-02,\n",
       "        -5.60643263e-02, -9.50393826e-03,  7.65622258e-02,  6.05895221e-02,\n",
       "        -5.60107129e-03,  5.78163005e-02,  1.12046981e-02, -2.99888644e-02,\n",
       "        -2.85937209e-02,  2.24394985e-02, -1.43968537e-02,  7.93346763e-02,\n",
       "        -4.56128567e-02,  1.70023143e-02, -4.85891756e-03, -8.05712491e-02,\n",
       "         6.61425143e-02,  6.56257346e-02,  6.70608953e-02,  2.47724187e-02,\n",
       "         2.45027505e-02,  3.98170501e-02,  9.60514601e-03, -2.19221879e-02,\n",
       "         1.96850505e-02, -4.16313224e-02,  3.03567164e-02, -6.22793324e-02,\n",
       "        -1.57287940e-02,  2.50331014e-02,  2.72905477e-03, -1.31651293e-03,\n",
       "        -2.25624703e-02,  1.03597892e-02,  2.09820624e-02,  1.00181792e-02,\n",
       "        -3.29305604e-02, -2.63878051e-02, -3.12160887e-02, -1.31638460e-02,\n",
       "        -1.47293909e-02,  3.59959416e-02,  3.80780436e-02, -1.78160071e-02,\n",
       "         6.82518631e-02, -5.86866960e-02,  7.71033391e-02, -2.73653902e-02,\n",
       "         4.46127728e-02,  5.17329425e-02, -6.87638149e-02, -1.88998636e-02,\n",
       "         7.52001628e-03,  5.32107949e-02,  2.79698316e-02, -1.04366168e-02,\n",
       "        -2.42859647e-02,  1.45722972e-02, -2.04376653e-02, -1.10232066e-02,\n",
       "         1.44616095e-02, -2.08647847e-02,  1.43144717e-02,  1.23560010e-02,\n",
       "        -5.54745570e-02, -5.36559820e-02, -2.29204483e-02, -7.19859377e-02,\n",
       "         1.40620880e-02,  4.63111140e-02,  2.38190033e-02,  1.10082468e-02,\n",
       "        -1.63851604e-02,  1.32398978e-01,  3.69143523e-02,  2.36377921e-02,\n",
       "         7.39118084e-03, -2.65822560e-03,  1.45905521e-02, -6.90805307e-03,\n",
       "        -5.39731793e-03,  9.75957885e-03,  1.19182710e-02, -2.47977357e-02,\n",
       "         3.16382349e-02,  1.49643226e-02, -2.27825958e-02, -3.90199050e-02,\n",
       "        -3.77916843e-02,  1.27742309e-02, -6.12134747e-02, -1.04517918e-02,\n",
       "         7.08285496e-02, -1.01137431e-02,  6.33334145e-02,  1.30436765e-02,\n",
       "         1.36038773e-02,  3.82628366e-02,  1.07867746e-02, -2.93317288e-02,\n",
       "         2.84476653e-02,  8.98557007e-02,  9.94189456e-02, -5.68407821e-03,\n",
       "         3.05802841e-02, -1.87795386e-02,  5.87726012e-02, -1.67446199e-03,\n",
       "        -2.31653191e-02, -2.28665117e-02, -8.26998502e-02, -2.06449255e-02,\n",
       "         2.69499072e-03,  2.62919217e-02,  1.92487836e-02, -1.71701517e-02,\n",
       "        -1.10197896e-02,  3.20610008e-03, -4.61725146e-02, -6.91697467e-03,\n",
       "        -2.20773872e-02,  5.36962412e-02,  4.11857106e-02,  4.85244207e-03,\n",
       "        -1.46489749e-02,  4.84635634e-03,  1.38550736e-02, -7.29051083e-02,\n",
       "         2.65208557e-02, -2.14437861e-02,  1.01173399e-02,  2.81570945e-02,\n",
       "        -2.80427076e-02, -1.01888878e-02,  2.21680347e-02,  4.58045630e-03,\n",
       "        -2.19853222e-02, -1.54727297e-02,  4.64371778e-02, -4.62730788e-03,\n",
       "        -5.20508513e-02, -7.57254064e-02, -7.57093448e-03,  2.39025671e-02,\n",
       "         3.57565358e-02,  2.70802341e-02,  2.31017191e-02, -3.58131155e-02,\n",
       "         4.27635163e-02,  4.38150689e-02,  2.84374598e-02,  8.86174198e-03,\n",
       "        -2.64464393e-02,  4.97634523e-02,  6.25931993e-02, -1.11084641e-03,\n",
       "         8.88580531e-02, -6.23476058e-02, -5.32413870e-02,  7.92453717e-03,\n",
       "         4.59168330e-02, -2.31591240e-02, -4.97019943e-03,  1.49021251e-02,\n",
       "         2.66590361e-02, -7.55763007e-03, -7.08175264e-03,  1.31474152e-01,\n",
       "         7.84418881e-02,  4.58763503e-02, -8.16606730e-02, -4.38383371e-02,\n",
       "         4.32162173e-03, -1.86820701e-02,  2.71659009e-02,  8.32270645e-03,\n",
       "         5.02007594e-03,  1.06859673e-02,  3.15643735e-02,  5.41908592e-02,\n",
       "        -6.40781671e-02, -9.36291274e-03, -1.71059556e-02,  2.64209546e-02,\n",
       "         7.58151710e-02,  1.11910120e-01, -1.11437075e-04,  4.17070352e-02,\n",
       "        -4.51386254e-03, -3.20157632e-02,  8.59810854e-04, -2.96828486e-02,\n",
       "        -8.11691657e-02,  3.74287330e-02, -1.83020420e-02,  6.00595400e-03,\n",
       "        -4.36464250e-02,  8.68484080e-02,  4.11261395e-02, -1.82410982e-02,\n",
       "         2.97421560e-04,  1.56488586e-02, -3.11801620e-02,  3.47115137e-02,\n",
       "        -1.60824992e-02, -5.71790487e-02, -1.14385262e-02,  2.67829094e-02,\n",
       "        -3.62370871e-02,  3.63072148e-03, -5.90977119e-03, -1.51370876e-02,\n",
       "         4.08842452e-02,  5.10118995e-03,  3.53427082e-02, -5.26220612e-02,\n",
       "         1.78489015e-02, -2.90525239e-02,  3.40648531e-03, -4.69258940e-03,\n",
       "         3.50629203e-02,  9.93800256e-03, -2.68108025e-02,  1.41527979e-02,\n",
       "         1.17081441e-02,  3.37925204e-03,  5.90542890e-02,  6.32214919e-03,\n",
       "        -9.08303261e-03,  9.96610075e-02, -1.14132892e-02,  1.81624070e-02,\n",
       "         1.17816392e-03,  1.17666265e-02,  3.35160531e-02, -1.80551503e-02,\n",
       "         5.86485565e-02, -3.65924686e-02,  3.62007990e-02, -5.01144901e-02,\n",
       "         3.65030468e-02, -2.62159407e-02, -1.70590766e-02,  2.14154553e-02,\n",
       "         1.45621262e-02,  2.39895955e-02,  6.59385622e-02, -2.19679717e-02,\n",
       "         9.99726541e-03, -2.89494317e-04, -5.20436838e-03,  5.23372255e-02,\n",
       "        -4.17272858e-02,  3.70227583e-02, -4.81114723e-03, -4.48795184e-02,\n",
       "         4.72950330e-03, -1.43035324e-02, -1.80676468e-02,  4.26993668e-02,\n",
       "         3.11941877e-02,  9.61021800e-03,  5.41050313e-03, -1.66510101e-02,\n",
       "        -1.70544144e-02,  6.29907250e-02,  8.76152143e-03,  1.60950259e-03,\n",
       "        -9.75524134e-04,  3.41249071e-02, -9.29229241e-03,  1.63997430e-02,\n",
       "        -2.30798088e-02, -1.88632607e-02,  5.18301725e-02,  2.60507334e-02,\n",
       "        -7.15005100e-02, -5.17480113e-02, -1.11511135e-02, -2.47687474e-03,\n",
       "         4.47187126e-02,  1.40662296e-02, -1.41644375e-02, -2.95879822e-02,\n",
       "        -2.82228794e-02, -1.47140138e-02, -4.96110059e-02, -1.20959971e-02,\n",
       "        -1.81001890e-02,  3.02901026e-03,  2.72851381e-02,  6.71543404e-02,\n",
       "        -3.57734994e-03, -3.36695686e-02, -7.47406390e-04,  1.31931491e-02,\n",
       "         1.10550073e-03, -9.56240669e-03, -2.56520254e-03, -4.44908291e-02,\n",
       "         6.97796745e-03,  6.50512381e-03, -1.85450781e-02,  1.14231994e-02,\n",
       "         4.32729498e-02,  1.45122670e-02, -1.13681760e-02,  3.00397594e-02,\n",
       "         5.34467958e-02,  3.36269364e-02, -5.94573952e-02, -6.86334744e-02,\n",
       "         7.76141360e-02,  4.77841832e-02, -3.11116055e-02,  4.03423645e-02,\n",
       "         2.98555288e-02, -2.11487599e-02, -8.66746530e-04,  1.09548485e-02,\n",
       "        -9.76154394e-03,  1.95481963e-02,  3.02538276e-04, -2.70520076e-02,\n",
       "        -2.33154465e-02,  2.60331258e-02, -1.25498632e-02, -1.46474820e-02,\n",
       "         2.05615032e-02,  4.21977602e-04,  2.58313678e-02, -1.13997208e-02,\n",
       "        -2.36694645e-02,  9.05129872e-03, -1.27015328e-02, -4.04416248e-02,\n",
       "         3.13092209e-02, -7.54059255e-02,  3.49616595e-02,  9.38357692e-03,\n",
       "        -1.14439968e-02, -3.98692936e-02,  3.47828642e-02, -2.01833900e-02,\n",
       "         1.45581914e-02, -2.73752809e-02,  3.29658687e-02,  4.30022851e-02,\n",
       "        -5.59971109e-03, -5.29464558e-02,  1.09487446e-02, -7.13970372e-03,\n",
       "        -2.84121204e-02, -7.07647577e-03,  2.30609663e-02,  8.30153655e-03,\n",
       "         1.31587442e-02,  3.38422656e-02,  4.01561819e-02, -1.45222601e-02,\n",
       "        -1.34166563e-02, -4.93633561e-02, -1.57564711e-02,  1.51815796e-02,\n",
       "        -3.83164808e-02, -5.43245021e-03,  3.61386165e-02, -4.05934528e-02,\n",
       "         1.64140780e-02,  5.28593287e-02, -3.52808349e-02,  1.98211744e-02,\n",
       "        -4.62538190e-02, -1.40382471e-02,  1.02383606e-02,  4.77671064e-02,\n",
       "        -5.52151203e-02,  3.01153748e-04,  1.47190196e-02, -2.18344433e-03,\n",
       "        -2.56217122e-02, -3.89583111e-02, -1.54389651e-03,  1.88498963e-02,\n",
       "         3.39504667e-02, -3.77653204e-02, -4.11542207e-02, -4.50246297e-02,\n",
       "         8.95123556e-03, -1.49152363e-02,  2.98497956e-02,  1.63753666e-02,\n",
       "         7.06100184e-03,  4.04735357e-02, -3.76182087e-02,  7.89592341e-02,\n",
       "         5.97598329e-02, -3.37844491e-02, -3.47141438e-04,  2.71354001e-02,\n",
       "        -2.58354582e-02,  6.99082240e-02,  3.09020765e-02,  6.03171485e-03,\n",
       "         5.38988225e-02, -4.41416353e-02, -1.30130863e-02, -8.82420409e-03,\n",
       "         7.15244189e-02,  2.58757127e-03, -5.49868755e-02, -6.54556695e-03,\n",
       "        -8.86568613e-03, -4.86963578e-02, -2.16896627e-02, -8.06946494e-03,\n",
       "        -1.15681672e-02, -4.58031334e-02, -1.91047229e-02,  3.56961153e-02,\n",
       "         1.78311206e-02,  2.44019050e-02, -2.86257477e-03, -3.54162529e-02,\n",
       "        -1.98981427e-02, -3.84323187e-02, -5.54347858e-02,  4.31296183e-03,\n",
       "         1.51787531e-02,  1.45402923e-02,  3.13534364e-02, -3.46438065e-02,\n",
       "        -3.22597357e-03,  8.72822572e-03, -2.92943306e-02, -2.99542304e-02,\n",
       "        -2.25896221e-02, -2.39876211e-02,  2.15787324e-03,  3.58154178e-02,\n",
       "        -1.73623003e-02, -3.70200835e-02,  3.56958923e-03,  1.46593964e-02,\n",
       "        -3.39642949e-02,  2.80175284e-02,  1.18837170e-02, -4.25659344e-02,\n",
       "         7.66234659e-03, -4.09073755e-03,  2.35304944e-02, -1.21784918e-02,\n",
       "        -1.15311947e-02,  3.63300592e-02, -2.22163070e-02,  1.06256166e-02,\n",
       "        -3.21218511e-03, -4.54479568e-02, -1.99755561e-02, -4.29691607e-03,\n",
       "         2.05052504e-03,  3.49932984e-02,  7.72552844e-03, -1.51597029e-02,\n",
       "        -2.94206981e-02, -2.87814476e-02, -3.45686637e-02, -1.20110083e-02,\n",
       "        -1.44338589e-02, -3.75635549e-02, -7.69031513e-03, -3.91889103e-02,\n",
       "        -6.71295915e-03,  3.00761871e-02,  1.69529319e-02,  2.52519939e-02,\n",
       "        -2.51478963e-02,  3.00988667e-02,  4.53724526e-02, -1.45083957e-03,\n",
       "         2.44910941e-02, -8.51121452e-03,  2.28458811e-02,  1.55819219e-03,\n",
       "         8.44919402e-03,  9.62511264e-03, -8.65804926e-02, -3.04211359e-02,\n",
       "        -1.94680877e-02, -5.82924187e-02, -9.67340823e-03,  1.47442566e-03,\n",
       "         5.09244204e-03,  7.86776617e-02, -8.50890502e-02, -7.75427148e-02,\n",
       "         4.54833312e-03, -5.64357452e-02,  1.13556730e-02, -4.15712073e-02,\n",
       "        -6.56163990e-02,  8.89597693e-04,  5.82075007e-02, -5.85087619e-33,\n",
       "        -1.47995017e-02, -4.52062525e-02,  4.29949835e-02, -1.77874602e-02,\n",
       "         5.21427840e-02,  3.06845270e-02, -2.32545771e-02,  4.04054113e-02,\n",
       "        -4.15800288e-02, -1.62918977e-02, -5.35817444e-03,  5.02089411e-03,\n",
       "         2.72814035e-02, -6.06077462e-02,  5.67479990e-03, -3.06231529e-02,\n",
       "         1.63529813e-02, -2.47900039e-02, -7.38676358e-03, -2.92723123e-02,\n",
       "        -2.85810214e-02, -3.56837250e-02, -4.10919897e-02,  3.96578722e-02,\n",
       "         2.96363477e-02,  3.88236307e-02,  3.07195317e-02, -5.24802953e-02,\n",
       "        -7.10857138e-02, -3.36636603e-02,  1.33404965e-02,  4.11282033e-02,\n",
       "         3.63905989e-02,  5.76367415e-02, -2.92900298e-02, -2.35004108e-02,\n",
       "        -1.24786831e-02, -5.51395863e-02,  1.39241656e-02, -5.59074618e-02,\n",
       "         3.05618532e-02, -4.61914465e-02,  2.22697165e-02,  1.49161182e-02,\n",
       "         2.93783862e-02, -4.16553281e-02, -4.29210067e-02, -4.62704748e-02,\n",
       "         2.81724557e-02,  5.30097522e-02,  5.88640124e-02, -1.36052193e-02,\n",
       "        -1.58036966e-02,  2.81633325e-02, -2.62892731e-02,  3.16249505e-02,\n",
       "         2.05973480e-02, -2.67201345e-02,  2.42039282e-02,  2.66829389e-03,\n",
       "         1.90574676e-02,  5.95689891e-03, -5.58964768e-03,  2.76355129e-02,\n",
       "        -1.04342559e-02, -6.75616115e-02,  2.16449574e-02,  2.19853222e-02,\n",
       "        -5.41712195e-02, -2.16496736e-02, -1.96125824e-02, -3.73906307e-02,\n",
       "         3.04313470e-02, -2.41636857e-02,  6.41208980e-03, -1.15330294e-01,\n",
       "         6.32832106e-03,  3.46140005e-02, -5.92320859e-02, -4.08670790e-02,\n",
       "        -6.18896261e-02, -2.29915958e-02,  5.16642071e-03, -7.82814436e-03,\n",
       "        -4.58488008e-03,  1.83955338e-02, -8.84758867e-03, -6.08881749e-03,\n",
       "        -9.04714037e-03,  1.79865155e-02,  4.58591133e-02,  2.16427743e-02,\n",
       "         3.40444520e-02,  1.77921429e-02,  4.49090935e-02,  2.51880400e-02,\n",
       "         4.45421375e-02, -4.36798334e-02,  4.41609658e-02, -4.69826013e-02,\n",
       "        -2.03035641e-02,  3.20674703e-02,  5.88034913e-02,  1.98087469e-02,\n",
       "        -1.15020145e-02, -4.42962795e-02, -3.87482494e-02, -2.39476059e-02,\n",
       "         4.28597219e-02, -2.72136014e-02,  2.07547136e-02, -8.86056852e-03,\n",
       "        -1.11820677e-03, -1.35250026e-02, -4.65881266e-02,  3.07628419e-02,\n",
       "         4.37018909e-02,  1.27890576e-02,  1.34817883e-02, -3.90949771e-02,\n",
       "        -7.91168511e-02, -2.16368753e-02,  2.09382493e-02, -5.47032282e-02,\n",
       "         8.95776972e-03, -5.80234118e-02,  3.28403562e-02,  6.71179891e-02,\n",
       "        -4.25897092e-02,  4.22945209e-02,  4.49334979e-02,  1.40046258e-03,\n",
       "         2.81015133e-07,  6.57362444e-03, -2.94928867e-02,  1.13032470e-02,\n",
       "        -1.14326596e-01, -8.07071943e-03, -5.51031753e-02, -7.51509890e-03,\n",
       "        -6.36397824e-02, -9.39125312e-04, -2.49185115e-02,  7.12395757e-02,\n",
       "        -6.47366466e-03, -3.54978293e-02, -1.97193343e-02,  1.49511709e-03,\n",
       "        -1.32672749e-02,  4.02497593e-03, -9.90245193e-02, -1.44350259e-02,\n",
       "        -5.88704161e-02, -5.80386295e-05, -1.08031463e-02, -7.84977525e-02,\n",
       "        -7.17590526e-02,  6.06796285e-03,  4.39151451e-02, -8.82103760e-03,\n",
       "        -4.17500027e-02,  3.29242647e-02, -1.93553697e-02,  2.17340104e-02,\n",
       "         1.13084549e-02,  5.29370084e-02, -5.52238524e-02, -5.82640730e-02,\n",
       "        -7.11936224e-03, -5.22374827e-03,  2.74064988e-02, -4.67001088e-02,\n",
       "         3.96256670e-02, -6.96970820e-02,  5.93518354e-02, -6.12672120e-02,\n",
       "        -5.86023927e-02, -1.33423386e-02, -1.07989495e-03,  1.17699578e-02,\n",
       "         4.95939422e-03,  9.39708017e-03, -1.00308927e-02,  4.23533563e-03,\n",
       "         3.85158462e-03, -3.46859661e-03,  1.28754834e-02,  4.92110103e-03,\n",
       "         8.26077722e-03,  2.40408406e-02,  5.66240363e-02,  6.67499145e-03,\n",
       "        -5.82953580e-02, -1.14700804e-03,  2.99445856e-02, -5.74975088e-02,\n",
       "         3.37560149e-03, -1.02561740e-02, -2.31658686e-02,  2.78676320e-02,\n",
       "         2.38322480e-34, -5.26135676e-02, -3.49621326e-02, -1.08174188e-03,\n",
       "        -4.17899899e-02,  2.78245425e-03, -3.78585383e-02, -6.82494417e-02,\n",
       "         1.94915775e-02, -2.69863810e-02, -2.30288785e-02,  7.95794651e-03])}"
      ]
     },
     "execution_count": 31,
     "metadata": {},
     "output_type": "execute_result"
    }
   ],
   "source": [
    "# @@@@@@ Similarity (Vector) search @@@@@@\n",
    "import random \n",
    "import torch \n",
    "import numpy as np\n",
    "import pandas as pd\n",
    "\n",
    "device = \"cuda\" if torch.cuda.is_available() else \"cpu\"\n",
    "text_chunks_embeddings_df = pd.read_csv(\"text_chunks_embeddings_df.csv\")\n",
    "text_chunks_embeddings_df[\"embedding\"] = text_chunks_embeddings_df[\"embedding\"].apply(lambda x: np.fromstring(x.strip(\"[]\") ,sep=\" \"))\n",
    "## text and embeddings ==> list of dicts \n",
    "pages_and_chunks = text_chunks_embeddings_df.to_dict(orient=\"records\")\n",
    "pages_and_chunks[5]"
   ]
  },
  {
   "cell_type": "code",
   "execution_count": 32,
   "id": "7db70e7c",
   "metadata": {
    "execution": {
     "iopub.execute_input": "2025-07-26T19:21:12.913467Z",
     "iopub.status.busy": "2025-07-26T19:21:12.913232Z",
     "iopub.status.idle": "2025-07-26T19:21:12.931279Z",
     "shell.execute_reply": "2025-07-26T19:21:12.930514Z",
     "shell.execute_reply.started": "2025-07-26T19:21:12.913450Z"
    },
    "trusted": true
   },
   "outputs": [
    {
     "name": "stdout",
     "output_type": "stream",
     "text": [
      "tensor([[ 0.0674,  0.0902, -0.0051,  ..., -0.0221, -0.0232,  0.0126],\n",
      "        [ 0.0552,  0.0592, -0.0166,  ..., -0.0120, -0.0103,  0.0227],\n",
      "        [ 0.0280,  0.0340, -0.0206,  ..., -0.0054,  0.0213,  0.0313],\n",
      "        ...,\n",
      "        [ 0.0771,  0.0098, -0.0122,  ..., -0.0409, -0.0752, -0.0241],\n",
      "        [ 0.1030, -0.0165,  0.0083,  ..., -0.0574, -0.0283, -0.0295],\n",
      "        [ 0.0864, -0.0125, -0.0113,  ..., -0.0522, -0.0337, -0.0299]],\n",
      "       device='cuda:0')\n",
      "torch.Size([1680, 768])\n"
     ]
    }
   ],
   "source": [
    "embeddings = torch.tensor(np.array(text_chunks_embeddings_df[\"embedding\"].tolist()),dtype=torch.float32).to(device)\n",
    "print(embeddings)\n",
    "print(embeddings.shape)"
   ]
  },
  {
   "cell_type": "code",
   "execution_count": 33,
   "id": "73420f41",
   "metadata": {
    "execution": {
     "iopub.execute_input": "2025-07-26T19:21:12.932300Z",
     "iopub.status.busy": "2025-07-26T19:21:12.932054Z",
     "iopub.status.idle": "2025-07-26T19:21:14.175440Z",
     "shell.execute_reply": "2025-07-26T19:21:14.174664Z",
     "shell.execute_reply.started": "2025-07-26T19:21:12.932282Z"
    },
    "trusted": true
   },
   "outputs": [],
   "source": [
    "## create embedding model : \n",
    "from sentence_transformers import util,SentenceTransformer\n",
    "\n",
    "embedding_model = SentenceTransformer(\"all-mpnet-base-v2\",device=device)"
   ]
  },
  {
   "cell_type": "code",
   "execution_count": 34,
   "id": "b4d57561",
   "metadata": {
    "execution": {
     "iopub.execute_input": "2025-07-26T19:21:14.177000Z",
     "iopub.status.busy": "2025-07-26T19:21:14.176393Z",
     "iopub.status.idle": "2025-07-26T19:21:14.233731Z",
     "shell.execute_reply": "2025-07-26T19:21:14.232942Z",
     "shell.execute_reply.started": "2025-07-26T19:21:14.176974Z"
    },
    "trusted": true
   },
   "outputs": [
    {
     "name": "stdout",
     "output_type": "stream",
     "text": [
      "Query : Macronutrients functions\n"
     ]
    },
    {
     "data": {
      "application/vnd.jupyter.widget-view+json": {
       "model_id": "615de8901e4949699d1a8d54dcdf4a3e",
       "version_major": 2,
       "version_minor": 0
      },
      "text/plain": [
       "Batches:   0%|          | 0/1 [00:00<?, ?it/s]"
      ]
     },
     "metadata": {},
     "output_type": "display_data"
    },
    {
     "name": "stdout",
     "output_type": "stream",
     "text": [
      "[INFO] Time taken to get scores on 1680 embeddings : 0.01353 seconds\n"
     ]
    }
   ],
   "source": [
    "## Semantic research pipeline\n",
    "from time import perf_counter as timer\n",
    "## defining the query\n",
    "query = \"Macronutrients functions\"\n",
    "print(f\"Query : {query}\")\n",
    "## embedding the query\n",
    "query_emb = embedding_model.encode(query,convert_to_tensor=True)\n",
    "## Similarity scores with dot product \n",
    "start_time = timer()\n",
    "dot_scores = util.dot_score(a=query_emb,b=embeddings)[0]\n",
    "end_time = timer()\n",
    "\n",
    "print(f\"[INFO] Time taken to get scores on {len(embeddings)} embeddings : {(end_time - start_time):.5f} seconds\")"
   ]
  },
  {
   "cell_type": "code",
   "execution_count": 35,
   "id": "43fbdd54",
   "metadata": {
    "execution": {
     "iopub.execute_input": "2025-07-26T19:21:14.234751Z",
     "iopub.status.busy": "2025-07-26T19:21:14.234492Z",
     "iopub.status.idle": "2025-07-26T19:21:14.306646Z",
     "shell.execute_reply": "2025-07-26T19:21:14.306048Z",
     "shell.execute_reply.started": "2025-07-26T19:21:14.234728Z"
    },
    "trusted": true
   },
   "outputs": [
    {
     "name": "stdout",
     "output_type": "stream",
     "text": [
      "torch.Size([1680])\n",
      "Top 5 similarity scores : \n",
      "torch.return_types.topk(\n",
      "values=tensor([0.6926, 0.6738, 0.6646, 0.6536, 0.6473], device='cuda:0'),\n",
      "indices=tensor([42, 47, 41, 51, 46], device='cuda:0'))\n"
     ]
    }
   ],
   "source": [
    "print(dot_scores.shape)\n",
    "\n",
    "## returning the top 5 scores \n",
    "top_5_scores = torch.topk(dot_scores,k=5)\n",
    "print(f\"Top 5 similarity scores : \\n{top_5_scores}\")"
   ]
  },
  {
   "cell_type": "code",
   "execution_count": 36,
   "id": "39b0d386",
   "metadata": {
    "execution": {
     "iopub.execute_input": "2025-07-26T19:21:14.307437Z",
     "iopub.status.busy": "2025-07-26T19:21:14.307262Z",
     "iopub.status.idle": "2025-07-26T19:21:14.313953Z",
     "shell.execute_reply": "2025-07-26T19:21:14.313264Z",
     "shell.execute_reply.started": "2025-07-26T19:21:14.307423Z"
    },
    "trusted": true
   },
   "outputs": [
    {
     "name": "stdout",
     "output_type": "stream",
     "text": [
      "Cosine Similarity top 5 scores : torch.return_types.topk(\n",
      "values=tensor([0.6926, 0.6738, 0.6646, 0.6536, 0.6473], device='cuda:0'),\n",
      "indices=tensor([42, 47, 41, 51, 46], device='cuda:0'))\n"
     ]
    }
   ],
   "source": [
    "### cosine similarity\n",
    "cos_scores = util.pytorch_cos_sim(query_emb,embeddings)[0]\n",
    "top_results = torch.topk(cos_scores,k=5)\n",
    "print(f\"Cosine Similarity top 5 scores : {top_5_scores}\")"
   ]
  },
  {
   "cell_type": "code",
   "execution_count": 37,
   "id": "da3c157e",
   "metadata": {
    "execution": {
     "iopub.execute_input": "2025-07-26T19:21:14.314963Z",
     "iopub.status.busy": "2025-07-26T19:21:14.314723Z",
     "iopub.status.idle": "2025-07-26T19:21:14.323029Z",
     "shell.execute_reply": "2025-07-26T19:21:14.322375Z",
     "shell.execute_reply.started": "2025-07-26T19:21:14.314941Z"
    },
    "trusted": true
   },
   "outputs": [
    {
     "name": "stdout",
     "output_type": "stream",
     "text": [
      "Most matching : Macronutrients Nutrients that are needed in large amounts are called macronutrients. There are three classes of macronutrients: carbohydrates, lipids, and proteins. These can be metabolically processed into cellular energy. The energy from macronutrients comes from their chemical bonds. This chemical energy is converted into cellular energy that is then utilized to perform work, allowing our bodies to conduct their basic functions. A unit of measurement of food energy is the calorie. On nutrition food labels the amount given for “calories” is actually equivalent to each calorie multiplied by one thousand. A kilocalorie (one thousand calories, denoted with a small “c”) is synonymous with the “Calorie” (with a capital “C”) on nutrition food labels. Water is also a macronutrient in the sense that you require a large amount of it, but unlike the other macronutrients, it does not yield calories. Carbohydrates Carbohydrates are molecules composed of carbon, hydrogen, and oxygen. \n"
     ]
    }
   ],
   "source": [
    "print(f\"Most matching : {pages_and_chunks[42]['sentence_chunk']} \")"
   ]
  },
  {
   "cell_type": "code",
   "execution_count": 38,
   "id": "d928682b",
   "metadata": {
    "execution": {
     "iopub.execute_input": "2025-07-26T19:21:14.323934Z",
     "iopub.status.busy": "2025-07-26T19:21:14.323721Z",
     "iopub.status.idle": "2025-07-26T19:21:14.333991Z",
     "shell.execute_reply": "2025-07-26T19:21:14.333275Z",
     "shell.execute_reply.started": "2025-07-26T19:21:14.323920Z"
    },
    "trusted": true
   },
   "outputs": [],
   "source": [
    "import textwrap\n",
    "def print_wrapped(text,wrap_length=80):\n",
    "    wrapped_text = textwrap.fill(text,wrap_length)\n",
    "    print(wrap_length)"
   ]
  },
  {
   "cell_type": "code",
   "execution_count": 39,
   "id": "ecaf9aa1",
   "metadata": {
    "execution": {
     "iopub.execute_input": "2025-07-26T19:21:14.334871Z",
     "iopub.status.busy": "2025-07-26T19:21:14.334655Z",
     "iopub.status.idle": "2025-07-26T19:21:14.345597Z",
     "shell.execute_reply": "2025-07-26T19:21:14.344951Z",
     "shell.execute_reply.started": "2025-07-26T19:21:14.334857Z"
    },
    "trusted": true
   },
   "outputs": [
    {
     "name": "stdout",
     "output_type": "stream",
     "text": [
      "Query : Macronutrients functions\n",
      "Results\n",
      "\n",
      "Score : 0.6926\n",
      "Text : \n",
      "Macronutrients Nutrients that are needed in large amounts are called macronutrients. There are three classes of macronutrients: carbohydrates, lipids, and proteins. These can be metabolically processed into cellular energy. The energy from macronutrients comes from their chemical bonds. This chemical energy is converted into cellular energy that is then utilized to perform work, allowing our bodies to conduct their basic functions. A unit of measurement of food energy is the calorie. On nutrition food labels the amount given for “calories” is actually equivalent to each calorie multiplied by one thousand. A kilocalorie (one thousand calories, denoted with a small “c”) is synonymous with the “Calorie” (with a capital “C”) on nutrition food labels. Water is also a macronutrient in the sense that you require a large amount of it, but unlike the other macronutrients, it does not yield calories. Carbohydrates Carbohydrates are molecules composed of carbon, hydrogen, and oxygen.\n",
      "Page number : 46\n",
      "\n",
      "\n",
      "Score : 0.6738\n",
      "Text : \n",
      "Water There is one other nutrient that we must have in large quantities: water. Water does not contain carbon, but is composed of two hydrogens and one oxygen per molecule of water. More than 60 percent of your total body weight is water. Without it, nothing could be transported in or out of the body, chemical reactions would not occur, organs would not be cushioned, and body temperature would fluctuate widely. On average, an adult consumes just over two liters of water per day from food and drink combined. Since water is so critical for life’s basic processes, the amount of water input and output is supremely important, a topic we will explore in detail in Chapter 4. Micronutrients Micronutrients are nutrients required by the body in lesser amounts, but are still essential for carrying out bodily functions. Micronutrients include all the essential minerals and vitamins. There are sixteen essential minerals and thirteen vitamins (See Table 1.1 “Minerals and Their Major Functions” and Table 1.2 “Vitamins and Their Major Functions” for a complete list and their major functions). In contrast to carbohydrates, lipids, and proteins, micronutrients are not sources of energy (calories), but they assist in the process as cofactors or components of enzymes (i.e., coenzymes).\n",
      "Page number : 49\n",
      "\n",
      "\n",
      "Score : 0.6646\n",
      "Text : \n",
      "Learning Objectives By the end of this chapter, you will be able to: • Describe basic concepts in nutrition • Describe factors that affect your nutritional needs • Describe the importance of research and scientific methods to understanding nutrition What are Nutrients? The foods we eat contain nutrients. Nutrients are substances required by the body to perform its basic functions. Nutrients must be obtained from our diet, since the human body does not synthesize or produce them. Nutrients have one or more of three basic functions: they provide energy, contribute to body structure, and/or regulate chemical processes in the body. These basic functions allow us to detect and respond to environmental surroundings, move, excrete wastes, respire (breathe), grow, and reproduce. There are six classes of nutrients required for the body to function and maintain overall health. These are carbohydrates, lipids, proteins, water, vitamins, and minerals. Foods also contain non-nutrients that may be harmful (such as natural toxins common in plant foods and additives like some dyes and preservatives) or beneficial (such as antioxidants). 4 | Introduction\n",
      "Page number : 45\n",
      "\n",
      "\n",
      "Score : 0.6536\n",
      "Text : \n",
      "Vitamins Major Functions Water-soluble Thiamin (B1) Coenzyme, energy metabolism assistance Riboflavin (B2 ) Coenzyme, energy metabolism assistance Niacin (B3) Coenzyme, energy metabolism assistance Pantothenic acid (B5) Coenzyme, energy metabolism assistance Pyridoxine (B6) Coenzyme, amino acid synthesis assistance Biotin (B7) Coenzyme, amino acid and fatty acid metabolism Folate (B9) Coenzyme, essential for growth Cobalamin (B12) Coenzyme, red blood cell synthesis C (ascorbic acid) Collagen synthesis, antioxidant Fat-soluble A Vision, reproduction, immune system function D Bone and teeth health maintenance, immune system function E Antioxidant, cell membrane protection K Bone and teeth health maintenance, blood clotting Vitamin deficiencies can cause severe health problems and even death. For example, a deficiency in niacin causes a disease called pellagra, which was common in the early twentieth century in some parts of America. The common signs and symptoms of pellagra are known as the “4D’s—diarrhea, dermatitis, dementia, and death.” Until scientists found out that better diets relieved the signs and symptoms of pellagra, many people with the disease ended up hospitalized in insane asylums awaiting death. Other vitamins were also found to prevent certain disorders and diseases such as scurvy (vitamin C), night blindness vitamin A, and rickets (vitamin D). Table 1.3 Functions of Nutrients Introduction | 11\n",
      "Page number : 52\n",
      "\n",
      "\n",
      "Score : 0.6473\n",
      "Text : \n",
      "Figure 1.1 The Macronutrie nts: Carbohydrat es, Lipids, Protein, and Water Proteins Proteins are macromolecules composed of chains of subunits called amino acids. Amino acids are simple subunits composed of carbon, oxygen, hydrogen, and nitrogen. Food sources of proteins include meats, dairy products, seafood, and a variety of different plant- based foods, most notably soy. The word protein comes from a Greek word meaning “of primary importance,” which is an apt description of these macronutrients; they are also known colloquially as the “workhorses” of life. Proteins provide four kilocalories of energy per gram; however providing energy is not protein’s most important function. Proteins provide structure to bones, muscles and skin, and play a role in conducting most of the chemical reactions that take place in the body. Scientists estimate that greater than one-hundred thousand different proteins exist within the human body. The genetic codes in DNA are basically protein recipes that determine the order in which 20 different amino acids are bound together to make thousands of specific proteins. Figure 1.1 The Macronutrients: Carbohydrates, Lipids, Protein, and Water Introduction | 7\n",
      "Page number : 48\n",
      "\n",
      "\n"
     ]
    }
   ],
   "source": [
    "print(f\"Query : {query}\")\n",
    "print(f\"Results\\n\")\n",
    "for score , idx in zip(top_5_scores[0] , top_5_scores[1]) : \n",
    "    print(f\"Score : {score:.4f}\")\n",
    "    print(f\"Text : \")\n",
    "    print(pages_and_chunks[idx]['sentence_chunk'])\n",
    "    print(f\"Page number : {pages_and_chunks[idx]['page_number']}\")\n",
    "    print(f\"\\n\")"
   ]
  },
  {
   "cell_type": "code",
   "execution_count": 40,
   "id": "9aea60ce",
   "metadata": {
    "execution": {
     "iopub.execute_input": "2025-07-26T19:21:14.346500Z",
     "iopub.status.busy": "2025-07-26T19:21:14.346277Z",
     "iopub.status.idle": "2025-07-26T19:21:14.357682Z",
     "shell.execute_reply": "2025-07-26T19:21:14.356939Z",
     "shell.execute_reply.started": "2025-07-26T19:21:14.346479Z"
    },
    "trusted": true
   },
   "outputs": [],
   "source": [
    "doc_list = [item[\"sentence_chunk\"] for item in pages_and_chunks]"
   ]
  },
  {
   "cell_type": "code",
   "execution_count": null,
   "id": "c6a47dd4",
   "metadata": {
    "execution": {
     "iopub.status.busy": "2025-07-26T19:14:17.859392Z",
     "iopub.status.idle": "2025-07-26T19:14:17.859678Z",
     "shell.execute_reply": "2025-07-26T19:14:17.859536Z",
     "shell.execute_reply.started": "2025-07-26T19:14:17.859523Z"
    },
    "trusted": true
   },
   "outputs": [],
   "source": [
    "\"\"\"\n",
    "## using a re-ranking model to improve the order of these results\n",
    "from sentence_transformers import CrossEncoder\n",
    "model = CrossEncoder(\"mixedbread-ai/mxbai-rerank-large-v1\")\n",
    "results = model.rank(query,doc_list,return_documents=True,top_k=5) \n",
    "\"\"\""
   ]
  },
  {
   "cell_type": "code",
   "execution_count": 41,
   "id": "533c0c56",
   "metadata": {
    "execution": {
     "iopub.execute_input": "2025-07-26T19:21:14.358597Z",
     "iopub.status.busy": "2025-07-26T19:21:14.358406Z",
     "iopub.status.idle": "2025-07-26T19:21:14.375828Z",
     "shell.execute_reply": "2025-07-26T19:21:14.375122Z",
     "shell.execute_reply.started": "2025-07-26T19:21:14.358577Z"
    },
    "trusted": true
   },
   "outputs": [
    {
     "name": "stdout",
     "output_type": "stream",
     "text": [
      "dot product vec1 and vec2 : 32.0\n",
      "dot product vec1 and vec3 : 14.0\n",
      "dot product vec1 and vec4 : -14.0\n",
      "\n",
      "Cosine Similarity vec1 and vec2 : 0.9746317863464355\n",
      "Cosine Similarity vec1 and vec3 : 0.9999999403953552\n",
      "Cosine Similarity vec1 and vec4 : -0.9999999403953552\n"
     ]
    }
   ],
   "source": [
    "def dot_product(vec1,vec2): \n",
    "    return torch.dot(vec1,vec2)\n",
    "def cosine_sim(vec1,vec2) : \n",
    "    dot_prod = dot_product(vec1,vec2)\n",
    "    norm_vec1 = torch.sqrt(torch.sum(vec1**2))\n",
    "    norm_vec2 = torch.sqrt(torch.sum(vec2**2))\n",
    "    return dot_prod / (norm_vec1 * norm_vec2)\n",
    "vector1 = torch.tensor([1,2,3],dtype=torch.float32)\n",
    "vector2 = torch.tensor([4,5,6],dtype=torch.float32)\n",
    "vector3 = torch.tensor([1,2,3],dtype=torch.float32)\n",
    "vector4 = torch.tensor([-1,-2,-3],dtype=torch.float32)\n",
    "\n",
    "print(f\"dot product vec1 and vec2 : {dot_product(vector1,vector2)}\")\n",
    "print(f\"dot product vec1 and vec3 : {dot_product(vector1,vector3)}\")\n",
    "print(f\"dot product vec1 and vec4 : {dot_product(vector1,vector4)}\")\n",
    "print(\"\")                                                               \n",
    "print(f\"Cosine Similarity vec1 and vec2 : {cosine_sim(vector1,vector2)}\")\n",
    "print(f\"Cosine Similarity vec1 and vec3 : {cosine_sim(vector1,vector3)}\")\n",
    "print(f\"Cosine Similarity vec1 and vec4 : {cosine_sim(vector1,vector4)}\")"
   ]
  },
  {
   "cell_type": "code",
   "execution_count": 42,
   "id": "dbb98179",
   "metadata": {
    "execution": {
     "iopub.execute_input": "2025-07-26T19:21:14.376910Z",
     "iopub.status.busy": "2025-07-26T19:21:14.376657Z",
     "iopub.status.idle": "2025-07-26T19:21:15.531186Z",
     "shell.execute_reply": "2025-07-26T19:21:15.530561Z",
     "shell.execute_reply.started": "2025-07-26T19:21:14.376888Z"
    },
    "trusted": true
   },
   "outputs": [
    {
     "name": "stdout",
     "output_type": "stream",
     "text": [
      "page 46 of human-nutrition-text.pdf\n"
     ]
    },
    {
     "data": {
      "text/plain": [
       "Text(0.5, 1.0, 'Query: Macronutrients functions | Most relevant page')"
      ]
     },
     "execution_count": 42,
     "metadata": {},
     "output_type": "execute_result"
    },
    {
     "data": {
      "image/png": "[encoded data removed]",
      "text/plain": [
       "<Figure size 1300x1000 with 1 Axes>"
      ]
     },
     "metadata": {},
     "output_type": "display_data"
    }
   ],
   "source": [
    "import fitz\n",
    "pdf_path = \"human-nutrition-text.pdf\"\n",
    "doc = fitz.open(pdf_path)\n",
    "page = doc.load_page(46)\n",
    "print(page)\n",
    "## get the image of the page\n",
    "img = page.get_pixmap(dpi=300)\n",
    "doc.close()\n",
    "img_array = np.frombuffer(img.samples_mv,dtype=np.uint8).reshape((img.h,img.w,img.n))\n",
    "import matplotlib.pyplot as plt\n",
    "plt.figure(figsize=(13,10))\n",
    "plt.imshow(img_array)\n",
    "plt.title(f\"Query: {query} | Most relevant page\")"
   ]
  },
  {
   "cell_type": "code",
   "execution_count": 43,
   "id": "5c8e921f",
   "metadata": {
    "execution": {
     "iopub.execute_input": "2025-07-26T19:21:15.532229Z",
     "iopub.status.busy": "2025-07-26T19:21:15.531983Z",
     "iopub.status.idle": "2025-07-26T19:21:15.540597Z",
     "shell.execute_reply": "2025-07-26T19:21:15.539843Z",
     "shell.execute_reply.started": "2025-07-26T19:21:15.532211Z"
    },
    "trusted": true
   },
   "outputs": [],
   "source": [
    "def retrieve_relevant_resources(query:str,embeddings:torch.tensor,model:SentenceTransformer=embedding_model,n_resources_return:int=5):\n",
    "     query_emb = model.encode(query,convert_to_tensor=True)\n",
    "     start_time = timer()\n",
    "     dot_scores = util.dot_score(a=query_emb,b=embeddings)[0]\n",
    "     end_time = timer()\n",
    "     print(f\"[INFO] Time taken to get scores on {len(embeddings)} embeddings : {(end_time - start_time):.5f} seconds\")\n",
    "     scores , indices = torch.topk(dot_scores,k=n_resources_return)\n",
    "     return scores , indices\n",
    "\n",
    "def print_top_results_and_scores(query:str,embeddings:torch.tensor,pages_and_chunks:list[dict]=pages_and_chunks,n_resources_return:int=5) : \n",
    "     scores , indices = retrieve_relevant_resources(query,embeddings,n_resources_return=n_resources_return)\n",
    "     print(f\"Query : {query}\")\n",
    "     print(f\"Results\\n\")\n",
    "     for score , idx in zip(top_5_scores[0] , top_5_scores[1]) : \n",
    "          print(f\"Score : {score:.4f}\")\n",
    "          print(f\"Text : \")\n",
    "          print(pages_and_chunks[idx]['sentence_chunk'])\n",
    "          print(f\"Page number : {pages_and_chunks[idx]['page_number']}\")\n",
    "          print(f\"\\n\")"
   ]
  },
  {
   "cell_type": "code",
   "execution_count": 44,
   "id": "fd3a4f2f",
   "metadata": {
    "execution": {
     "iopub.execute_input": "2025-07-26T19:21:15.541514Z",
     "iopub.status.busy": "2025-07-26T19:21:15.541309Z",
     "iopub.status.idle": "2025-07-26T19:21:15.583233Z",
     "shell.execute_reply": "2025-07-26T19:21:15.582474Z",
     "shell.execute_reply.started": "2025-07-26T19:21:15.541494Z"
    },
    "trusted": true
   },
   "outputs": [
    {
     "data": {
      "application/vnd.jupyter.widget-view+json": {
       "model_id": "4ad985e9441347da8ad8ffae9cb95f73",
       "version_major": 2,
       "version_minor": 0
      },
      "text/plain": [
       "Batches:   0%|          | 0/1 [00:00<?, ?it/s]"
      ]
     },
     "metadata": {},
     "output_type": "display_data"
    },
    {
     "name": "stdout",
     "output_type": "stream",
     "text": [
      "[INFO] Time taken to get scores on 1680 embeddings : 0.00018 seconds\n",
      "Query : foods high in fiber\n",
      "Results\n",
      "\n",
      "Score : 0.6926\n",
      "Text : \n",
      "Macronutrients Nutrients that are needed in large amounts are called macronutrients. There are three classes of macronutrients: carbohydrates, lipids, and proteins. These can be metabolically processed into cellular energy. The energy from macronutrients comes from their chemical bonds. This chemical energy is converted into cellular energy that is then utilized to perform work, allowing our bodies to conduct their basic functions. A unit of measurement of food energy is the calorie. On nutrition food labels the amount given for “calories” is actually equivalent to each calorie multiplied by one thousand. A kilocalorie (one thousand calories, denoted with a small “c”) is synonymous with the “Calorie” (with a capital “C”) on nutrition food labels. Water is also a macronutrient in the sense that you require a large amount of it, but unlike the other macronutrients, it does not yield calories. Carbohydrates Carbohydrates are molecules composed of carbon, hydrogen, and oxygen.\n",
      "Page number : 46\n",
      "\n",
      "\n",
      "Score : 0.6738\n",
      "Text : \n",
      "Water There is one other nutrient that we must have in large quantities: water. Water does not contain carbon, but is composed of two hydrogens and one oxygen per molecule of water. More than 60 percent of your total body weight is water. Without it, nothing could be transported in or out of the body, chemical reactions would not occur, organs would not be cushioned, and body temperature would fluctuate widely. On average, an adult consumes just over two liters of water per day from food and drink combined. Since water is so critical for life’s basic processes, the amount of water input and output is supremely important, a topic we will explore in detail in Chapter 4. Micronutrients Micronutrients are nutrients required by the body in lesser amounts, but are still essential for carrying out bodily functions. Micronutrients include all the essential minerals and vitamins. There are sixteen essential minerals and thirteen vitamins (See Table 1.1 “Minerals and Their Major Functions” and Table 1.2 “Vitamins and Their Major Functions” for a complete list and their major functions). In contrast to carbohydrates, lipids, and proteins, micronutrients are not sources of energy (calories), but they assist in the process as cofactors or components of enzymes (i.e., coenzymes).\n",
      "Page number : 49\n",
      "\n",
      "\n",
      "Score : 0.6646\n",
      "Text : \n",
      "Learning Objectives By the end of this chapter, you will be able to: • Describe basic concepts in nutrition • Describe factors that affect your nutritional needs • Describe the importance of research and scientific methods to understanding nutrition What are Nutrients? The foods we eat contain nutrients. Nutrients are substances required by the body to perform its basic functions. Nutrients must be obtained from our diet, since the human body does not synthesize or produce them. Nutrients have one or more of three basic functions: they provide energy, contribute to body structure, and/or regulate chemical processes in the body. These basic functions allow us to detect and respond to environmental surroundings, move, excrete wastes, respire (breathe), grow, and reproduce. There are six classes of nutrients required for the body to function and maintain overall health. These are carbohydrates, lipids, proteins, water, vitamins, and minerals. Foods also contain non-nutrients that may be harmful (such as natural toxins common in plant foods and additives like some dyes and preservatives) or beneficial (such as antioxidants). 4 | Introduction\n",
      "Page number : 45\n",
      "\n",
      "\n",
      "Score : 0.6536\n",
      "Text : \n",
      "Vitamins Major Functions Water-soluble Thiamin (B1) Coenzyme, energy metabolism assistance Riboflavin (B2 ) Coenzyme, energy metabolism assistance Niacin (B3) Coenzyme, energy metabolism assistance Pantothenic acid (B5) Coenzyme, energy metabolism assistance Pyridoxine (B6) Coenzyme, amino acid synthesis assistance Biotin (B7) Coenzyme, amino acid and fatty acid metabolism Folate (B9) Coenzyme, essential for growth Cobalamin (B12) Coenzyme, red blood cell synthesis C (ascorbic acid) Collagen synthesis, antioxidant Fat-soluble A Vision, reproduction, immune system function D Bone and teeth health maintenance, immune system function E Antioxidant, cell membrane protection K Bone and teeth health maintenance, blood clotting Vitamin deficiencies can cause severe health problems and even death. For example, a deficiency in niacin causes a disease called pellagra, which was common in the early twentieth century in some parts of America. The common signs and symptoms of pellagra are known as the “4D’s—diarrhea, dermatitis, dementia, and death.” Until scientists found out that better diets relieved the signs and symptoms of pellagra, many people with the disease ended up hospitalized in insane asylums awaiting death. Other vitamins were also found to prevent certain disorders and diseases such as scurvy (vitamin C), night blindness vitamin A, and rickets (vitamin D). Table 1.3 Functions of Nutrients Introduction | 11\n",
      "Page number : 52\n",
      "\n",
      "\n",
      "Score : 0.6473\n",
      "Text : \n",
      "Figure 1.1 The Macronutrie nts: Carbohydrat es, Lipids, Protein, and Water Proteins Proteins are macromolecules composed of chains of subunits called amino acids. Amino acids are simple subunits composed of carbon, oxygen, hydrogen, and nitrogen. Food sources of proteins include meats, dairy products, seafood, and a variety of different plant- based foods, most notably soy. The word protein comes from a Greek word meaning “of primary importance,” which is an apt description of these macronutrients; they are also known colloquially as the “workhorses” of life. Proteins provide four kilocalories of energy per gram; however providing energy is not protein’s most important function. Proteins provide structure to bones, muscles and skin, and play a role in conducting most of the chemical reactions that take place in the body. Scientists estimate that greater than one-hundred thousand different proteins exist within the human body. The genetic codes in DNA are basically protein recipes that determine the order in which 20 different amino acids are bound together to make thousands of specific proteins. Figure 1.1 The Macronutrients: Carbohydrates, Lipids, Protein, and Water Introduction | 7\n",
      "Page number : 48\n",
      "\n",
      "\n"
     ]
    }
   ],
   "source": [
    "print_top_results_and_scores(\"foods high in fiber\" , embeddings , pages_and_chunks=pages_and_chunks)"
   ]
  },
  {
   "cell_type": "markdown",
   "id": "89654322",
   "metadata": {},
   "source": [
    "## Getting LLM for our local RAG"
   ]
  },
  {
   "cell_type": "code",
   "execution_count": 45,
   "id": "a7b12700",
   "metadata": {
    "execution": {
     "iopub.execute_input": "2025-07-26T19:21:15.584230Z",
     "iopub.status.busy": "2025-07-26T19:21:15.583913Z",
     "iopub.status.idle": "2025-07-26T19:21:15.588746Z",
     "shell.execute_reply": "2025-07-26T19:21:15.587911Z",
     "shell.execute_reply.started": "2025-07-26T19:21:15.584213Z"
    },
    "trusted": true
   },
   "outputs": [
    {
     "name": "stdout",
     "output_type": "stream",
     "text": [
      "Available GPU memory : 15 GB\n"
     ]
    }
   ],
   "source": [
    "gpu_memory_bytes = torch.cuda.get_device_properties(0).total_memory\n",
    "gpu_memory_gb = round(gpu_memory_bytes/(2**30))\n",
    "print(f\"Available GPU memory : {gpu_memory_gb} GB\")"
   ]
  },
  {
   "cell_type": "code",
   "execution_count": 46,
   "id": "c115de0c",
   "metadata": {
    "execution": {
     "iopub.execute_input": "2025-07-26T19:21:15.590162Z",
     "iopub.status.busy": "2025-07-26T19:21:15.589633Z",
     "iopub.status.idle": "2025-07-26T19:21:15.869408Z",
     "shell.execute_reply": "2025-07-26T19:21:15.868422Z",
     "shell.execute_reply.started": "2025-07-26T19:21:15.590120Z"
    },
    "trusted": true
   },
   "outputs": [
    {
     "name": "stdout",
     "output_type": "stream",
     "text": [
      "Sat Jul 26 19:21:15 2025       \n",
      "+-----------------------------------------------------------------------------------------+\n",
      "| NVIDIA-SMI 560.35.03              Driver Version: 560.35.03      CUDA Version: 12.6     |\n",
      "|-----------------------------------------+------------------------+----------------------+\n",
      "| GPU  Name                 Persistence-M | Bus-Id          Disp.A | Volatile Uncorr. ECC |\n",
      "| Fan  Temp   Perf          Pwr:Usage/Cap |           Memory-Usage | GPU-Util  Compute M. |\n",
      "|                                         |                        |               MIG M. |\n",
      "|=========================================+========================+======================|\n",
      "|   0  Tesla T4                       Off |   00000000:00:04.0 Off |                    0 |\n",
      "| N/A   68C    P0             29W /   70W |    1565MiB /  15360MiB |      0%      Default |\n",
      "|                                         |                        |                  N/A |\n",
      "+-----------------------------------------+------------------------+----------------------+\n",
      "|   1  Tesla T4                       Off |   00000000:00:05.0 Off |                    0 |\n",
      "| N/A   46C    P8             10W /   70W |       3MiB /  15360MiB |      0%      Default |\n",
      "|                                         |                        |                  N/A |\n",
      "+-----------------------------------------+------------------------+----------------------+\n",
      "                                                                                         \n",
      "+-----------------------------------------------------------------------------------------+\n",
      "| Processes:                                                                              |\n",
      "|  GPU   GI   CI        PID   Type   Process name                              GPU Memory |\n",
      "|        ID   ID                                                               Usage      |\n",
      "|=========================================================================================|\n",
      "+-----------------------------------------------------------------------------------------+\n"
     ]
    },
    {
     "name": "stderr",
     "output_type": "stream",
     "text": [
      "huggingface/tokenizers: The current process just got forked, after parallelism has already been used. Disabling parallelism to avoid deadlocks...\n",
      "To disable this warning, you can either:\n",
      "\t- Avoid using `tokenizers` before the fork if possible\n",
      "\t- Explicitly set the environment variable TOKENIZERS_PARALLELISM=(true | false)\n"
     ]
    }
   ],
   "source": [
    "!nvidia-smi"
   ]
  },
  {
   "cell_type": "code",
   "execution_count": 47,
   "id": "02482018-bdf9-43cf-ae8c-5a27cf75aae3",
   "metadata": {
    "execution": {
     "iopub.execute_input": "2025-07-26T19:21:15.870993Z",
     "iopub.status.busy": "2025-07-26T19:21:15.870691Z",
     "iopub.status.idle": "2025-07-26T19:21:15.877270Z",
     "shell.execute_reply": "2025-07-26T19:21:15.876381Z",
     "shell.execute_reply.started": "2025-07-26T19:21:15.870956Z"
    },
    "trusted": true
   },
   "outputs": [
    {
     "name": "stdout",
     "output_type": "stream",
     "text": [
      "GPU memory: 15 | Recommended model: Gemma 2B in float16 or Gemma 7B in 4-bit precision.\n",
      "use_quantization_config set to: False\n",
      "model_id set to: google/gemma-2b-it\n"
     ]
    }
   ],
   "source": [
    "# Note: the following is Gemma focused, however, there are more and more LLMs of the 2B and 7B size appearing for local use.\n",
    "if gpu_memory_gb < 5.1:\n",
    "    print(f\"Your available GPU memory is {gpu_memory_gb}GB, you may not have enough memory to run a Gemma LLM locally without quantization.\")\n",
    "elif gpu_memory_gb < 8.1:\n",
    "    print(f\"GPU memory: {gpu_memory_gb} | Recommended model: Gemma 2B in 4-bit precision.\")\n",
    "    use_quantization_config = True \n",
    "    model_id = \"google/gemma-2b-it\"\n",
    "elif gpu_memory_gb < 19.0:\n",
    "    print(f\"GPU memory: {gpu_memory_gb} | Recommended model: Gemma 2B in float16 or Gemma 7B in 4-bit precision.\")\n",
    "    use_quantization_config = False \n",
    "    model_id = \"google/gemma-2b-it\"\n",
    "elif gpu_memory_gb > 19.0:\n",
    "    print(f\"GPU memory: {gpu_memory_gb} | Recommend model: Gemma 7B in 4-bit or float16 precision.\")\n",
    "    use_quantization_config = False \n",
    "    model_id = \"google/gemma-7b-it\"\n",
    "\n",
    "print(f\"use_quantization_config set to: {use_quantization_config}\")\n",
    "print(f\"model_id set to: {model_id}\")"
   ]
  },
  {
   "cell_type": "code",
   "execution_count": 52,
   "id": "8106d64a-c858-468d-b0c0-0b57c12eff23",
   "metadata": {
    "execution": {
     "iopub.execute_input": "2025-07-26T19:24:57.702901Z",
     "iopub.status.busy": "2025-07-26T19:24:57.702228Z",
     "iopub.status.idle": "2025-07-26T19:24:57.720486Z",
     "shell.execute_reply": "2025-07-26T19:24:57.719979Z",
     "shell.execute_reply.started": "2025-07-26T19:24:57.702872Z"
    },
    "trusted": true
   },
   "outputs": [],
   "source": [
    "from transformers import AutoTokenizer, AutoModelForCausalLM ## generative model\n",
    "from transformers.utils import is_flash_attn_2_available\n",
    "from transformers import BitsAndBytesConfig\n",
    "quantization_config = BitsAndBytesConfig(load_in_4bit=True , bnb_4bit_compute_dtype=torch.float16)\n"
   ]
  },
  {
   "cell_type": "code",
   "execution_count": 53,
   "id": "caa4be4a-9e3a-4916-a6d7-c833b2d26a76",
   "metadata": {
    "execution": {
     "iopub.execute_input": "2025-07-26T19:25:01.529323Z",
     "iopub.status.busy": "2025-07-26T19:25:01.529045Z",
     "iopub.status.idle": "2025-07-26T19:25:01.538595Z",
     "shell.execute_reply": "2025-07-26T19:25:01.537833Z",
     "shell.execute_reply.started": "2025-07-26T19:25:01.529304Z"
    },
    "trusted": true
   },
   "outputs": [
    {
     "name": "stdout",
     "output_type": "stream",
     "text": [
      "Attention mechanism : sdpa\n"
     ]
    }
   ],
   "source": [
    "if (is_flash_attn_2_available()) and (torch.cuda.get_device_capability(0)[0]>=8) : \n",
    "    attn_mechanism = \"flash_attention_2\"\n",
    "else : \n",
    "    attn_mechanism = \"sdpa\"\n",
    "print(f\"Attention mechanism : {attn_mechanism}\")"
   ]
  },
  {
   "cell_type": "code",
   "execution_count": 56,
   "id": "7a2de98a-0222-4e98-8d13-7a6570bd43cd",
   "metadata": {
    "execution": {
     "iopub.execute_input": "2025-07-26T19:26:12.962445Z",
     "iopub.status.busy": "2025-07-26T19:26:12.962110Z",
     "iopub.status.idle": "2025-07-26T19:27:06.801818Z",
     "shell.execute_reply": "2025-07-26T19:27:06.800968Z",
     "shell.execute_reply.started": "2025-07-26T19:26:12.962424Z"
    },
    "trusted": true
   },
   "outputs": [
    {
     "name": "stdout",
     "output_type": "stream",
     "text": [
      "Model : google/gemma-2b-it\n"
     ]
    },
    {
     "data": {
      "application/vnd.jupyter.widget-view+json": {
       "model_id": "f29b51073d9d402cb7cdb6abea0790b7",
       "version_major": 2,
       "version_minor": 0
      },
      "text/plain": [
       "tokenizer_config.json:   0%|          | 0.00/34.2k [00:00<?, ?B/s]"
      ]
     },
     "metadata": {},
     "output_type": "display_data"
    },
    {
     "data": {
      "application/vnd.jupyter.widget-view+json": {
       "model_id": "9bf84a6d68674f84b17e0ab2067203d5",
       "version_major": 2,
       "version_minor": 0
      },
      "text/plain": [
       "tokenizer.model:   0%|          | 0.00/4.24M [00:00<?, ?B/s]"
      ]
     },
     "metadata": {},
     "output_type": "display_data"
    },
    {
     "data": {
      "application/vnd.jupyter.widget-view+json": {
       "model_id": "66545b936b07407e9e2b3caaeb8e76f0",
       "version_major": 2,
       "version_minor": 0
      },
      "text/plain": [
       "tokenizer.json:   0%|          | 0.00/17.5M [00:00<?, ?B/s]"
      ]
     },
     "metadata": {},
     "output_type": "display_data"
    },
    {
     "data": {
      "application/vnd.jupyter.widget-view+json": {
       "model_id": "d09a4293ca934c8aa9302ebc159ced02",
       "version_major": 2,
       "version_minor": 0
      },
      "text/plain": [
       "special_tokens_map.json:   0%|          | 0.00/636 [00:00<?, ?B/s]"
      ]
     },
     "metadata": {},
     "output_type": "display_data"
    },
    {
     "data": {
      "application/vnd.jupyter.widget-view+json": {
       "model_id": "11560443fdaf4a34b35656b1a08d7598",
       "version_major": 2,
       "version_minor": 0
      },
      "text/plain": [
       "config.json:   0%|          | 0.00/627 [00:00<?, ?B/s]"
      ]
     },
     "metadata": {},
     "output_type": "display_data"
    },
    {
     "data": {
      "application/vnd.jupyter.widget-view+json": {
       "model_id": "20cb9e720ff4480ab1a6116b2a09607a",
       "version_major": 2,
       "version_minor": 0
      },
      "text/plain": [
       "model.safetensors.index.json:   0%|          | 0.00/13.5k [00:00<?, ?B/s]"
      ]
     },
     "metadata": {},
     "output_type": "display_data"
    },
    {
     "data": {
      "application/vnd.jupyter.widget-view+json": {
       "model_id": "9a2cb8acd4df4b5295e92f4c59170895",
       "version_major": 2,
       "version_minor": 0
      },
      "text/plain": [
       "Fetching 2 files:   0%|          | 0/2 [00:00<?, ?it/s]"
      ]
     },
     "metadata": {},
     "output_type": "display_data"
    },
    {
     "data": {
      "application/vnd.jupyter.widget-view+json": {
       "model_id": "0d907511f67442bea83975d8a0892e35",
       "version_major": 2,
       "version_minor": 0
      },
      "text/plain": [
       "model-00002-of-00002.safetensors:   0%|          | 0.00/67.1M [00:00<?, ?B/s]"
      ]
     },
     "metadata": {},
     "output_type": "display_data"
    },
    {
     "data": {
      "application/vnd.jupyter.widget-view+json": {
       "model_id": "17ef2aec3dbf448c857008b696f8da51",
       "version_major": 2,
       "version_minor": 0
      },
      "text/plain": [
       "model-00001-of-00002.safetensors:   0%|          | 0.00/4.95G [00:00<?, ?B/s]"
      ]
     },
     "metadata": {},
     "output_type": "display_data"
    },
    {
     "data": {
      "application/vnd.jupyter.widget-view+json": {
       "model_id": "f27ab3f85664419c9ab7ccb8257c00bb",
       "version_major": 2,
       "version_minor": 0
      },
      "text/plain": [
       "Loading checkpoint shards:   0%|          | 0/2 [00:00<?, ?it/s]"
      ]
     },
     "metadata": {},
     "output_type": "display_data"
    },
    {
     "data": {
      "application/vnd.jupyter.widget-view+json": {
       "model_id": "5bbeb6cfdad04379add2ad6bb15b5298",
       "version_major": 2,
       "version_minor": 0
      },
      "text/plain": [
       "generation_config.json:   0%|          | 0.00/137 [00:00<?, ?B/s]"
      ]
     },
     "metadata": {},
     "output_type": "display_data"
    }
   ],
   "source": [
    "### defining the model to be used\n",
    "print(f\"Model : {model_id}\")\n",
    "\n",
    "### defining the tokenizer\n",
    "tokenizer = AutoTokenizer.from_pretrained(pretrained_model_name_or_path=model_id)\n",
    "### LLM Model\n",
    "\n",
    "llm_model = AutoModelForCausalLM.from_pretrained(pretrained_model_name_or_path=model_id,\n",
    "                                                torch_dtype=torch.float16,\n",
    "                                                quantization_config = quantization_config if use_quantization_config else None,\n",
    "                                                low_cpu_mem_usage=False,\n",
    "                                                attn_implementation=attn_mechanism)"
   ]
  },
  {
   "cell_type": "code",
   "execution_count": 57,
   "id": "82612606-a3e3-4135-af71-4f605fe72527",
   "metadata": {
    "execution": {
     "iopub.execute_input": "2025-07-26T19:27:06.803562Z",
     "iopub.status.busy": "2025-07-26T19:27:06.803168Z",
     "iopub.status.idle": "2025-07-26T19:27:07.295231Z",
     "shell.execute_reply": "2025-07-26T19:27:07.294158Z",
     "shell.execute_reply.started": "2025-07-26T19:27:06.803525Z"
    },
    "trusted": true
   },
   "outputs": [
    {
     "name": "stdout",
     "output_type": "stream",
     "text": [
      "Sat Jul 26 19:27:07 2025       \n",
      "+-----------------------------------------------------------------------------------------+\n",
      "| NVIDIA-SMI 560.35.03              Driver Version: 560.35.03      CUDA Version: 12.6     |\n",
      "|-----------------------------------------+------------------------+----------------------+\n",
      "| GPU  Name                 Persistence-M | Bus-Id          Disp.A | Volatile Uncorr. ECC |\n",
      "| Fan  Temp   Perf          Pwr:Usage/Cap |           Memory-Usage | GPU-Util  Compute M. |\n",
      "|                                         |                        |               MIG M. |\n",
      "|=========================================+========================+======================|\n",
      "|   0  Tesla T4                       Off |   00000000:00:04.0 Off |                    0 |\n",
      "| N/A   70C    P0             29W /   70W |    1565MiB /  15360MiB |      0%      Default |\n",
      "|                                         |                        |                  N/A |\n",
      "+-----------------------------------------+------------------------+----------------------+\n",
      "|   1  Tesla T4                       Off |   00000000:00:05.0 Off |                    0 |\n",
      "| N/A   46C    P8             10W /   70W |       3MiB /  15360MiB |      0%      Default |\n",
      "|                                         |                        |                  N/A |\n",
      "+-----------------------------------------+------------------------+----------------------+\n",
      "                                                                                         \n",
      "+-----------------------------------------------------------------------------------------+\n",
      "| Processes:                                                                              |\n",
      "|  GPU   GI   CI        PID   Type   Process name                              GPU Memory |\n",
      "|        ID   ID                                                               Usage      |\n",
      "|=========================================================================================|\n",
      "+-----------------------------------------------------------------------------------------+\n"
     ]
    },
    {
     "name": "stderr",
     "output_type": "stream",
     "text": [
      "huggingface/tokenizers: The current process just got forked, after parallelism has already been used. Disabling parallelism to avoid deadlocks...\n",
      "To disable this warning, you can either:\n",
      "\t- Avoid using `tokenizers` before the fork if possible\n",
      "\t- Explicitly set the environment variable TOKENIZERS_PARALLELISM=(true | false)\n"
     ]
    }
   ],
   "source": [
    "!nvidia-smi"
   ]
  },
  {
   "cell_type": "code",
   "execution_count": 58,
   "id": "c970e313-f808-403c-bf1c-5226aa6540c6",
   "metadata": {
    "execution": {
     "iopub.execute_input": "2025-07-26T19:27:07.297067Z",
     "iopub.status.busy": "2025-07-26T19:27:07.296782Z",
     "iopub.status.idle": "2025-07-26T19:27:12.358236Z",
     "shell.execute_reply": "2025-07-26T19:27:12.357437Z",
     "shell.execute_reply.started": "2025-07-26T19:27:07.297035Z"
    },
    "trusted": true
   },
   "outputs": [
    {
     "data": {
      "text/plain": [
       "GemmaForCausalLM(\n",
       "  (model): GemmaModel(\n",
       "    (embed_tokens): Embedding(256000, 2048, padding_idx=0)\n",
       "    (layers): ModuleList(\n",
       "      (0-17): 18 x GemmaDecoderLayer(\n",
       "        (self_attn): GemmaAttention(\n",
       "          (q_proj): Linear(in_features=2048, out_features=2048, bias=False)\n",
       "          (k_proj): Linear(in_features=2048, out_features=256, bias=False)\n",
       "          (v_proj): Linear(in_features=2048, out_features=256, bias=False)\n",
       "          (o_proj): Linear(in_features=2048, out_features=2048, bias=False)\n",
       "        )\n",
       "        (mlp): GemmaMLP(\n",
       "          (gate_proj): Linear(in_features=2048, out_features=16384, bias=False)\n",
       "          (up_proj): Linear(in_features=2048, out_features=16384, bias=False)\n",
       "          (down_proj): Linear(in_features=16384, out_features=2048, bias=False)\n",
       "          (act_fn): GELUActivation()\n",
       "        )\n",
       "        (input_layernorm): GemmaRMSNorm((2048,), eps=1e-06)\n",
       "        (post_attention_layernorm): GemmaRMSNorm((2048,), eps=1e-06)\n",
       "      )\n",
       "    )\n",
       "    (norm): GemmaRMSNorm((2048,), eps=1e-06)\n",
       "    (rotary_emb): GemmaRotaryEmbedding()\n",
       "  )\n",
       "  (lm_head): Linear(in_features=2048, out_features=256000, bias=False)\n",
       ")"
      ]
     },
     "execution_count": 58,
     "metadata": {},
     "output_type": "execute_result"
    }
   ],
   "source": [
    "llm_model"
   ]
  },
  {
   "cell_type": "code",
   "execution_count": 59,
   "id": "7a05ad3e-b7db-438f-ad1b-c1d08dcca040",
   "metadata": {
    "execution": {
     "iopub.execute_input": "2025-07-26T19:27:12.362633Z",
     "iopub.status.busy": "2025-07-26T19:27:12.362043Z",
     "iopub.status.idle": "2025-07-26T19:27:12.374295Z",
     "shell.execute_reply": "2025-07-26T19:27:12.373629Z",
     "shell.execute_reply.started": "2025-07-26T19:27:12.362606Z"
    },
    "trusted": true
   },
   "outputs": [
    {
     "data": {
      "text/plain": [
       "2506172416"
      ]
     },
     "execution_count": 59,
     "metadata": {},
     "output_type": "execute_result"
    }
   ],
   "source": [
    "def get_model_num_params(model : torch.nn.Module) : \n",
    "    return sum([param.numel() for param in model.parameters()])\n",
    "get_model_num_params(llm_model)"
   ]
  },
  {
   "cell_type": "code",
   "execution_count": 60,
   "id": "6654ca36-2386-44d4-8362-0b6228315a0b",
   "metadata": {
    "execution": {
     "iopub.execute_input": "2025-07-26T19:27:12.375118Z",
     "iopub.status.busy": "2025-07-26T19:27:12.374896Z",
     "iopub.status.idle": "2025-07-26T19:27:12.393673Z",
     "shell.execute_reply": "2025-07-26T19:27:12.392675Z",
     "shell.execute_reply.started": "2025-07-26T19:27:12.375099Z"
    },
    "trusted": true
   },
   "outputs": [
    {
     "data": {
      "text/plain": [
       "4.67"
      ]
     },
     "execution_count": 60,
     "metadata": {},
     "output_type": "execute_result"
    }
   ],
   "source": [
    "def get_model_mem_size(model : torch.nn.Module) : \n",
    "    mem_params = sum([param.nelement() * param.element_size() for param in model.parameters()]) \n",
    "    mem_buffers = sum([buf.nelement() * buf.element_size() for buf in model.buffers()]) \n",
    "\n",
    "    model_mem_bytes =  mem_buffers + mem_params\n",
    "    model_mem_mb = model_mem_bytes / (1024**2)\n",
    "    model_mem_gb = model_mem_bytes / (1024**3)\n",
    "    return round(model_mem_gb,2)\n",
    "get_model_mem_size(llm_model)"
   ]
  },
  {
   "cell_type": "markdown",
   "id": "25c925ae-76e8-4e72-9ab3-62b92162ad5f",
   "metadata": {},
   "source": [
    "## Generating text with LLM"
   ]
  },
  {
   "cell_type": "code",
   "execution_count": 61,
   "id": "51fdf06d-9f79-47df-952e-bdd55c47b85b",
   "metadata": {
    "execution": {
     "iopub.execute_input": "2025-07-26T19:27:12.394553Z",
     "iopub.status.busy": "2025-07-26T19:27:12.394289Z",
     "iopub.status.idle": "2025-07-26T19:27:12.423316Z",
     "shell.execute_reply": "2025-07-26T19:27:12.422567Z",
     "shell.execute_reply.started": "2025-07-26T19:27:12.394526Z"
    },
    "trusted": true
   },
   "outputs": [
    {
     "name": "stdout",
     "output_type": "stream",
     "text": [
      "Input text : what are the macronutrients , and what roles do they play in the human body\n",
      "\n",
      "Prompt (formatted) :\n",
      "<bos><start_of_turn>user\n",
      "what are the macronutrients , and what roles do they play in the human body<end_of_turn>\n",
      "<start_of_turn>model\n",
      "\n"
     ]
    }
   ],
   "source": [
    "input_text = \"what are the macronutrients , and what roles do they play in the human body\"\n",
    "print(f\"Input text : {input_text}\")\n",
    "\n",
    "dialogue_template = [{\n",
    "    \"role\":\"user\",\n",
    "    \"content\":input_text\n",
    "}]\n",
    "\n",
    "prompt = tokenizer.apply_chat_template(conversation=dialogue_template,\n",
    "                                      tokenize=False,\n",
    "                                       add_generation_prompt=True)\n",
    "\n",
    "print(f\"\\nPrompt (formatted) :\\n{prompt}\")"
   ]
  },
  {
   "cell_type": "code",
   "execution_count": 62,
   "id": "7f019369-01ce-43dd-a016-729ca5326640",
   "metadata": {
    "execution": {
     "iopub.execute_input": "2025-07-26T19:27:12.425064Z",
     "iopub.status.busy": "2025-07-26T19:27:12.424191Z",
     "iopub.status.idle": "2025-07-26T19:27:12.442406Z",
     "shell.execute_reply": "2025-07-26T19:27:12.441667Z",
     "shell.execute_reply.started": "2025-07-26T19:27:12.425011Z"
    },
    "trusted": true
   },
   "outputs": [
    {
     "name": "stdout",
     "output_type": "stream",
     "text": [
      "CPU times: user 1.3 ms, sys: 795 µs, total: 2.1 ms\n",
      "Wall time: 3.2 ms\n"
     ]
    },
    {
     "data": {
      "text/plain": [
       "{'input_ids': tensor([[     2,      2,    106,   1645,    108,   5049,    708,    573, 186809,\n",
       "         184592,   1688,    578,   1212,  16065,    749,    984,   1554,    575,\n",
       "            573,   3515,   2971,    107,    108,    106,   2516,    108]],\n",
       "       device='cuda:0'), 'attention_mask': tensor([[1, 1, 1, 1, 1, 1, 1, 1, 1, 1, 1, 1, 1, 1, 1, 1, 1, 1, 1, 1, 1, 1, 1, 1,\n",
       "         1, 1]], device='cuda:0')}"
      ]
     },
     "execution_count": 62,
     "metadata": {},
     "output_type": "execute_result"
    }
   ],
   "source": [
    "%%time\n",
    "input_ids = tokenizer(prompt , return_tensors=\"pt\").to(\"cuda\")\n",
    "input_ids"
   ]
  },
  {
   "cell_type": "code",
   "execution_count": 63,
   "id": "0c99c557-8ac2-4999-a299-7ac50660b66a",
   "metadata": {
    "execution": {
     "iopub.execute_input": "2025-07-26T19:27:12.443366Z",
     "iopub.status.busy": "2025-07-26T19:27:12.443130Z",
     "iopub.status.idle": "2025-07-26T19:27:21.316511Z",
     "shell.execute_reply": "2025-07-26T19:27:21.315467Z",
     "shell.execute_reply.started": "2025-07-26T19:27:12.443351Z"
    },
    "trusted": true
   },
   "outputs": [
    {
     "name": "stdout",
     "output_type": "stream",
     "text": [
      "Model output:\n",
      "tensor([[     2,      2,    106,   1645,    108,   5049,    708,    573, 186809,\n",
      "         184592,   1688,    578,   1212,  16065,    749,    984,   1554,    575,\n",
      "            573,   3515,   2971,    107,    108,    106,   2516,    108,  21404,\n",
      "         235269,   1517, 235303, 235256,    476,  25497,    576,    573, 186809,\n",
      "         184592,    578,   1024,  16065,    575,    573,   3515,   2971, 235292,\n",
      "            109,    688,  12298,   1695, 184592,  66058,    109, 235287,   5231,\n",
      "         156615,  56227,  66058,    108,    141, 235287,  34428,   4134,    604,\n",
      "            573,   2971, 235303, 235256,   5999,    578,  29703, 235265,    108,\n",
      "            141, 235287, 110165,  56227,    708,    573,   7920,   4303,    576,\n",
      "           4134,    604,   1546,   5999, 235265,    108,    141, 235287,  25280,\n",
      "          72780,    708,   1941,    674,   1987,   5543,    577,  55997, 235269,\n",
      "           1582,    685,   3733,  29907, 235269,  16803, 235269,    578,  19574,\n",
      "         235265,    108,    141, 235287,  13702,  72780,    708,   1941,    674,\n",
      "            708,   7290, 122712, 235269,   1582,    685,   9347, 235269,  57634,\n",
      "         235269,    578, 109955, 235265,    109, 235287,   5231, 216954,  66058,\n",
      "            108,    141, 235287,   8108,    578,  12158,  29703, 235269,  44760,\n",
      "         235269,    578,  53186, 235265,    108,    141, 235287,  96084,    708,\n",
      "           8727,    604,  24091,   1411, 235269,  42696,   4584, 235269,    578,\n",
      "          14976,  12158, 235265,    108,    141, 235287,   2456,    708,   2167,\n",
      "           5088,    576,  20361, 235269,   1853,    675,   3724,   7257, 235265,\n",
      "            109, 235287,   5231, 235311,   1989,  66058,    108,    141, 235287,\n",
      "          34428,   4134, 235269,  38823, 235269,    578,   1707,  33398,  48765,\n",
      "         235265,    108,    141, 235287,  41137,  61926,   3707,  21361,   4684,\n",
      "         235269,  59269, 235269,  22606, 235269,    578,  15741, 235265,    108,\n",
      "            141, 235287,   3776,  61926,    798,  12310,  45365,   5902,    578,\n",
      "           4740,    573,   5685,    576,   3760,   7197, 235265,    109,    688,\n",
      "          33771,    576,  97586, 184592,    575,    573,   9998,  14427,  66058,\n",
      "            109, 235287,   5231,  23920,   4584,  66058, 110165,  56227, 235269,\n",
      "          20361, 235269,    578,  61926,   3658,    573,   2971,    675,   4134,\n",
      "         235265,    108, 235287,   5231,  25251,    578,  68808,  29703,  66058,\n",
      "          96084,    708,   8727,    604,   4547,    578,  68808,  29703, 235269,\n",
      "           3359,  22488, 235269]], device='cuda:0')\n"
     ]
    }
   ],
   "source": [
    "## generate output using our local LLM\n",
    "llm_model.to(\"cuda\")\n",
    "outputs = llm_model.generate(**input_ids,max_new_tokens=256)\n",
    "print(f\"Model output:\\n{outputs}\")"
   ]
  },
  {
   "cell_type": "code",
   "execution_count": 64,
   "id": "568bef29-4cd6-4bbd-ae8d-0936490b881f",
   "metadata": {
    "execution": {
     "iopub.execute_input": "2025-07-26T19:27:21.317980Z",
     "iopub.status.busy": "2025-07-26T19:27:21.317713Z",
     "iopub.status.idle": "2025-07-26T19:27:21.323675Z",
     "shell.execute_reply": "2025-07-26T19:27:21.322928Z",
     "shell.execute_reply.started": "2025-07-26T19:27:21.317956Z"
    },
    "trusted": true
   },
   "outputs": [
    {
     "name": "stdout",
     "output_type": "stream",
     "text": [
      "Decoded Output:\n",
      "<bos><bos><start_of_turn>user\n",
      "what are the macronutrients , and what roles do they play in the human body<end_of_turn>\n",
      "<start_of_turn>model\n",
      "Sure, here's a breakdown of the macronutrients and their roles in the human body:\n",
      "\n",
      "**Macronutrients:**\n",
      "\n",
      "* **Carbohydrates:**\n",
      "    * Provide energy for the body's cells and tissues.\n",
      "    * Carbohydrates are the primary source of energy for most cells.\n",
      "    * Complex carbohydrates are those that take longer to digest, such as whole grains, fruits, and vegetables.\n",
      "    * Simple carbohydrates are those that are quickly digested, such as sugar, starch, and lactose.\n",
      "\n",
      "* **Proteins:**\n",
      "    * Build and repair tissues, enzymes, and hormones.\n",
      "    * Proteins are essential for immune function, hormone production, and tissue repair.\n",
      "    * There are different types of proteins, each with specific functions.\n",
      "\n",
      "* **Fats:**\n",
      "    * Provide energy, insulation, and help absorb vitamins.\n",
      "    * Healthy fats include olive oil, avocado, nuts, and seeds.\n",
      "    * Trans fats can raise cholesterol levels and increase the risk of heart disease.\n",
      "\n",
      "**Roles of Macronutrients in the Human Body:**\n",
      "\n",
      "* **Energy production:** Carbohydrates, proteins, and fats provide the body with energy.\n",
      "* **Building and repairing tissues:** Proteins are essential for building and repairing tissues, including muscles,\n"
     ]
    }
   ],
   "source": [
    "outputs_decoded = tokenizer.decode(outputs[0])\n",
    "print(f\"Decoded Output:\\n{outputs_decoded}\")"
   ]
  },
  {
   "cell_type": "code",
   "execution_count": 65,
   "id": "a6680ce2-a047-477b-996f-304251ec1355",
   "metadata": {
    "execution": {
     "iopub.execute_input": "2025-07-26T19:27:21.325945Z",
     "iopub.status.busy": "2025-07-26T19:27:21.325643Z",
     "iopub.status.idle": "2025-07-26T19:27:21.335163Z",
     "shell.execute_reply": "2025-07-26T19:27:21.334338Z",
     "shell.execute_reply.started": "2025-07-26T19:27:21.325917Z"
    },
    "trusted": true
   },
   "outputs": [],
   "source": [
    "# Nutrition-style questions generated with GPT4\n",
    "gpt4_questions = [\n",
    "    \"What are the macronutrients, and what roles do they play in the human body?\",\n",
    "    \"How do vitamins and minerals differ in their roles and importance for health?\",\n",
    "    \"Describe the process of digestion and absorption of nutrients in the human body.\",\n",
    "    \"What role does fibre play in digestion? Name five fibre containing foods.\",\n",
    "    \"Explain the concept of energy balance and its importance in weight management.\"\n",
    "]\n",
    "\n",
    "# Manually created question list\n",
    "manual_questions = [\n",
    "    \"How often should infants be breastfed?\",\n",
    "    \"What are symptoms of pellagra?\",\n",
    "    \"How does saliva help with digestion?\",\n",
    "    \"What is the RDI for protein per day?\",\n",
    "    \"water soluble vitamins\"\n",
    "]\n",
    "\n",
    "query_list = gpt4_questions + manual_questions"
   ]
  },
  {
   "cell_type": "code",
   "execution_count": 66,
   "id": "748204f1-69b6-48be-aa5e-12ae2c027989",
   "metadata": {
    "execution": {
     "iopub.execute_input": "2025-07-26T19:27:21.336282Z",
     "iopub.status.busy": "2025-07-26T19:27:21.335987Z",
     "iopub.status.idle": "2025-07-26T19:27:21.383622Z",
     "shell.execute_reply": "2025-07-26T19:27:21.382846Z",
     "shell.execute_reply.started": "2025-07-26T19:27:21.336258Z"
    },
    "trusted": true
   },
   "outputs": [
    {
     "name": "stdout",
     "output_type": "stream",
     "text": [
      "Query: What are the macronutrients, and what roles do they play in the human body?\n"
     ]
    },
    {
     "data": {
      "application/vnd.jupyter.widget-view+json": {
       "model_id": "c37308f0e3e44ccfad5725c71d4282e0",
       "version_major": 2,
       "version_minor": 0
      },
      "text/plain": [
       "Batches:   0%|          | 0/1 [00:00<?, ?it/s]"
      ]
     },
     "metadata": {},
     "output_type": "display_data"
    },
    {
     "name": "stdout",
     "output_type": "stream",
     "text": [
      "[INFO] Time taken to get scores on 1680 embeddings : 0.00021 seconds\n"
     ]
    }
   ],
   "source": [
    "import random \n",
    "query = random.choice(query_list)\n",
    "print(f\"Query: {query}\")\n",
    "scores , indices = retrieve_relevant_resources(query,embeddings)"
   ]
  },
  {
   "cell_type": "code",
   "execution_count": 67,
   "id": "62acd79b-ab22-468f-97b5-7cb57fcaee27",
   "metadata": {
    "execution": {
     "iopub.execute_input": "2025-07-26T19:27:34.142545Z",
     "iopub.status.busy": "2025-07-26T19:27:34.142092Z",
     "iopub.status.idle": "2025-07-26T19:27:34.150472Z",
     "shell.execute_reply": "2025-07-26T19:27:34.149367Z",
     "shell.execute_reply.started": "2025-07-26T19:27:34.142516Z"
    },
    "trusted": true
   },
   "outputs": [
    {
     "data": {
      "text/plain": [
       "(tensor([0.7302, 0.7233, 0.6962, 0.6942, 0.6416], device='cuda:0'),\n",
       " tensor([42, 47, 46, 41, 52], device='cuda:0'))"
      ]
     },
     "execution_count": 67,
     "metadata": {},
     "output_type": "execute_result"
    }
   ],
   "source": [
    "scores , indices"
   ]
  },
  {
   "cell_type": "code",
   "execution_count": 95,
   "id": "12c0db75-a290-4a0d-b98f-724f942fbfec",
   "metadata": {
    "execution": {
     "iopub.execute_input": "2025-07-26T20:08:15.647987Z",
     "iopub.status.busy": "2025-07-26T20:08:15.647429Z",
     "iopub.status.idle": "2025-07-26T20:08:15.653964Z",
     "shell.execute_reply": "2025-07-26T20:08:15.653038Z",
     "shell.execute_reply.started": "2025-07-26T20:08:15.647965Z"
    },
    "trusted": true
   },
   "outputs": [],
   "source": [
    "## Augmenting the prompt with context items\n",
    "def prompt_design(query:str,context_items:list[dict]) -> str : \n",
    "    context = \"- \" +\"\\n- \".join([item[\"sentence_chunk\"] for item in context_items])\n",
    "    base_prompt =\"\"\"Based on the following context items, please answer the query.\n",
    "Give yourself room to think by extracting relevant passages from the context before answering the query.\n",
    "Don't return the thinking, only return the answer.\n",
    "Make sure your answers are as explanatory as possible.\n",
    "Use the following examples as reference for the ideal answer style.\n",
    "\\nExample 1:\n",
    "Query: What are the fat-soluble vitamins?\n",
    "Answer: The fat-soluble vitamins include Vitamin A, Vitamin D, Vitamin E, and Vitamin K. These vitamins are absorbed along with fats in the diet and can be stored in the body's fatty tissue and liver for later use. Vitamin A is important for vision, immune function, and skin health. Vitamin D plays a critical role in calcium absorption and bone health. Vitamin E acts as an antioxidant, protecting cells from damage. Vitamin K is essential for blood clotting and bone metabolism.\n",
    "\\nExample 2:\n",
    "Query: What are the causes of type 2 diabetes?\n",
    "Answer: Type 2 diabetes is often associated with overnutrition, particularly the overconsumption of calories leading to obesity. Factors include a diet high in refined sugars and saturated fats, which can lead to insulin resistance, a condition where the body's cells do not respond effectively to insulin. Over time, the pancreas cannot produce enough insulin to manage blood sugar levels, resulting in type 2 diabetes. Additionally, excessive caloric intake without sufficient physical activity exacerbates the risk by promoting weight gain and fat accumulation, particularly around the abdomen, further contributing to insulin resistance.\n",
    "\\nExample 3:\n",
    "Query: What is the importance of hydration for physical performance?\n",
    "Answer: Hydration is crucial for physical performance because water plays key roles in maintaining blood volume, regulating body temperature, and ensuring the transport of nutrients and oxygen to cells. Adequate hydration is essential for optimal muscle function, endurance, and recovery. Dehydration can lead to decreased performance, fatigue, and increased risk of heat-related illnesses, such as heat stroke. Drinking sufficient water before, during, and after exercise helps ensure peak physical performance and recovery.\n",
    "\\nNow use the following context items to answer the user query:\n",
    "{context}\n",
    "\\nRelevant passages: <extract relevant passages from the context here>\n",
    "User query: {query}\n",
    "Answer:\"\"\"\n",
    "    base_prompt = base_prompt.format(context=context, \n",
    "                                    query=query)\n",
    "    dialogue_template= [{\n",
    "        \"role\":\"user\",\n",
    "        \"content\":base_prompt\n",
    "    }]\n",
    "\n",
    "    \n",
    "    prompt = tokenizer.apply_chat_template(conversation=dialogue_template,\n",
    "                                          tokenize=False,\n",
    "                                          add_generation_prompt=True)\n",
    "    return prompt"
   ]
  },
  {
   "cell_type": "code",
   "execution_count": 102,
   "id": "f2370cca-24ee-40bf-b9df-1076ecfb54d9",
   "metadata": {
    "execution": {
     "iopub.execute_input": "2025-07-26T20:10:51.996920Z",
     "iopub.status.busy": "2025-07-26T20:10:51.996635Z",
     "iopub.status.idle": "2025-07-26T20:10:52.037336Z",
     "shell.execute_reply": "2025-07-26T20:10:52.036543Z",
     "shell.execute_reply.started": "2025-07-26T20:10:51.996899Z"
    },
    "trusted": true
   },
   "outputs": [
    {
     "data": {
      "application/vnd.jupyter.widget-view+json": {
       "model_id": "379f133668c64ad5a8abef99775a0b26",
       "version_major": 2,
       "version_minor": 0
      },
      "text/plain": [
       "Batches:   0%|          | 0/1 [00:00<?, ?it/s]"
      ]
     },
     "metadata": {},
     "output_type": "display_data"
    },
    {
     "name": "stdout",
     "output_type": "stream",
     "text": [
      "[INFO] Time taken to get scores on 1680 embeddings : 0.00014 seconds\n",
      "Formatted Prompt :\n",
      "<bos><start_of_turn>user\n",
      "Based on the following context items, please answer the query.\n",
      "Give yourself room to think by extracting relevant passages from the context before answering the query.\n",
      "Don't return the thinking, only return the answer.\n",
      "Make sure your answers are as explanatory as possible.\n",
      "Use the following examples as reference for the ideal answer style.\n",
      "\n",
      "Example 1:\n",
      "Query: What are the fat-soluble vitamins?\n",
      "Answer: The fat-soluble vitamins include Vitamin A, Vitamin D, Vitamin E, and Vitamin K. These vitamins are absorbed along with fats in the diet and can be stored in the body's fatty tissue and liver for later use. Vitamin A is important for vision, immune function, and skin health. Vitamin D plays a critical role in calcium absorption and bone health. Vitamin E acts as an antioxidant, protecting cells from damage. Vitamin K is essential for blood clotting and bone metabolism.\n",
      "\n",
      "Example 2:\n",
      "Query: What are the causes of type 2 diabetes?\n",
      "Answer: Type 2 diabetes is often associated with overnutrition, particularly the overconsumption of calories leading to obesity. Factors include a diet high in refined sugars and saturated fats, which can lead to insulin resistance, a condition where the body's cells do not respond effectively to insulin. Over time, the pancreas cannot produce enough insulin to manage blood sugar levels, resulting in type 2 diabetes. Additionally, excessive caloric intake without sufficient physical activity exacerbates the risk by promoting weight gain and fat accumulation, particularly around the abdomen, further contributing to insulin resistance.\n",
      "\n",
      "Example 3:\n",
      "Query: What is the importance of hydration for physical performance?\n",
      "Answer: Hydration is crucial for physical performance because water plays key roles in maintaining blood volume, regulating body temperature, and ensuring the transport of nutrients and oxygen to cells. Adequate hydration is essential for optimal muscle function, endurance, and recovery. Dehydration can lead to decreased performance, fatigue, and increased risk of heat-related illnesses, such as heat stroke. Drinking sufficient water before, during, and after exercise helps ensure peak physical performance and recovery.\n",
      "\n",
      "Now use the following context items to answer the user query:\n",
      "- all other organ systems in the human body. We will learn the process of nutrient digestion and absorption, which further reiterates the importance of developing a healthy diet to maintain a healthier you. The evidence abounds that food can indeed be “thy medicine.” Learning Activities Technology Note: The second edition of the Human Nutrition Open Educational Resource (OER) textbook features interactive learning activities.  These activities are available in the web-based textbook and not available in the downloadable versions (EPUB, Digital PDF, Print_PDF, or Open Document). Learning activities may be used across various mobile devices, however, for the best user experience it is strongly recommended that users complete these activities using a desktop or laptop computer and in Google Chrome.   An interactive or media element has been excluded from this version of the text. You can view it online here: http://pressbooks.oer.hawaii.edu/ humannutrition2/?p=71 60 | Introduction\n",
      "- The Digestive System UNIVERSITY OF HAWAI‘I AT MĀNOA FOOD SCIENCE AND HUMAN NUTRITION PROGRAM AND HUMAN NUTRITION PROGRAM The process of digestion begins even before you put food into your mouth. When you feel hungry, your body sends a message to your brain that it is time to eat. Sights and smells influence your body’s preparedness for food. Smelling food sends a message to your brain. Your brain then tells the mouth to get ready, and you start to salivate in preparation for a meal. Once you have eaten, your digestive system (Figure 2.4 “The Human Digestive System”) starts the process that breaks down the components of food into smaller components that can be absorbed and taken into the body. To do this, the digestive system functions on two levels, mechanically to move and mix ingested food and chemically to break down large molecules. The smaller nutrient molecules can then be absorbed and processed by cells throughout the body for energy  or used as building blocks for new cells. The digestive system is one of the eleven organ systems of the human body, and it is composed of several hollow tube-shaped organs including the mouth, pharynx, esophagus, stomach, small intestine, large intestine (colon), rectum, and anus. It is lined with mucosal tissue that secretes digestive juices (which aid in the breakdown of food) and mucus (which facilitates the propulsion of food through the tract).\n",
      "- An interactive or media element has been excluded from this version of the text. You can view it online here: http://pressbooks.oer.hawaii.edu/ humannutrition2/?p=182   An interactive or media element has been excluded from this version of the text. You can view it online here: http://pressbooks.oer.hawaii.edu/ humannutrition2/?p=182 252 | Digestion and Absorption of Carbohydrates\n",
      "- All eleven organ systems in the human body require nutrient input to perform their specific biological functions. Overall health and the ability to carry out all of life’s basic processes is fueled by energy- supplying nutrients (carbohydrate, fat, and protein). Without them, organ systems would fail, humans would not reproduce, and the race would disappear. In this section, we will discuss some of the critical nutrients that support specific organ system functions. Learning Activities Technology Note: The second edition of the Human Nutrition Open Educational Resource (OER) textbook features interactive learning activities.  These activities are available in the web-based textbook and not available in the downloadable versions (EPUB, Digital PDF, Print_PDF, or Open Document). Learning activities may be used across various mobile devices, however, for the best user experience it is strongly recommended that users complete these activities using a desktop or laptop computer and in Google Chrome.   An interactive or media element has been excluded from this version of the text. You can view it online here: 80 | The Digestive System\n",
      "- Metabolic pathways of a cell down, it is not metabolically efficient for a cell to synthesize fatty acids and break them down at the same time. Catabolism of food molecules begins when food enters the mouth, as the enzyme salivary amylase initiates the breakdown of the starch in foods. The entire process of digestion converts the large polymers in food to monomers that can be absorbed. Starches are broken down to monosaccharides, lipids are broken down to fatty acids, and proteins are broken down to amino acids. These monomers are absorbed into the bloodstream either directly, as is the case with monosaccharides and amino acids, or repackaged in intestinal cells for transport by an indirect route through lymphatic vessels, as is the case with most fatty acids and other fat-soluble molecules. Once absorbed, water-soluble nutrients first travel to the liver which controls their passage into the blood that transports the nutrients to cells throughout the body. The fat-soluble nutrients gradually pass from the lymphatic vessels into blood flowing to body cells. Cells requiring energy or building blocks take up the nutrients from the blood and process them in either catabolic or anabolic pathways. The organ systems of the body require fuel and building blocks to perform the many functions of the body, such as digesting, absorbing, breathing, pumping blood, transporting nutrients in and wastes out, maintaining body temperature, and making new cells. Figure 8.3 Cellular Metabolic Processes The Atom | 463\n",
      "\n",
      "Relevant passages: <extract relevant passages from the context here>\n",
      "User query: Describe the process of digestion and absorption of nutrients in the human body.\n",
      "Answer:<end_of_turn>\n",
      "<start_of_turn>model\n",
      "\n"
     ]
    }
   ],
   "source": [
    "query = random.choice(query_list)\n",
    "scores , indices = retrieve_relevant_resources(query,embeddings)\n",
    "context_items = [pages_and_chunks[i] for i in indices]\n",
    "\n",
    "## formatting the prompt\n",
    "prompt = prompt_design(query,context_items)\n",
    "print(f\"Formatted Prompt :\\n{prompt}\")"
   ]
  },
  {
   "cell_type": "code",
   "execution_count": 103,
   "id": "bbe11cd7-b004-4212-83b9-59790ac55c72",
   "metadata": {
    "execution": {
     "iopub.execute_input": "2025-07-26T20:10:55.191812Z",
     "iopub.status.busy": "2025-07-26T20:10:55.191524Z",
     "iopub.status.idle": "2025-07-26T20:11:03.529075Z",
     "shell.execute_reply": "2025-07-26T20:11:03.528126Z",
     "shell.execute_reply.started": "2025-07-26T20:10:55.191792Z"
    },
    "trusted": true
   },
   "outputs": [
    {
     "name": "stdout",
     "output_type": "stream",
     "text": [
      "Query : Describe the process of digestion and absorption of nutrients in the human body.\n",
      "RAG Answer :\n",
      "<bos>Sure, here's a summary of the process of digestion and absorption of nutrients in the human body:\n",
      "\n",
      "**Step 1: The Process Begins in the Mouth**\n",
      "\n",
      "- When we feel hungry, our bodies send a message to the brain that we need food.\n",
      "- The brain interprets this message and triggers the release of digestive hormones and salivary amylase, an enzyme that starts breaking down starches into smaller molecules.\n",
      "\n",
      "**Step 2: The Food Journey through the Digestive System**\n",
      "\n",
      "- The small molecules from the food are then broken down into smaller and smaller molecules by enzymes in the mouth, stomach, and intestines.\n",
      "- The process also involves the mixing and churning of the food by the tongue, muscles, and saliva.\n",
      "\n",
      "**Step 3: Absorption of Nutrients**\n",
      "\n",
      "- Once the nutrients are broken down and dissolved into the digestive juices, they are absorbed through the walls of the digestive tract.\n",
      "- The digestive system is responsible for ensuring that nutrients from food are absorbed into the bloodstream.\n",
      "\n",
      "**Step 4: Transport of Nutrients to Cells**\n",
      "\n",
      "- Once the nutrients are absorbed, they are transported to the bloodstream through tiny blood vessels called capillaries.\n",
      "- The nutrients are carried by the bloodstream to the cells, where they are used for energy\n",
      "CPU times: user 8.34 s, sys: 0 ns, total: 8.34 s\n",
      "Wall time: 8.33 s\n"
     ]
    }
   ],
   "source": [
    "%%time\n",
    "input_ids = tokenizer(prompt,return_tensors=\"pt\").to(\"cuda\")\n",
    "outputs = llm_model.generate(**input_ids,\n",
    "                            temperature=0.7,\n",
    "                            do_sample=True,\n",
    "                            max_new_tokens=256)\n",
    "output_text = tokenizer.decode(outputs[0])\n",
    "print(f\"Query : {query}\")\n",
    "print(f\"RAG Answer :\\n{output_text.replace(prompt, '')}\")"
   ]
  },
  {
   "cell_type": "code",
   "execution_count": 104,
   "id": "b6e017c0-9fa9-449f-9c57-1484d9791ff5",
   "metadata": {
    "execution": {
     "iopub.execute_input": "2025-07-26T20:20:35.947997Z",
     "iopub.status.busy": "2025-07-26T20:20:35.947285Z",
     "iopub.status.idle": "2025-07-26T20:20:35.953820Z",
     "shell.execute_reply": "2025-07-26T20:20:35.953094Z",
     "shell.execute_reply.started": "2025-07-26T20:20:35.947971Z"
    },
    "trusted": true
   },
   "outputs": [],
   "source": [
    "## Putting it all together\n",
    "def ask(query:str,temperature:float=0.7,\n",
    "       max_new_tokens:int=256,\n",
    "       format_answer_text=True,\n",
    "       return_answer_only=True):\n",
    "    scores , indices = retrieve_relevant_resources(query,embeddings)\n",
    "    context_items    = [pages_and_chunks[i] for i in indices]\n",
    "    \n",
    "    for i,item in enumerate(context_items) : \n",
    "        item[\"score\"] = scores[i].cpu()\n",
    "    prompt = prompt_design(query,context_items)\n",
    "    input_ids = tokenizer(prompt,return_tensors=\"pt\").to(\"cuda\")\n",
    "    outputs = llm_model.generate(**input_ids,\n",
    "                            temperature=temperature,\n",
    "                            do_sample=True,\n",
    "                            max_new_tokens=max_new_tokens)\n",
    "    output_text = tokenizer.decode(outputs[0])\n",
    "\n",
    "    if format_answer_text :\n",
    "        output_text = output_text.replace(prompt, '').replace(\"<bos>\",\"\").replace(\"<eos>\",\"\")\n",
    "    if return_answer_only :\n",
    "        return output_text\n",
    "    return output_text , context_items\n",
    "        \n",
    "        "
   ]
  },
  {
   "cell_type": "code",
   "execution_count": 114,
   "id": "7ff19afe-d65d-4661-a2fe-ec709cd03cb1",
   "metadata": {
    "execution": {
     "iopub.execute_input": "2025-07-26T20:22:12.516734Z",
     "iopub.status.busy": "2025-07-26T20:22:12.516198Z",
     "iopub.status.idle": "2025-07-26T20:22:20.889605Z",
     "shell.execute_reply": "2025-07-26T20:22:20.888636Z",
     "shell.execute_reply.started": "2025-07-26T20:22:12.516714Z"
    },
    "trusted": true
   },
   "outputs": [
    {
     "name": "stdout",
     "output_type": "stream",
     "text": [
      "Query : Describe the process of digestion and absorption of nutrients in the human body.\n"
     ]
    },
    {
     "data": {
      "application/vnd.jupyter.widget-view+json": {
       "model_id": "d7594035ccb94963a7c6a2f8f2ef55f0",
       "version_major": 2,
       "version_minor": 0
      },
      "text/plain": [
       "Batches:   0%|          | 0/1 [00:00<?, ?it/s]"
      ]
     },
     "metadata": {},
     "output_type": "display_data"
    },
    {
     "name": "stdout",
     "output_type": "stream",
     "text": [
      "[INFO] Time taken to get scores on 1680 embeddings : 0.00023 seconds\n"
     ]
    },
    {
     "data": {
      "text/plain": [
       "\"Sure, here's a summary of the process of digestion and absorption of nutrients in the human body:\\n\\n**Step 1: Food Intake**\\n\\n* The process begins when the sense of hunger signals the brain. \\n* This triggers the release of hormones, including growth hormone, which stimulate the digestive system to break down food molecules into smaller components. \\n* The digestive system consists of several organs including the mouth, pharynx, esophagus, stomach, small intestine, large intestine (colon), rectum, and anus. \\n\\n**Step 2: Mechanical Digestion**\\n\\n* The food particles are then moved and mixed by the muscles of the digestive tract. \\n* This involves the physical breakdown of food molecules into smaller fragments. \\n* The process of breaking down food molecules into smaller components helps to make them more easily absorbed.\\n\\n**Step 3: Chemical Digestion**\\n\\n* Once the food molecules have been broken down into smaller fragments, they are then broken down into even smaller molecules by enzymes produced by the pancreas and salivary glands. \\n* These smaller molecules are then absorbed into the bloodstream through the walls of the digestive tract. \\n* The process of digestion also involves the absorption of water molecules, mineral ions, and vitamins into the bloodstream.\\n\\n\""
      ]
     },
     "execution_count": 114,
     "metadata": {},
     "output_type": "execute_result"
    }
   ],
   "source": [
    "query = random.choice(query_list)\n",
    "print(f\"Query : {query}\")\n",
    "ask(query)"
   ]
  }
 ],
 "metadata": {
  "kaggle": {
   "accelerator": "nvidiaTeslaT4",
   "dataSources": [
    {
     "datasetId": 7947045,
     "sourceId": 12582940,
     "sourceType": "datasetVersion"
    }
   ],
   "dockerImageVersionId": 31090,
   "isGpuEnabled": true,
   "isInternetEnabled": true,
   "language": "python",
   "sourceType": "notebook"
  },
  "kernelspec": {
   "display_name": "Python 3",
   "language": "python",
   "name": "python3"
  },
  "language_info": {
   "codemirror_mode": {
    "name": "ipython",
    "version": 3
   },
   "file_extension": ".py",
   "mimetype": "text/x-python",
   "name": "python",
   "nbconvert_exporter": "python",
   "pygments_lexer": "ipython3",
   "version": "3.12.10"
  }
 },
 "nbformat": 4,
 "nbformat_minor": 5
}
